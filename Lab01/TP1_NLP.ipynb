{
 "cells": [
  {
   "cell_type": "markdown",
   "metadata": {},
   "source": [
    "# Introduction to NLP"
   ]
  },
  {
   "cell_type": "markdown",
   "metadata": {},
   "source": [
    "##### TP1 done by Litoux Pierre, Arsenec Charles-André, Deplagne Hugo"
   ]
  },
  {
   "cell_type": "code",
   "execution_count": 1,
   "metadata": {},
   "outputs": [],
   "source": [
    "import matplotlib.pyplot as plt\n",
    "import pandas as pd\n",
    "import numpy as np\n",
    "from string import punctuation\n",
    "import functools\n",
    "from collections import defaultdict\n",
    "from sklearn.metrics import accuracy_score\n",
    "from sklearn.metrics import confusion_matrix, ConfusionMatrixDisplay"
   ]
  },
  {
   "cell_type": "markdown",
   "metadata": {},
   "source": [
    "# The dataset"
   ]
  },
  {
   "cell_type": "code",
   "execution_count": 2,
   "metadata": {},
   "outputs": [
    {
     "name": "stderr",
     "output_type": "stream",
     "text": [
      "Found cached dataset imdb (/home/coartix/.cache/huggingface/datasets/imdb/plain_text/1.0.0/d613c88cf8fa3bab83b4ded3713f1f74830d1100e171db75bbddb80b3345c9c0)\n"
     ]
    },
    {
     "data": {
      "application/vnd.jupyter.widget-view+json": {
       "model_id": "055c3d9d064046b29c5441ac987edc35",
       "version_major": 2,
       "version_minor": 0
      },
      "text/plain": [
       "  0%|          | 0/3 [00:00<?, ?it/s]"
      ]
     },
     "metadata": {},
     "output_type": "display_data"
    },
    {
     "data": {
      "text/plain": [
       "DatasetDict({\n",
       "    train: Dataset({\n",
       "        features: ['text', 'label'],\n",
       "        num_rows: 25000\n",
       "    })\n",
       "    test: Dataset({\n",
       "        features: ['text', 'label'],\n",
       "        num_rows: 25000\n",
       "    })\n",
       "    unsupervised: Dataset({\n",
       "        features: ['text', 'label'],\n",
       "        num_rows: 50000\n",
       "    })\n",
       "})"
      ]
     },
     "execution_count": 2,
     "metadata": {},
     "output_type": "execute_result"
    }
   ],
   "source": [
    "from datasets import load_dataset\n",
    "\n",
    "dataset = load_dataset(\"imdb\")\n",
    "dataset"
   ]
  },
  {
   "cell_type": "markdown",
   "metadata": {},
   "source": [
    "### 1. How many splits does the dataset has?\n",
    "The dataset has 3 splits (training, test, unsupervised).\n",
    "\n",
    "### 2. How big are these splits?\n",
    "train -> 25000 rows  \n",
    "test -> 25000 rows  \n",
    "unsupervised -> 50000 rows  \n",
    "A row contains a text and a value 0 or 1 corresponding respectively to a negative sentiment or a positive one."
   ]
  },
  {
   "cell_type": "markdown",
   "metadata": {},
   "source": [
    "##### We will create dataframes to manipulate the data in each splits :"
   ]
  },
  {
   "cell_type": "code",
   "execution_count": 3,
   "metadata": {},
   "outputs": [
    {
     "data": {
      "text/html": [
       "<div>\n",
       "<style scoped>\n",
       "    .dataframe tbody tr th:only-of-type {\n",
       "        vertical-align: middle;\n",
       "    }\n",
       "\n",
       "    .dataframe tbody tr th {\n",
       "        vertical-align: top;\n",
       "    }\n",
       "\n",
       "    .dataframe thead th {\n",
       "        text-align: right;\n",
       "    }\n",
       "</style>\n",
       "<table border=\"1\" class=\"dataframe\">\n",
       "  <thead>\n",
       "    <tr style=\"text-align: right;\">\n",
       "      <th></th>\n",
       "      <th>text</th>\n",
       "      <th>label</th>\n",
       "    </tr>\n",
       "  </thead>\n",
       "  <tbody>\n",
       "    <tr>\n",
       "      <th>0</th>\n",
       "      <td>I rented I AM CURIOUS-YELLOW from my video store because of all the controversy that surrounded ...</td>\n",
       "      <td>0</td>\n",
       "    </tr>\n",
       "    <tr>\n",
       "      <th>1</th>\n",
       "      <td>\"I Am Curious: Yellow\" is a risible and pretentious steaming pile. It doesn't matter what one's ...</td>\n",
       "      <td>0</td>\n",
       "    </tr>\n",
       "    <tr>\n",
       "      <th>2</th>\n",
       "      <td>If only to avoid making this type of film in the future. This film is interesting as an experime...</td>\n",
       "      <td>0</td>\n",
       "    </tr>\n",
       "    <tr>\n",
       "      <th>3</th>\n",
       "      <td>This film was probably inspired by Godard's Masculin, féminin and I urge you to see that film in...</td>\n",
       "      <td>0</td>\n",
       "    </tr>\n",
       "    <tr>\n",
       "      <th>4</th>\n",
       "      <td>Oh, brother...after hearing about this ridiculous film for umpteen years all I can think of is t...</td>\n",
       "      <td>0</td>\n",
       "    </tr>\n",
       "    <tr>\n",
       "      <th>...</th>\n",
       "      <td>...</td>\n",
       "      <td>...</td>\n",
       "    </tr>\n",
       "    <tr>\n",
       "      <th>24995</th>\n",
       "      <td>A hit at the time but now better categorised as an Australian cult film. The humour is broad, un...</td>\n",
       "      <td>1</td>\n",
       "    </tr>\n",
       "    <tr>\n",
       "      <th>24996</th>\n",
       "      <td>I love this movie like no other. Another time I will try to explain its virtues to the uninitiat...</td>\n",
       "      <td>1</td>\n",
       "    </tr>\n",
       "    <tr>\n",
       "      <th>24997</th>\n",
       "      <td>This film and it's sequel Barry Mckenzie holds his own, are the two greatest comedies to ever be...</td>\n",
       "      <td>1</td>\n",
       "    </tr>\n",
       "    <tr>\n",
       "      <th>24998</th>\n",
       "      <td>'The Adventures Of Barry McKenzie' started life as a satirical comic strip in 'Private Eye', wri...</td>\n",
       "      <td>1</td>\n",
       "    </tr>\n",
       "    <tr>\n",
       "      <th>24999</th>\n",
       "      <td>The story centers around Barry McKenzie who must go to England if he wishes to claim his inherit...</td>\n",
       "      <td>1</td>\n",
       "    </tr>\n",
       "  </tbody>\n",
       "</table>\n",
       "<p>25000 rows × 2 columns</p>\n",
       "</div>"
      ],
      "text/plain": [
       "                                                                                                      text  \\\n",
       "0      I rented I AM CURIOUS-YELLOW from my video store because of all the controversy that surrounded ...   \n",
       "1      \"I Am Curious: Yellow\" is a risible and pretentious steaming pile. It doesn't matter what one's ...   \n",
       "2      If only to avoid making this type of film in the future. This film is interesting as an experime...   \n",
       "3      This film was probably inspired by Godard's Masculin, féminin and I urge you to see that film in...   \n",
       "4      Oh, brother...after hearing about this ridiculous film for umpteen years all I can think of is t...   \n",
       "...                                                                                                    ...   \n",
       "24995  A hit at the time but now better categorised as an Australian cult film. The humour is broad, un...   \n",
       "24996  I love this movie like no other. Another time I will try to explain its virtues to the uninitiat...   \n",
       "24997  This film and it's sequel Barry Mckenzie holds his own, are the two greatest comedies to ever be...   \n",
       "24998  'The Adventures Of Barry McKenzie' started life as a satirical comic strip in 'Private Eye', wri...   \n",
       "24999  The story centers around Barry McKenzie who must go to England if he wishes to claim his inherit...   \n",
       "\n",
       "       label  \n",
       "0          0  \n",
       "1          0  \n",
       "2          0  \n",
       "3          0  \n",
       "4          0  \n",
       "...      ...  \n",
       "24995      1  \n",
       "24996      1  \n",
       "24997      1  \n",
       "24998      1  \n",
       "24999      1  \n",
       "\n",
       "[25000 rows x 2 columns]"
      ]
     },
     "execution_count": 3,
     "metadata": {},
     "output_type": "execute_result"
    }
   ],
   "source": [
    "pd.set_option('display.max_colwidth', 100)\n",
    "df_train = pd.DataFrame(dataset['train'])\n",
    "df_train"
   ]
  },
  {
   "cell_type": "code",
   "execution_count": 4,
   "metadata": {},
   "outputs": [
    {
     "data": {
      "text/html": [
       "<div>\n",
       "<style scoped>\n",
       "    .dataframe tbody tr th:only-of-type {\n",
       "        vertical-align: middle;\n",
       "    }\n",
       "\n",
       "    .dataframe tbody tr th {\n",
       "        vertical-align: top;\n",
       "    }\n",
       "\n",
       "    .dataframe thead th {\n",
       "        text-align: right;\n",
       "    }\n",
       "</style>\n",
       "<table border=\"1\" class=\"dataframe\">\n",
       "  <thead>\n",
       "    <tr style=\"text-align: right;\">\n",
       "      <th></th>\n",
       "      <th>text</th>\n",
       "      <th>label</th>\n",
       "    </tr>\n",
       "  </thead>\n",
       "  <tbody>\n",
       "    <tr>\n",
       "      <th>0</th>\n",
       "      <td>I love sci-fi and am willing to put up with a lot. Sci-fi movies/TV are usually underfunded, und...</td>\n",
       "      <td>0</td>\n",
       "    </tr>\n",
       "    <tr>\n",
       "      <th>1</th>\n",
       "      <td>Worth the entertainment value of a rental, especially if you like action movies. This one featur...</td>\n",
       "      <td>0</td>\n",
       "    </tr>\n",
       "    <tr>\n",
       "      <th>2</th>\n",
       "      <td>its a totally average film with a few semi-alright action sequences that make the plot seem a li...</td>\n",
       "      <td>0</td>\n",
       "    </tr>\n",
       "    <tr>\n",
       "      <th>3</th>\n",
       "      <td>STAR RATING: ***** Saturday Night **** Friday Night *** Friday Morning ** Sunday Night * Monday ...</td>\n",
       "      <td>0</td>\n",
       "    </tr>\n",
       "    <tr>\n",
       "      <th>4</th>\n",
       "      <td>First off let me say, If you haven't enjoyed a Van Damme movie since bloodsport, you probably wi...</td>\n",
       "      <td>0</td>\n",
       "    </tr>\n",
       "    <tr>\n",
       "      <th>...</th>\n",
       "      <td>...</td>\n",
       "      <td>...</td>\n",
       "    </tr>\n",
       "    <tr>\n",
       "      <th>24995</th>\n",
       "      <td>Just got around to seeing Monster Man yesterday. It had been a long wait and after lots of antic...</td>\n",
       "      <td>1</td>\n",
       "    </tr>\n",
       "    <tr>\n",
       "      <th>24996</th>\n",
       "      <td>I got this as part of a competition prize. I watched it, not really expecting much from an obvio...</td>\n",
       "      <td>1</td>\n",
       "    </tr>\n",
       "    <tr>\n",
       "      <th>24997</th>\n",
       "      <td>I got Monster Man in a box set of three films where I mainly wanted the other two but still had ...</td>\n",
       "      <td>1</td>\n",
       "    </tr>\n",
       "    <tr>\n",
       "      <th>24998</th>\n",
       "      <td>Five minutes in, i started to feel how naff this was looking, you've got a completely unheroic h...</td>\n",
       "      <td>1</td>\n",
       "    </tr>\n",
       "    <tr>\n",
       "      <th>24999</th>\n",
       "      <td>I caught this movie on the Sci-Fi channel recently. It actually turned out to be pretty decent a...</td>\n",
       "      <td>1</td>\n",
       "    </tr>\n",
       "  </tbody>\n",
       "</table>\n",
       "<p>25000 rows × 2 columns</p>\n",
       "</div>"
      ],
      "text/plain": [
       "                                                                                                      text  \\\n",
       "0      I love sci-fi and am willing to put up with a lot. Sci-fi movies/TV are usually underfunded, und...   \n",
       "1      Worth the entertainment value of a rental, especially if you like action movies. This one featur...   \n",
       "2      its a totally average film with a few semi-alright action sequences that make the plot seem a li...   \n",
       "3      STAR RATING: ***** Saturday Night **** Friday Night *** Friday Morning ** Sunday Night * Monday ...   \n",
       "4      First off let me say, If you haven't enjoyed a Van Damme movie since bloodsport, you probably wi...   \n",
       "...                                                                                                    ...   \n",
       "24995  Just got around to seeing Monster Man yesterday. It had been a long wait and after lots of antic...   \n",
       "24996  I got this as part of a competition prize. I watched it, not really expecting much from an obvio...   \n",
       "24997  I got Monster Man in a box set of three films where I mainly wanted the other two but still had ...   \n",
       "24998  Five minutes in, i started to feel how naff this was looking, you've got a completely unheroic h...   \n",
       "24999  I caught this movie on the Sci-Fi channel recently. It actually turned out to be pretty decent a...   \n",
       "\n",
       "       label  \n",
       "0          0  \n",
       "1          0  \n",
       "2          0  \n",
       "3          0  \n",
       "4          0  \n",
       "...      ...  \n",
       "24995      1  \n",
       "24996      1  \n",
       "24997      1  \n",
       "24998      1  \n",
       "24999      1  \n",
       "\n",
       "[25000 rows x 2 columns]"
      ]
     },
     "execution_count": 4,
     "metadata": {},
     "output_type": "execute_result"
    }
   ],
   "source": [
    "df_test = pd.DataFrame(dataset['test'])\n",
    "df_test"
   ]
  },
  {
   "cell_type": "code",
   "execution_count": 5,
   "metadata": {},
   "outputs": [
    {
     "data": {
      "text/html": [
       "<div>\n",
       "<style scoped>\n",
       "    .dataframe tbody tr th:only-of-type {\n",
       "        vertical-align: middle;\n",
       "    }\n",
       "\n",
       "    .dataframe tbody tr th {\n",
       "        vertical-align: top;\n",
       "    }\n",
       "\n",
       "    .dataframe thead th {\n",
       "        text-align: right;\n",
       "    }\n",
       "</style>\n",
       "<table border=\"1\" class=\"dataframe\">\n",
       "  <thead>\n",
       "    <tr style=\"text-align: right;\">\n",
       "      <th></th>\n",
       "      <th>text</th>\n",
       "      <th>label</th>\n",
       "    </tr>\n",
       "  </thead>\n",
       "  <tbody>\n",
       "    <tr>\n",
       "      <th>0</th>\n",
       "      <td>This is just a precious little diamond. The play, the script are excellent. I cant compare this ...</td>\n",
       "      <td>-1</td>\n",
       "    </tr>\n",
       "    <tr>\n",
       "      <th>1</th>\n",
       "      <td>When I say this is my favourite film of all time, that comment is not to be taken lightly. I pro...</td>\n",
       "      <td>-1</td>\n",
       "    </tr>\n",
       "    <tr>\n",
       "      <th>2</th>\n",
       "      <td>I saw this movie because I am a huge fan of the TV series of the same name starring Roy Dupuis a...</td>\n",
       "      <td>-1</td>\n",
       "    </tr>\n",
       "    <tr>\n",
       "      <th>3</th>\n",
       "      <td>Being that the only foreign films I usually like star a Japanese person in a rubber suit who cru...</td>\n",
       "      <td>-1</td>\n",
       "    </tr>\n",
       "    <tr>\n",
       "      <th>4</th>\n",
       "      <td>After seeing Point of No Return (a great movie) and being told that the original was better, I w...</td>\n",
       "      <td>-1</td>\n",
       "    </tr>\n",
       "    <tr>\n",
       "      <th>...</th>\n",
       "      <td>...</td>\n",
       "      <td>...</td>\n",
       "    </tr>\n",
       "    <tr>\n",
       "      <th>49995</th>\n",
       "      <td>License To Kill (1989) is an inanely dismal installment to the Bond franchise that is best forgo...</td>\n",
       "      <td>-1</td>\n",
       "    </tr>\n",
       "    <tr>\n",
       "      <th>49996</th>\n",
       "      <td>I love watching a James Bond. It's not very intellectual, granted, but it's fun. I know the basi...</td>\n",
       "      <td>-1</td>\n",
       "    </tr>\n",
       "    <tr>\n",
       "      <th>49997</th>\n",
       "      <td>I can't decide what was the worst thing about this movie. The bad plot, terrible acting, cheesy ...</td>\n",
       "      <td>-1</td>\n",
       "    </tr>\n",
       "    <tr>\n",
       "      <th>49998</th>\n",
       "      <td>UGH... As an adorer of the James Bond character, I have to call Timothy Dalton a sacrilege! And ...</td>\n",
       "      <td>-1</td>\n",
       "    </tr>\n",
       "    <tr>\n",
       "      <th>49999</th>\n",
       "      <td>I do firmly believe that the revue on this film is highly unfair. The \"If You like this try...\" ...</td>\n",
       "      <td>-1</td>\n",
       "    </tr>\n",
       "  </tbody>\n",
       "</table>\n",
       "<p>50000 rows × 2 columns</p>\n",
       "</div>"
      ],
      "text/plain": [
       "                                                                                                      text  \\\n",
       "0      This is just a precious little diamond. The play, the script are excellent. I cant compare this ...   \n",
       "1      When I say this is my favourite film of all time, that comment is not to be taken lightly. I pro...   \n",
       "2      I saw this movie because I am a huge fan of the TV series of the same name starring Roy Dupuis a...   \n",
       "3      Being that the only foreign films I usually like star a Japanese person in a rubber suit who cru...   \n",
       "4      After seeing Point of No Return (a great movie) and being told that the original was better, I w...   \n",
       "...                                                                                                    ...   \n",
       "49995  License To Kill (1989) is an inanely dismal installment to the Bond franchise that is best forgo...   \n",
       "49996  I love watching a James Bond. It's not very intellectual, granted, but it's fun. I know the basi...   \n",
       "49997  I can't decide what was the worst thing about this movie. The bad plot, terrible acting, cheesy ...   \n",
       "49998  UGH... As an adorer of the James Bond character, I have to call Timothy Dalton a sacrilege! And ...   \n",
       "49999  I do firmly believe that the revue on this film is highly unfair. The \"If You like this try...\" ...   \n",
       "\n",
       "       label  \n",
       "0         -1  \n",
       "1         -1  \n",
       "2         -1  \n",
       "3         -1  \n",
       "4         -1  \n",
       "...      ...  \n",
       "49995     -1  \n",
       "49996     -1  \n",
       "49997     -1  \n",
       "49998     -1  \n",
       "49999     -1  \n",
       "\n",
       "[50000 rows x 2 columns]"
      ]
     },
     "execution_count": 5,
     "metadata": {},
     "output_type": "execute_result"
    }
   ],
   "source": [
    "df_unsupervised = pd.DataFrame(dataset['unsupervised'])\n",
    "df_unsupervised"
   ]
  },
  {
   "cell_type": "markdown",
   "metadata": {},
   "source": [
    "#### 3. What is the proportion of each class on the supervised splits?\n",
    "\n",
    "Here is a plot counting the number of each class into train and test splits :"
   ]
  },
  {
   "cell_type": "code",
   "execution_count": 6,
   "metadata": {},
   "outputs": [
    {
     "data": {
      "image/png": "[encoded data removed]",
      "text/plain": [
       "<Figure size 1000x300 with 2 Axes>"
      ]
     },
     "metadata": {},
     "output_type": "display_data"
    }
   ],
   "source": [
    "fig, ax = plt.subplots(1, 2, figsize=(10, 3))\n",
    "for i, df, df_str in zip([0, 1], [df_train, df_test], ['df_train', 'df_test']):\n",
    "    ax[i].set_xticks([0, 1])\n",
    "    ax[i].set_yticks([0, df['label'].value_counts().max()])\n",
    "    ax[i].hist(df['label'])\n",
    "    ax[i].set_xlabel('label')\n",
    "    ax[i].set_ylabel('count')\n",
    "    ax[i].set_title(df_str)\n",
    "\n",
    "plt.show()"
   ]
  },
  {
   "cell_type": "code",
   "execution_count": 7,
   "metadata": {},
   "outputs": [
    {
     "data": {
      "text/plain": [
       "array([0, 1])"
      ]
     },
     "execution_count": 7,
     "metadata": {},
     "output_type": "execute_result"
    }
   ],
   "source": [
    "labels = df_train[\"label\"].unique()\n",
    "labels"
   ]
  },
  {
   "cell_type": "markdown",
   "metadata": {},
   "source": [
    "The classes are either 0 or 1. Each classes count up for 12500 on each splits (test and train)."
   ]
  },
  {
   "cell_type": "markdown",
   "metadata": {},
   "source": [
    "## Naive Bayes classifier\n"
   ]
  },
  {
   "cell_type": "markdown",
   "metadata": {},
   "source": [
    "#### 1. Preprocessing"
   ]
  },
  {
   "cell_type": "markdown",
   "metadata": {},
   "source": [
    "We will lower the text to not duplicate words that may be the same with capitals.  \n",
    "Some texts contain some html like \"<br \\/>\" or punctuations which are not necessary. <br> Let remove them except for '-' which may be useful to keep."
   ]
  },
  {
   "cell_type": "code",
   "execution_count": 8,
   "metadata": {},
   "outputs": [],
   "source": [
    "def preprocessingString(text: str) -> str:\n",
    "    '''\n",
    "        Preprocessing string\n",
    "        Input:\n",
    "            text: string\n",
    "        Output:\n",
    "            text: string\n",
    "    '''\n",
    "    text = text.lower().replace(\"<br />\", \" \")\n",
    "    for punct in punctuation:\n",
    "        if (not punct in str(\"-\")):\n",
    "            text = text.replace(punct, \" \")\n",
    "    return text"
   ]
  },
  {
   "cell_type": "code",
   "execution_count": 9,
   "metadata": {},
   "outputs": [
    {
     "data": {
      "text/html": [
       "<div>\n",
       "<style scoped>\n",
       "    .dataframe tbody tr th:only-of-type {\n",
       "        vertical-align: middle;\n",
       "    }\n",
       "\n",
       "    .dataframe tbody tr th {\n",
       "        vertical-align: top;\n",
       "    }\n",
       "\n",
       "    .dataframe thead th {\n",
       "        text-align: right;\n",
       "    }\n",
       "</style>\n",
       "<table border=\"1\" class=\"dataframe\">\n",
       "  <thead>\n",
       "    <tr style=\"text-align: right;\">\n",
       "      <th></th>\n",
       "      <th>text</th>\n",
       "      <th>label</th>\n",
       "    </tr>\n",
       "  </thead>\n",
       "  <tbody>\n",
       "    <tr>\n",
       "      <th>0</th>\n",
       "      <td>i rented i am curious-yellow from my video store because of all the controversy that surrounded ...</td>\n",
       "      <td>0</td>\n",
       "    </tr>\n",
       "    <tr>\n",
       "      <th>1</th>\n",
       "      <td>i am curious  yellow  is a risible and pretentious steaming pile  it doesn t matter what one s ...</td>\n",
       "      <td>0</td>\n",
       "    </tr>\n",
       "    <tr>\n",
       "      <th>2</th>\n",
       "      <td>if only to avoid making this type of film in the future  this film is interesting as an experime...</td>\n",
       "      <td>0</td>\n",
       "    </tr>\n",
       "    <tr>\n",
       "      <th>3</th>\n",
       "      <td>this film was probably inspired by godard s masculin  féminin and i urge you to see that film in...</td>\n",
       "      <td>0</td>\n",
       "    </tr>\n",
       "    <tr>\n",
       "      <th>4</th>\n",
       "      <td>oh  brother   after hearing about this ridiculous film for umpteen years all i can think of is t...</td>\n",
       "      <td>0</td>\n",
       "    </tr>\n",
       "  </tbody>\n",
       "</table>\n",
       "</div>"
      ],
      "text/plain": [
       "                                                                                                  text  \\\n",
       "0  i rented i am curious-yellow from my video store because of all the controversy that surrounded ...   \n",
       "1   i am curious  yellow  is a risible and pretentious steaming pile  it doesn t matter what one s ...   \n",
       "2  if only to avoid making this type of film in the future  this film is interesting as an experime...   \n",
       "3  this film was probably inspired by godard s masculin  féminin and i urge you to see that film in...   \n",
       "4  oh  brother   after hearing about this ridiculous film for umpteen years all i can think of is t...   \n",
       "\n",
       "   label  \n",
       "0      0  \n",
       "1      0  \n",
       "2      0  \n",
       "3      0  \n",
       "4      0  "
      ]
     },
     "execution_count": 9,
     "metadata": {},
     "output_type": "execute_result"
    }
   ],
   "source": [
    "df_train['text'] = df_train['text'].apply(lambda text: preprocessingString(text))\n",
    "df_train.head()"
   ]
  },
  {
   "cell_type": "code",
   "execution_count": 10,
   "metadata": {},
   "outputs": [
    {
     "data": {
      "text/html": [
       "<div>\n",
       "<style scoped>\n",
       "    .dataframe tbody tr th:only-of-type {\n",
       "        vertical-align: middle;\n",
       "    }\n",
       "\n",
       "    .dataframe tbody tr th {\n",
       "        vertical-align: top;\n",
       "    }\n",
       "\n",
       "    .dataframe thead th {\n",
       "        text-align: right;\n",
       "    }\n",
       "</style>\n",
       "<table border=\"1\" class=\"dataframe\">\n",
       "  <thead>\n",
       "    <tr style=\"text-align: right;\">\n",
       "      <th></th>\n",
       "      <th>text</th>\n",
       "      <th>label</th>\n",
       "    </tr>\n",
       "  </thead>\n",
       "  <tbody>\n",
       "    <tr>\n",
       "      <th>0</th>\n",
       "      <td>i love sci-fi and am willing to put up with a lot  sci-fi movies tv are usually underfunded  und...</td>\n",
       "      <td>0</td>\n",
       "    </tr>\n",
       "    <tr>\n",
       "      <th>1</th>\n",
       "      <td>worth the entertainment value of a rental  especially if you like action movies  this one featur...</td>\n",
       "      <td>0</td>\n",
       "    </tr>\n",
       "    <tr>\n",
       "      <th>2</th>\n",
       "      <td>its a totally average film with a few semi-alright action sequences that make the plot seem a li...</td>\n",
       "      <td>0</td>\n",
       "    </tr>\n",
       "    <tr>\n",
       "      <th>3</th>\n",
       "      <td>star rating        saturday night      friday night     friday morning    sunday night   monday ...</td>\n",
       "      <td>0</td>\n",
       "    </tr>\n",
       "    <tr>\n",
       "      <th>4</th>\n",
       "      <td>first off let me say  if you haven t enjoyed a van damme movie since bloodsport  you probably wi...</td>\n",
       "      <td>0</td>\n",
       "    </tr>\n",
       "  </tbody>\n",
       "</table>\n",
       "</div>"
      ],
      "text/plain": [
       "                                                                                                  text  \\\n",
       "0  i love sci-fi and am willing to put up with a lot  sci-fi movies tv are usually underfunded  und...   \n",
       "1  worth the entertainment value of a rental  especially if you like action movies  this one featur...   \n",
       "2  its a totally average film with a few semi-alright action sequences that make the plot seem a li...   \n",
       "3  star rating        saturday night      friday night     friday morning    sunday night   monday ...   \n",
       "4  first off let me say  if you haven t enjoyed a van damme movie since bloodsport  you probably wi...   \n",
       "\n",
       "   label  \n",
       "0      0  \n",
       "1      0  \n",
       "2      0  \n",
       "3      0  \n",
       "4      0  "
      ]
     },
     "execution_count": 10,
     "metadata": {},
     "output_type": "execute_result"
    }
   ],
   "source": [
    "df_test['text'] = df_test['text'].apply(lambda text: preprocessingString(text))\n",
    "df_test.head()"
   ]
  },
  {
   "cell_type": "markdown",
   "metadata": {},
   "source": [
    "#### 2. Naive Bayes from Scratch"
   ]
  },
  {
   "cell_type": "code",
   "execution_count": 11,
   "metadata": {},
   "outputs": [],
   "source": [
    "def trainNaiveBayes(df: pd.DataFrame, classes: list) -> tuple:\n",
    "    '''\n",
    "        Input:\n",
    "            df: dataframe\n",
    "            classes: list of classes\n",
    "        Output:\n",
    "            log_prior: list of log prior of each class\n",
    "            loglikehood: list of log likehood of each class\n",
    "            vocabulary: set of vocabulary\n",
    "    '''\n",
    "    log_prior = []\n",
    "    loglikehood = []\n",
    "    vocabulary = set(str().join((df['text'])).split(\" \"))\n",
    "    n_doc = df.shape[0]\n",
    "    \n",
    "    for class_c in classes:\n",
    "        n_class = df[df['label'] == class_c].shape[0]\n",
    "        log_prior.append(np.log(n_class / n_doc))\n",
    "        big_doc = str().join((df[df['label'] == class_c]['text'])).split(\" \")\n",
    "        \n",
    "        d = defaultdict(int)\n",
    "        for word in big_doc:\n",
    "           d[word] += 1 \n",
    "        sumcount_v = sum(d.values()) + len(vocabulary)\n",
    "        \n",
    "        loglikehood_c = {}\n",
    "        for word in vocabulary:\n",
    "            loglikehood_c[word] = np.log((d[word] + 1) / sumcount_v)\n",
    "        loglikehood.append(loglikehood_c)\n",
    "    \n",
    "    return log_prior, loglikehood, vocabulary"
   ]
  },
  {
   "cell_type": "code",
   "execution_count": 12,
   "metadata": {},
   "outputs": [],
   "source": [
    "logprior, loglikehood, vocabulary = trainNaiveBayes(df_train, labels)"
   ]
  },
  {
   "cell_type": "code",
   "execution_count": 13,
   "metadata": {},
   "outputs": [],
   "source": [
    "def testNaiveBayes(testdoc: str, logprior: list, loglikehood: list, classes: list, vocabulary: set) -> int:\n",
    "    '''\n",
    "        Input:\n",
    "            testdoc: string\n",
    "            log_prior: list of log prior of each class\n",
    "            loglikehood: list of log likehood of each class\n",
    "            classes: list of classes\n",
    "            vocabulary: set of vocabulary\n",
    "        Output:\n",
    "            class: class of testdoc\n",
    "    '''\n",
    "    probabilty_class = {}\n",
    "    for classes_c in classes:\n",
    "        probabilty_class[classes_c] = logprior[classes_c]\n",
    "        for word in testdoc.split():\n",
    "            if (word in vocabulary):\n",
    "                probabilty_class[classes_c] += loglikehood[classes_c][word]\n",
    "    return np.argmax(list(probabilty_class.values()))"
   ]
  },
  {
   "cell_type": "code",
   "execution_count": 14,
   "metadata": {},
   "outputs": [
    {
     "data": {
      "text/plain": [
       "0.8156"
      ]
     },
     "execution_count": 14,
     "metadata": {},
     "output_type": "execute_result"
    }
   ],
   "source": [
    "# Testing the scratch implementation on the test set\n",
    "y_pred = df_test['text'].apply(lambda text : testNaiveBayes(text, logprior, loglikehood, labels, vocabulary))\n",
    "y_true = df_test['label']\n",
    "accuracy = accuracy_score(y_true, y_pred)\n",
    "accuracy"
   ]
  },
  {
   "cell_type": "markdown",
   "metadata": {},
   "source": [
    "#### 3. Naive Bayes from Scikit-learn"
   ]
  },
  {
   "cell_type": "code",
   "execution_count": 15,
   "metadata": {},
   "outputs": [
    {
     "data": {
      "text/plain": [
       "0.81432"
      ]
     },
     "execution_count": 15,
     "metadata": {},
     "output_type": "execute_result"
    }
   ],
   "source": [
    "from sklearn.naive_bayes import MultinomialNB\n",
    "from sklearn.feature_extraction.text import CountVectorizer\n",
    "from sklearn.pipeline import Pipeline\n",
    "\n",
    "PipelineNB = Pipeline([('vect', CountVectorizer()),\n",
    "                       ('clf', MultinomialNB())])\n",
    "PipelineNB.fit(df_train['text'], df_train['label'])\n",
    "\n",
    "y_pred = PipelineNB.predict(df_test['text'])\n",
    "y_true = df_test['label']\n",
    "accuracy = accuracy_score(y_true, y_pred)\n",
    "accuracy"
   ]
  },
  {
   "cell_type": "markdown",
   "metadata": {},
   "source": [
    "#### 4. Accuracy report"
   ]
  },
  {
   "cell_type": "code",
   "execution_count": 16,
   "metadata": {},
   "outputs": [
    {
     "name": "stdout",
     "output_type": "stream",
     "text": [
      "Own implementation - Training set accuracy:  0.90312\n",
      "Own implementation - Test set accuracy:  0.8156\n",
      "Scikit-learn implementation - Training set accuracy:  0.89768\n",
      "Scikit-learn implementation - Test set accuracy:  0.81432\n"
     ]
    }
   ],
   "source": [
    "# Own implementation\n",
    "# Training set\n",
    "y_pred = df_train['text'].apply(lambda text : testNaiveBayes(text, logprior, loglikehood, labels, vocabulary))\n",
    "y_true = df_train['label']\n",
    "print(\"Own implementation - Training set accuracy: \", accuracy_score(y_true, y_pred))\n",
    "\n",
    "# Test set\n",
    "y_pred = df_test['text'].apply(lambda text : testNaiveBayes(text, logprior, loglikehood, labels, vocabulary))\n",
    "y_true = df_test['label']\n",
    "print(\"Own implementation - Test set accuracy: \", accuracy_score(y_true, y_pred))\n",
    "\n",
    "# Scikit-learn implementation\n",
    "# Training set\n",
    "y_pred = PipelineNB.predict(df_train['text'])\n",
    "y_true = df_train['label']\n",
    "print(\"Scikit-learn implementation - Training set accuracy: \", accuracy_score(y_true, y_pred))\n",
    "\n",
    "# Test set\n",
    "y_pred = PipelineNB.predict(df_test['text'])\n",
    "y_true = df_test['label']\n",
    "print(\"Scikit-learn implementation - Test set accuracy: \", accuracy_score(y_true, y_pred))"
   ]
  },
  {
   "cell_type": "code",
   "execution_count": 17,
   "metadata": {},
   "outputs": [
    {
     "data": {
      "image/png": "[encoded data removed]",
      "text/plain": [
       "<Figure size 1000x500 with 4 Axes>"
      ]
     },
     "metadata": {},
     "output_type": "display_data"
    }
   ],
   "source": [
    "# Displaying the confusion matrix\n",
    "cm = confusion_matrix(y_true, y_pred)\n",
    "cmn = cm.astype('float') / cm.sum(axis=1)[:, np.newaxis]\n",
    "\n",
    "fig = plt.figure(figsize=(10, 5))\n",
    "fig.suptitle('Accuracy', fontsize=16)\n",
    "\n",
    "for i, cm in zip([1, 2], [cm, cmn]):\n",
    "    disp = ConfusionMatrixDisplay(confusion_matrix=cm)\n",
    "    ax = plt.subplot(1, 2, i)\n",
    "    disp.plot(ax=ax)\n",
    "    \n",
    "fig.tight_layout(pad=2)\n",
    "plt.show()\n"
   ]
  },
  {
   "cell_type": "markdown",
   "metadata": {},
   "source": [
    "#### 5. Most likely, the scikit-learn implementation will give better results. Looking at the documentation, explain why it could be the case."
   ]
  },
  {
   "cell_type": "markdown",
   "metadata": {},
   "source": [
    "This could be explained because the multinomial Naive Bayes classifier is better suited for classification with discrete features."
   ]
  },
  {
   "cell_type": "markdown",
   "metadata": {},
   "source": [
    "#### 6. Why is accuracy a sufficient measure of evaluation here?"
   ]
  },
  {
   "cell_type": "markdown",
   "metadata": {},
   "source": [
    "Because there is only 2 classes so on a test the prediction is either true or false. This is well represented by a proportion of valid and wrong tests."
   ]
  },
  {
   "cell_type": "markdown",
   "metadata": {},
   "source": [
    "#### 7. Using one of the implementation, take at least 2 wrongly classified example from the test set and try explaining why the model failed."
   ]
  },
  {
   "cell_type": "markdown",
   "metadata": {},
   "source": [
    "We will use our own implementation and show two texts where the implementation failed to predict the right class :"
   ]
  },
  {
   "cell_type": "code",
   "execution_count": 18,
   "metadata": {},
   "outputs": [
    {
     "data": {
      "text/html": [
       "<div>\n",
       "<style scoped>\n",
       "    .dataframe tbody tr th:only-of-type {\n",
       "        vertical-align: middle;\n",
       "    }\n",
       "\n",
       "    .dataframe tbody tr th {\n",
       "        vertical-align: top;\n",
       "    }\n",
       "\n",
       "    .dataframe thead th {\n",
       "        text-align: right;\n",
       "    }\n",
       "</style>\n",
       "<table border=\"1\" class=\"dataframe\">\n",
       "  <thead>\n",
       "    <tr style=\"text-align: right;\">\n",
       "      <th></th>\n",
       "      <th>text</th>\n",
       "      <th>label</th>\n",
       "    </tr>\n",
       "  </thead>\n",
       "  <tbody>\n",
       "    <tr>\n",
       "      <th>11</th>\n",
       "      <td>blind date  columbia pictures  1934   was a decent film  but i have a few issues with this film  first of all  i don t fault the actors in this film at all  but more or less  i have a problem with the script  also  i understand that this film was made in the 1930 s and people were looking to escape reality  but the script made ann sothern s character look weak  she kept going back and forth between suitors and i felt as though she should have stayed with paul kelly s character in the end  he truly did care about her and her family and would have done anything for her and he did by giving her up in the end to fickle neil hamilton who in my opinion was only out for a good time  paul kelly s character  although a workaholic was a man of integrity and truly loved kitty  ann sothern  as opposed to neil hamilton  while he did like her a lot  i didn t see the depth of love that he had for her character  the production values were great  but the script could have used a little work</td>\n",
       "      <td>0</td>\n",
       "    </tr>\n",
       "    <tr>\n",
       "      <th>24999</th>\n",
       "      <td>i caught this movie on the sci-fi channel recently  it actually turned out to be pretty decent as far as b-list horror suspense films go  two guys  one naive and one loud mouthed a    take a road trip to stop a wedding but have the worst possible luck when a maniac in a freaky  make-shift tank truck hybrid decides to play cat-and-mouse with them  things are further complicated when they pick up a ridiculously whorish hitchhiker  what makes this film unique is that the combination of comedy and terror actually work in this movie  unlike so many others  the two guys are likable enough and there are some good chase suspense scenes  nice pacing and comic timing make this movie more than passable for the horror slasher buff  definitely worth checking out</td>\n",
       "      <td>1</td>\n",
       "    </tr>\n",
       "  </tbody>\n",
       "</table>\n",
       "</div>"
      ],
      "text/plain": [
       "                                                                                                                                                                                                                                                                                                                                                                                                                                                                                                                                                                                                                                                                                                                                                                                                                                                                                                                                                                                                                                text  \\\n",
       "11     blind date  columbia pictures  1934   was a decent film  but i have a few issues with this film  first of all  i don t fault the actors in this film at all  but more or less  i have a problem with the script  also  i understand that this film was made in the 1930 s and people were looking to escape reality  but the script made ann sothern s character look weak  she kept going back and forth between suitors and i felt as though she should have stayed with paul kelly s character in the end  he truly did care about her and her family and would have done anything for her and he did by giving her up in the end to fickle neil hamilton who in my opinion was only out for a good time  paul kelly s character  although a workaholic was a man of integrity and truly loved kitty  ann sothern  as opposed to neil hamilton  while he did like her a lot  i didn t see the depth of love that he had for her character  the production values were great  but the script could have used a little work    \n",
       "24999                                                                                                                                                                                                                                       i caught this movie on the sci-fi channel recently  it actually turned out to be pretty decent as far as b-list horror suspense films go  two guys  one naive and one loud mouthed a    take a road trip to stop a wedding but have the worst possible luck when a maniac in a freaky  make-shift tank truck hybrid decides to play cat-and-mouse with them  things are further complicated when they pick up a ridiculously whorish hitchhiker  what makes this film unique is that the combination of comedy and terror actually work in this movie  unlike so many others  the two guys are likable enough and there are some good chase suspense scenes  nice pacing and comic timing make this movie more than passable for the horror slasher buff  definitely worth checking out    \n",
       "\n",
       "       label  \n",
       "11         0  \n",
       "24999      1  "
      ]
     },
     "execution_count": 18,
     "metadata": {},
     "output_type": "execute_result"
    }
   ],
   "source": [
    "y_pred = df_test['text'].apply(lambda text : testNaiveBayes(text, logprior, loglikehood, labels, vocabulary))\n",
    "y_true = df_test['label']\n",
    "\n",
    "df_wrong_pred = df_test[y_true != y_pred]\n",
    "\n",
    "pd.set_option('display.max_colwidth', None)\n",
    "df_wrong_pred.iloc[[0, -1]]\n"
   ]
  },
  {
   "cell_type": "markdown",
   "metadata": {},
   "source": [
    "Here is two examples where the program should have return a class 0 and 1 (negative, positive).  \n",
    "  \n",
    "-> The first one was predicted negative and the second one positive although both predictions are false. This could be explained by the fact that each of them uses rarely used words that pushes them onto a class even though it is not representative of that specific class. Words like 'paul', 'kelly', 'kitty', 'ann', 'neil', 'hamilton', 'columbia' in the first text. And 'whorish', 'slasher', 'buff', 'sci', 'fi' on the second one."
   ]
  },
  {
   "cell_type": "markdown",
   "metadata": {},
   "source": [
    "#### 8. [BONUS] What are the top 10 most important words (features) for each class?"
   ]
  },
  {
   "cell_type": "code",
   "execution_count": 19,
   "metadata": {},
   "outputs": [
    {
     "name": "stderr",
     "output_type": "stream",
     "text": [
      "[nltk_data] Downloading package stopwords to\n",
      "[nltk_data]     /home/coartix/nltk_data...\n",
      "[nltk_data]   Package stopwords is already up-to-date!\n"
     ]
    },
    {
     "data": {
      "text/plain": [
       "True"
      ]
     },
     "execution_count": 19,
     "metadata": {},
     "output_type": "execute_result"
    }
   ],
   "source": [
    "import nltk\n",
    "nltk.download('stopwords')"
   ]
  },
  {
   "cell_type": "code",
   "execution_count": 20,
   "metadata": {},
   "outputs": [
    {
     "name": "stdout",
     "output_type": "stream",
     "text": [
      "Class:  0\n",
      "['', 'the', 'a', 'and', 'of', 'to', 'is', 'it', 'i', 'in', 'this', 'that', 's', 'was', 'movie', 'for', 'but', 'with', 'as', 't', 'film', 'you', 'on', 'not', 'have', 'are', 'be', 'he', 'they', 'one', 'at', 'his', 'all', 'so', 'like', 'there', 'just', 'by', 'or', 'an', 'who', 'from', 'if', 'about', 'out', 'what', 'some', 'no', 'her', 'even', 'can', 'has', 'good', 'bad', 'would', 'only', 'more', 'when', 'up', 'she', 'really', 'had', 'were', 'time', 'my', 'very', 'which', 'me', 'see', 'don', 'we', 'their', 'do', 'than', 'story', 'been', 'much', 'get', 'because', '-', 'people', 'then', 'could', 'how', 'any', 'make', 'into', 'made', 'other', 'first', 'them', 'too', 'plot', 'movies', 'acting', 'will', 'way', 'most', 'well', 'him']\n",
      "\n",
      "Class:  1\n",
      "['', 'the', 'and', 'a', 'of', 'to', 'is', 'in', 'it', 'i', 'that', 'this', 's', 'as', 'with', 'for', 'was', 'but', 'film', 'movie', 'his', 'on', 'you', 'he', 'are', 'not', 't', 'one', 'have', 'be', 'by', 'all', 'who', 'an', 'at', 'from', 'her', 'they', 'has', 'so', 'like', 'about', 'very', 'there', 'out', 'she', 'what', 'or', 'good', 'more', 'when', 'some', 'if', 'just', 'can', 'story', 'my', 'great', 'which', 'time', 'their', 'see', 'up', 'well', 'also', 'we', 'really', 'would', 'will', 'had', 'me', 'only', 'him', 'even', 'most', 'other', '-', 'were', 'than', 'much', 'first', 'its', 'into', 'people', 'no', 'best', 'get', 'love', 'how', 'been', 'because', 'way', 'life', 'do', 'them', 'films', 'after', 'many', 'made', 'think']\n",
      "\n"
     ]
    }
   ],
   "source": [
    "# Get the most important words for each class\n",
    "def getImportantWords(loglikehood, classes, vocabulary):\n",
    "    '''\n",
    "        Input:\n",
    "            loglikehood: list of log likehood of each class\n",
    "            classes: list of classes\n",
    "            vocabulary: set of vocabulary\n",
    "        Output:\n",
    "            important_words: dictionary of important words for each class\n",
    "    '''\n",
    "    important_words = {}\n",
    "    for classes_c in classes:\n",
    "        important_words[classes_c] = sorted(loglikehood[classes_c], key=loglikehood[classes_c].get, reverse=True)[:100]\n",
    "    return important_words\n",
    "\n",
    "importantWords = getImportantWords(loglikehood, labels, vocabulary)\n",
    "for classes_c in labels:\n",
    "    print(\"Class: \", classes_c)\n",
    "    print(importantWords[classes_c])\n",
    "    print()"
   ]
  },
  {
   "cell_type": "code",
   "execution_count": 21,
   "metadata": {},
   "outputs": [
    {
     "name": "stdout",
     "output_type": "stream",
     "text": [
      "Class:  0\n",
      "['', 'movie', 'film', 'one', 'like', 'even', 'good', 'bad', 'would', 'really', 'time', 'see', 'story', 'much', 'get', '-', 'people', 'could', 'make', 'made', 'first', 'plot', 'movies', 'acting', 'way', 'well']\n",
      "\n",
      "Class:  1\n",
      "['', 'film', 'movie', 'one', 'like', 'good', 'story', 'great', 'time', 'see', 'well', 'also', 'really', 'would', 'even', '-', 'much', 'first', 'people', 'best', 'get', 'love', 'way', 'life', 'films', 'many', 'made', 'think']\n",
      "\n"
     ]
    }
   ],
   "source": [
    "from nltk.corpus import stopwords\n",
    "\n",
    "stops = set(stopwords.words('english'))\n",
    "\n",
    "def removeStopWords(importantWords):\n",
    "    '''\n",
    "        Input:\n",
    "            importantWords: dictionary of important words for each class\n",
    "        Output:\n",
    "            importantWords: dictionary of important words for each class\n",
    "    '''\n",
    "    for classes_c in labels:\n",
    "        importantWords[classes_c] = [word for word in importantWords[classes_c] if word not in stops]\n",
    "    return importantWords\n",
    "\n",
    "importantWords = removeStopWords(importantWords)\n",
    "for classes_c in labels:\n",
    "    print(\"Class: \", classes_c)\n",
    "    print(importantWords[classes_c])\n",
    "    print()"
   ]
  },
  {
   "cell_type": "markdown",
   "metadata": {},
   "source": [
    "Here are the most important words for each class that brings the decision to likely select the class it corresponds to. In class 1 we can see that the word 'love' or 'great' makes the decision favorable towards this class because it doesnt appear in the class 0."
   ]
  },
  {
   "cell_type": "markdown",
   "metadata": {},
   "source": [
    "# Stemming and Lemmatization"
   ]
  },
  {
   "cell_type": "markdown",
   "metadata": {},
   "source": [
    "#### 1. Adding stemming to pretreatment"
   ]
  },
  {
   "cell_type": "code",
   "execution_count": 22,
   "metadata": {},
   "outputs": [
    {
     "name": "stderr",
     "output_type": "stream",
     "text": [
      "[nltk_data] Downloading package punkt to /home/coartix/nltk_data...\n",
      "[nltk_data]   Package punkt is already up-to-date!\n"
     ]
    },
    {
     "data": {
      "text/plain": [
       "True"
      ]
     },
     "execution_count": 22,
     "metadata": {},
     "output_type": "execute_result"
    }
   ],
   "source": [
    "import nltk\n",
    "from nltk.stem.snowball import SnowballStemmer\n",
    "from nltk.tokenize import word_tokenize\n",
    "\n",
    "nltk.download('punkt')"
   ]
  },
  {
   "cell_type": "code",
   "execution_count": 23,
   "metadata": {},
   "outputs": [],
   "source": [
    "import re\n",
    "\n",
    "def stemmingPreProcessing(text):\n",
    "    '''\n",
    "        Input:\n",
    "            text: string\n",
    "        Output:\n",
    "            text: string after stemming\n",
    "    '''\n",
    "    re_word = re.compile(r\"^\\w+$\")\n",
    "    stemmer = SnowballStemmer(\"english\")\n",
    "    stemmed = [stemmer.stem(word) for word in word_tokenize(text.lower().replace(\"<br />\", \"\")) if re_word.match(word)]\n",
    "    return \" \".join(stemmed)"
   ]
  },
  {
   "cell_type": "code",
   "execution_count": 24,
   "metadata": {},
   "outputs": [
    {
     "data": {
      "text/html": [
       "<div>\n",
       "<style scoped>\n",
       "    .dataframe tbody tr th:only-of-type {\n",
       "        vertical-align: middle;\n",
       "    }\n",
       "\n",
       "    .dataframe tbody tr th {\n",
       "        vertical-align: top;\n",
       "    }\n",
       "\n",
       "    .dataframe thead th {\n",
       "        text-align: right;\n",
       "    }\n",
       "</style>\n",
       "<table border=\"1\" class=\"dataframe\">\n",
       "  <thead>\n",
       "    <tr style=\"text-align: right;\">\n",
       "      <th></th>\n",
       "      <th>text</th>\n",
       "      <th>label</th>\n",
       "    </tr>\n",
       "  </thead>\n",
       "  <tbody>\n",
       "    <tr>\n",
       "      <th>0</th>\n",
       "      <td>i rent i am from my video store becaus of all the controversi that surround it when it was first...</td>\n",
       "      <td>0</td>\n",
       "    </tr>\n",
       "    <tr>\n",
       "      <th>1</th>\n",
       "      <td>i am curious yellow is a risibl and pretenti steam pile it doe matter what one polit view are be...</td>\n",
       "      <td>0</td>\n",
       "    </tr>\n",
       "    <tr>\n",
       "      <th>2</th>\n",
       "      <td>if onli to avoid make this type of film in the futur this film is interest as an experi but tell...</td>\n",
       "      <td>0</td>\n",
       "    </tr>\n",
       "    <tr>\n",
       "      <th>3</th>\n",
       "      <td>this film was probabl inspir by godard masculin féminin and i urg you to see that film film has ...</td>\n",
       "      <td>0</td>\n",
       "    </tr>\n",
       "    <tr>\n",
       "      <th>4</th>\n",
       "      <td>oh brother after hear about this ridicul film for umpteen year all i can think of is that old pe...</td>\n",
       "      <td>0</td>\n",
       "    </tr>\n",
       "  </tbody>\n",
       "</table>\n",
       "</div>"
      ],
      "text/plain": [
       "                                                                                                  text  \\\n",
       "0  i rent i am from my video store becaus of all the controversi that surround it when it was first...   \n",
       "1  i am curious yellow is a risibl and pretenti steam pile it doe matter what one polit view are be...   \n",
       "2  if onli to avoid make this type of film in the futur this film is interest as an experi but tell...   \n",
       "3  this film was probabl inspir by godard masculin féminin and i urg you to see that film film has ...   \n",
       "4  oh brother after hear about this ridicul film for umpteen year all i can think of is that old pe...   \n",
       "\n",
       "   label  \n",
       "0      0  \n",
       "1      0  \n",
       "2      0  \n",
       "3      0  \n",
       "4      0  "
      ]
     },
     "execution_count": 24,
     "metadata": {},
     "output_type": "execute_result"
    }
   ],
   "source": [
    "# Display the train dataframe after stemming\n",
    "pd.set_option('display.max_colwidth', 100)\n",
    "df_train = pd.DataFrame(dataset['train'])\n",
    "df_train['text'] = df_train['text'].apply(lambda text: stemmingPreProcessing(text))\n",
    "df_train.head()"
   ]
  },
  {
   "cell_type": "code",
   "execution_count": 25,
   "metadata": {},
   "outputs": [
    {
     "data": {
      "text/html": [
       "<div>\n",
       "<style scoped>\n",
       "    .dataframe tbody tr th:only-of-type {\n",
       "        vertical-align: middle;\n",
       "    }\n",
       "\n",
       "    .dataframe tbody tr th {\n",
       "        vertical-align: top;\n",
       "    }\n",
       "\n",
       "    .dataframe thead th {\n",
       "        text-align: right;\n",
       "    }\n",
       "</style>\n",
       "<table border=\"1\" class=\"dataframe\">\n",
       "  <thead>\n",
       "    <tr style=\"text-align: right;\">\n",
       "      <th></th>\n",
       "      <th>text</th>\n",
       "      <th>label</th>\n",
       "    </tr>\n",
       "  </thead>\n",
       "  <tbody>\n",
       "    <tr>\n",
       "      <th>0</th>\n",
       "      <td>i love and am will to put up with a lot are usual underfund and misunderstood i tri to like this...</td>\n",
       "      <td>0</td>\n",
       "    </tr>\n",
       "    <tr>\n",
       "      <th>1</th>\n",
       "      <td>worth the entertain valu of a rental especi if you like action movi this one featur the usual ca...</td>\n",
       "      <td>0</td>\n",
       "    </tr>\n",
       "    <tr>\n",
       "      <th>2</th>\n",
       "      <td>it a total averag film with a few action sequenc that make the plot seem a littl better and remi...</td>\n",
       "      <td>0</td>\n",
       "    </tr>\n",
       "    <tr>\n",
       "      <th>3</th>\n",
       "      <td>star rate saturday night friday night friday morn sunday night monday morn former new orlean hom...</td>\n",
       "      <td>0</td>\n",
       "    </tr>\n",
       "    <tr>\n",
       "      <th>4</th>\n",
       "      <td>first off let me say if you have enjoy a van damm movi sinc bloodsport you probabl will not like...</td>\n",
       "      <td>0</td>\n",
       "    </tr>\n",
       "  </tbody>\n",
       "</table>\n",
       "</div>"
      ],
      "text/plain": [
       "                                                                                                  text  \\\n",
       "0  i love and am will to put up with a lot are usual underfund and misunderstood i tri to like this...   \n",
       "1  worth the entertain valu of a rental especi if you like action movi this one featur the usual ca...   \n",
       "2  it a total averag film with a few action sequenc that make the plot seem a littl better and remi...   \n",
       "3  star rate saturday night friday night friday morn sunday night monday morn former new orlean hom...   \n",
       "4  first off let me say if you have enjoy a van damm movi sinc bloodsport you probabl will not like...   \n",
       "\n",
       "   label  \n",
       "0      0  \n",
       "1      0  \n",
       "2      0  \n",
       "3      0  \n",
       "4      0  "
      ]
     },
     "execution_count": 25,
     "metadata": {},
     "output_type": "execute_result"
    }
   ],
   "source": [
    "# Display the test dataframe after stemming\n",
    "df_test = pd.DataFrame(dataset['test'])\n",
    "df_test['text'] = df_test['text'].apply(lambda text: stemmingPreProcessing(text))\n",
    "df_test.head()"
   ]
  },
  {
   "cell_type": "markdown",
   "metadata": {},
   "source": [
    "#### 2. Train and evaluate your model again with these pretreatment."
   ]
  },
  {
   "cell_type": "code",
   "execution_count": 26,
   "metadata": {},
   "outputs": [],
   "source": [
    "# Train the stemmed data\n",
    "logprior, loglikehood, vocabulary = trainNaiveBayes(df_train, labels)"
   ]
  },
  {
   "cell_type": "code",
   "execution_count": 27,
   "metadata": {},
   "outputs": [
    {
     "name": "stdout",
     "output_type": "stream",
     "text": [
      "Own implementation (Stemming) - Training set accuracy:  0.8776\n",
      "Own implementation (Stemming) - Test set accuracy:  0.79944\n"
     ]
    }
   ],
   "source": [
    "# Testing the train set\n",
    "y_pred = df_train['text'].apply(lambda text : testNaiveBayes(text, logprior, loglikehood, labels, vocabulary))\n",
    "y_true = df_train['label']\n",
    "print(\"Own implementation (Stemming) - Training set accuracy: \", accuracy_score(y_true, y_pred))\n",
    "\n",
    "# Testing the test set\n",
    "y_pred = df_test['text'].apply(lambda text : testNaiveBayes(text, logprior, loglikehood, labels, vocabulary))\n",
    "y_true = df_test['label']\n",
    "print(\"Own implementation (Stemming) - Test set accuracy: \", accuracy_score(y_true, y_pred))\n"
   ]
  },
  {
   "cell_type": "markdown",
   "metadata": {},
   "source": [
    "#### 3. Are the results better or worse? Try explaining why the accuracy changed.  \n",
    "  \n",
    "The results show the stemming process to be less effective.  \n",
    "The accuracy changed because the stemming pretreatment shorten words so that we don't have multiple occurence of the same word which could take multiple forms like 'enjoy', 'enjoys', 'enjoyed', 'enjoying'. Those are all grouped and written as 'enjoy'."
   ]
  },
  {
   "cell_type": "code",
   "execution_count": 28,
   "metadata": {},
   "outputs": [
    {
     "name": "stdout",
     "output_type": "stream",
     "text": [
      "Class:  0\n",
      "['movi', 'film', 'one', 'like', 'make', 'would', 'even', 'get', 'bad', 'good', 'watch', 'time', 'charact', 'onli', 'see', 'realli', 'veri', 'could', 'look', 'stori', 'doe', 'scene', 'act', 'much', 'becaus', 'go', 'end', 'peopl', 'ani', 'thing', 'think', 'made', 'seem', 'show', 'say']\n",
      "\n",
      "Class:  1\n",
      "['film', 'movi', 'one', 'like', 'veri', 'time', 'good', 'see', 'stori', 'charact', 'make', 'get', 'great', 'watch', 'love', 'well', 'would', 'show', 'realli', 'also', 'onli', 'even', 'play', 'doe', 'scene', 'much', 'first', 'peopl', 'end', 'way', 'think', 'best', 'go', 'becaus', 'look']\n",
      "\n"
     ]
    }
   ],
   "source": [
    "importantWords = getImportantWords(loglikehood, labels, vocabulary)\n",
    "importantWords = removeStopWords(importantWords)\n",
    "for classes_c in labels:\n",
    "    print(\"Class: \", classes_c)\n",
    "    print(importantWords[classes_c])\n",
    "    print()"
   ]
  }
 ],
 "metadata": {
  "kernelspec": {
   "display_name": "Python 3 (ipykernel)",
   "language": "python",
   "name": "python3"
  },
  "language_info": {
   "codemirror_mode": {
    "name": "ipython",
    "version": 3
   },
   "file_extension": ".py",
   "mimetype": "text/x-python",
   "name": "python",
   "nbconvert_exporter": "python",
   "pygments_lexer": "ipython3",
   "version": "3.10.6"
  },
  "vscode": {
   "interpreter": {
    "hash": "31f2aee4e71d21fbe5cf8b01ff0e069b9275f58929596ceb00d14d90e3e16cd6"
   }
  }
 },
 "nbformat": 4,
 "nbformat_minor": 2
}
