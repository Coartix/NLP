{
 "cells": [
  {
   "cell_type": "code",
   "execution_count": 130,
   "id": "1a47cfb1-3d63-42d0-b29b-3c1ebde6b93c",
   "metadata": {},
   "outputs": [],
   "source": [
    "#%load_ext lab_black"
   ]
  },
  {
   "cell_type": "markdown",
   "id": "8e1992ac-b345-4bbd-a621-538b6a982f58",
   "metadata": {},
   "source": [
    "# Using GloVe for text classification\n",
    "\n",
    "In this pre-filled notebook, we use GloVe embeddings to train a classifier for sentiment analysis. For every review in the IMDB dataset we:\n",
    "1. Tokenize the review into tokens.\n",
    "2. Get the pre-trained GloVe vector for every token in the review (if they are in the voabulary of GloVe).\n",
    "3. Average the vectors over the full review.\n",
    "4. Send the vector through a logistic regression.\n",
    "\n",
    "This time, we will batch the inputs instead of updating the weights once per epoch.\n",
    "\n",
    "Before starting, to make your experiments reproducible, make sure to [force the random seed](https://pytorch.org/docs/stable/notes/randomness.html)."
   ]
  },
  {
   "cell_type": "code",
   "execution_count": 131,
   "id": "f7e402d1-f6f5-4ee5-8cde-813c2a2b4ee1",
   "metadata": {},
   "outputs": [],
   "source": [
    "from copy import deepcopy\n",
    "from functools import partial\n",
    "from typing import Callable, Dict, Generator, List, Tuple\n",
    "\n",
    "from datasets import load_dataset\n",
    "import matplotlib.pyplot as plt\n",
    "import numpy as np\n",
    "import pandas as pd\n",
    "from sklearn.utils import shuffle\n",
    "import torch\n",
    "from torch import nn\n",
    "import torchtext\n",
    "from torchtext import vocab\n",
    "from torchtext.vocab import GloVe\n",
    "from torchtext.data.utils import get_tokenizer\n",
    "\n",
    "from tqdm.auto import tqdm\n",
    "\n",
    "random_seed = 42"
   ]
  },
  {
   "cell_type": "markdown",
   "id": "fce0cb2c-05a4-4c70-b2dc-84bcdfadbb6d",
   "metadata": {},
   "source": [
    "## Using GloVe (1 point)\n",
    "\n",
    "Let's get familier with GloVe embeddings. We download a small version of GloVe trained of 6 billion words, and use vectors of size 300.\n",
    "\n",
    "The [torchtext documentation](https://pytorch.org/text/stable/vocab.html#glove) being quite poor, you can find details on the different pre-trained vectors on the [Stanford page](https://nlp.stanford.edu/projects/glove/)."
   ]
  },
  {
   "cell_type": "code",
   "execution_count": 132,
   "id": "ab2391a1-f23b-4f98-bac4-651081d6c258",
   "metadata": {},
   "outputs": [
    {
     "data": {
      "text/plain": [
       "400000"
      ]
     },
     "execution_count": 132,
     "metadata": {},
     "output_type": "execute_result"
    }
   ],
   "source": [
    "glove = GloVe(name=\"6B\", dim=300)\n",
    "len(glove.stoi)"
   ]
  },
  {
   "cell_type": "code",
   "execution_count": 133,
   "id": "f2630885-032e-44ee-9fb7-b7b571216f2a",
   "metadata": {},
   "outputs": [
    {
     "data": {
      "text/plain": [
       "(5450, 'cat', torch.Size([300]))"
      ]
     },
     "execution_count": 133,
     "metadata": {},
     "output_type": "execute_result"
    }
   ],
   "source": [
    "glove.stoi[\"cat\"], glove.itos[5450], glove.vectors[glove.stoi[\"cat\"]].shape"
   ]
  },
  {
   "cell_type": "code",
   "execution_count": 134,
   "id": "b5ef6f37-1d1e-4b3a-82d4-ad09e975aa61",
   "metadata": {},
   "outputs": [
    {
     "data": {
      "text/plain": [
       "['the', ',', '.', 'of', 'to']"
      ]
     },
     "execution_count": 134,
     "metadata": {},
     "output_type": "execute_result"
    }
   ],
   "source": [
    "glove.itos[:5]"
   ]
  },
  {
   "cell_type": "markdown",
   "id": "8def2d83-d256-4432-ab2a-ab9cf782b062",
   "metadata": {},
   "source": [
    "Notice that punctuations are part of GloVe's vocabulary.\n",
    "\n",
    "To compare two words, we can look at their cosine similarity."
   ]
  },
  {
   "cell_type": "code",
   "execution_count": 135,
   "id": "fca0941f-9e61-4cf0-8bb8-a9132d50f0b7",
   "metadata": {},
   "outputs": [
    {
     "name": "stdout",
     "output_type": "stream",
     "text": [
      "cat x cats = 0.6815836429595947\n",
      "cat x dog = 0.6816746592521667\n",
      "cat x fridge = 0.09630905091762543\n"
     ]
    }
   ],
   "source": [
    "words = [\"cat\", \"cats\", \"dog\", \"fridge\"]\n",
    "for word in words[1:]:\n",
    "    similarity = torch.cosine_similarity(\n",
    "        glove.vectors[glove.stoi[words[0]]].reshape(1, -1),\n",
    "        glove.vectors[glove.stoi[word]].reshape(1, -1),\n",
    "    ).item()  # .item() is used to turn a tensor of a single value to a float\n",
    "    print(f\"{words[0]} x {word} = {similarity}\")"
   ]
  },
  {
   "cell_type": "markdown",
   "id": "0f960f72-be8e-4f35-8b71-7d188ad61a90",
   "metadata": {},
   "source": [
    "**\\[1 point\\] Find the closest word to \"cat\" in the whole vocabulary.**"
   ]
  },
  {
   "cell_type": "code",
   "execution_count": 136,
   "id": "a504e211-bb70-48ad-b365-e4ab5d0ed25f",
   "metadata": {},
   "outputs": [
    {
     "name": "stdout",
     "output_type": "stream",
     "text": [
      "cat x cat = 1.0\n",
      "cat x dog = 0.6816746592521667\n"
     ]
    }
   ],
   "source": [
    "word = \"cat\"\n",
    "# your code\n",
    "\n",
    "# find the most similar word to \"cat\" in the vocabulary\n",
    "max_similarity = -1\n",
    "most_similar_word = None\n",
    "second_max_similarity = -1\n",
    "second_most_similar_word = None\n",
    "for w in glove.itos:\n",
    "    similarity = torch.cosine_similarity(\n",
    "        glove.vectors[glove.stoi[word]].reshape(1, -1),\n",
    "        glove.vectors[glove.stoi[w]].reshape(1, -1),\n",
    "    ).item()\n",
    "    if similarity > max_similarity:\n",
    "        second_max_similarity = max_similarity\n",
    "        second_most_similar_word = most_similar_word\n",
    "        max_similarity = similarity\n",
    "        most_similar_word = w\n",
    "\n",
    "print(f\"{word} x {most_similar_word} = {max_similarity}\")\n",
    "print(f\"{word} x {second_most_similar_word} = {second_max_similarity}\")\n"
   ]
  },
  {
   "cell_type": "markdown",
   "id": "2caa4d00-769b-4304-8010-3721bc926e68",
   "metadata": {},
   "source": [
    "## Dataset and split\n",
    "\n",
    "As we keep the test set for final evaluation, we need to split the training set into a training and validation set. We make sure the split is **stratified** by class (same proportion of class in each split)."
   ]
  },
  {
   "cell_type": "code",
   "execution_count": 137,
   "id": "ee47710f-8f8f-4e1b-a3e0-390de0a64d4e",
   "metadata": {},
   "outputs": [
    {
     "name": "stderr",
     "output_type": "stream",
     "text": [
      "Found cached dataset imdb (/home/pierre/.cache/huggingface/datasets/imdb/plain_text/1.0.0/d613c88cf8fa3bab83b4ded3713f1f74830d1100e171db75bbddb80b3345c9c0)\n"
     ]
    },
    {
     "data": {
      "application/vnd.jupyter.widget-view+json": {
       "model_id": "2d3d0b9b01c44373b5c1396296d61954",
       "version_major": 2,
       "version_minor": 0
      },
      "text/plain": [
       "  0%|          | 0/3 [00:00<?, ?it/s]"
      ]
     },
     "metadata": {},
     "output_type": "display_data"
    },
    {
     "name": "stderr",
     "output_type": "stream",
     "text": [
      "Loading cached split indices for dataset at /home/pierre/.cache/huggingface/datasets/imdb/plain_text/1.0.0/d613c88cf8fa3bab83b4ded3713f1f74830d1100e171db75bbddb80b3345c9c0/cache-5f37fd0866e4f89f.arrow and /home/pierre/.cache/huggingface/datasets/imdb/plain_text/1.0.0/d613c88cf8fa3bab83b4ded3713f1f74830d1100e171db75bbddb80b3345c9c0/cache-dd5732a0e6ac784c.arrow\n"
     ]
    },
    {
     "data": {
      "text/plain": [
       "((20000, 2), (5000, 2), (25000, 2))"
      ]
     },
     "execution_count": 137,
     "metadata": {},
     "output_type": "execute_result"
    }
   ],
   "source": [
    "dataset = load_dataset(\"imdb\")\n",
    "train_dataset = dataset[\"train\"].train_test_split(\n",
    "    stratify_by_column=\"label\", test_size=0.2, seed=42\n",
    ")\n",
    "test_df = dataset[\"test\"]\n",
    "train_df = train_dataset[\"train\"]\n",
    "valid_df = train_dataset[\"test\"]\n",
    "train_df.shape, valid_df.shape, test_df.shape"
   ]
  },
  {
   "cell_type": "markdown",
   "id": "e8f188d7-9e67-4b03-bab1-00508db56399",
   "metadata": {},
   "source": [
    "## Prepare the inputs\n",
    "\n",
    "### Text processing pipeline (2 points)\n",
    "\n",
    "For a given entry, we want to\n",
    "1. Tokenize the text.\n",
    "2. Get the vectors for each token.\n",
    "3. Average them.\n",
    "\n",
    "For tokenization, let's use the \"basic_english\" tokenizer from torchtext."
   ]
  },
  {
   "cell_type": "code",
   "execution_count": 138,
   "id": "a9868b71-5bc5-429c-9cb1-4ddb9c331f97",
   "metadata": {},
   "outputs": [],
   "source": [
    "tokenizer = get_tokenizer(\"basic_english\", language=\"en\")"
   ]
  },
  {
   "cell_type": "markdown",
   "id": "63219cef-b375-40de-b3ad-1401b6079c5a",
   "metadata": {},
   "source": [
    "**\\[2 points\\] Fill the `preprocess_text` function so it returns the mean of the GloVe vectors of all the tokens within a review.**\n",
    "\n",
    "The two following functions can help.\n",
    "* [torch.stack](https://pytorch.org/docs/stable/generated/torch.stack.html)\n",
    "* [torch.mean](https://pytorch.org/docs/stable/generated/torch.mean.html)"
   ]
  },
  {
   "cell_type": "code",
   "execution_count": 139,
   "id": "3ba4642e-fd7c-4dd1-9799-74360787976d",
   "metadata": {},
   "outputs": [],
   "source": [
    "def vectorize_text(\n",
    "    text: str, vocabulary: vocab.Vocab, tokenizer: Callable[[str], List[str]]\n",
    ") -> torch.Tensor:\n",
    "    \"\"\"\n",
    "    Turn a string into the average of the vectors of its tokens.\n",
    "    Args:\n",
    "        text: the input text.\n",
    "        vocabulary: a pre-trained Vocab object.\n",
    "        tokenizer: a tokenizer taking a text as input and returning a list of tokens.\n",
    "    Returns:\n",
    "        The average tensor over the tokens of the whole text.\n",
    "    \"\"\"\n",
    "    # Your code\n",
    "\n",
    "    # tokenize the text\n",
    "    tokens = tokenizer(text)\n",
    "    # get the vectors of the tokens\n",
    "    vectors = []\n",
    "    for token in tokens:\n",
    "        if token in vocabulary.stoi:\n",
    "            vectors.append(vocabulary.vectors[vocabulary.stoi[token]])\n",
    "    # average the vectors\n",
    "    average = torch.mean(torch.stack(vectors), dim=0)\n",
    "    return average"
   ]
  },
  {
   "cell_type": "code",
   "execution_count": 140,
   "id": "9b6fa0c3-cb31-49d4-9869-fef8f1bb6a2d",
   "metadata": {
    "scrolled": true,
    "tags": []
   },
   "outputs": [],
   "source": [
    "text_pipeline = partial(vectorize_text, vocabulary=glove, tokenizer=tokenizer)\n",
    "assert text_pipeline(\"some text.\").shape == torch.Size([300])"
   ]
  },
  {
   "cell_type": "markdown",
   "id": "c3caf280-7436-44b9-a223-c00012a590d2",
   "metadata": {},
   "source": [
    "Now we turn our 3 sets into vectors and labels.\n",
    "\n",
    "Our data are quite small, so we can keep everything in RAM."
   ]
  },
  {
   "cell_type": "code",
   "execution_count": 141,
   "id": "6a6f4e6e-6bc6-4bdf-831d-02b6f14a56b0",
   "metadata": {},
   "outputs": [
    {
     "data": {
      "application/vnd.jupyter.widget-view+json": {
       "model_id": "82b5682764f54733a485264c70163d82",
       "version_major": 2,
       "version_minor": 0
      },
      "text/plain": [
       "  0%|          | 0/20000 [00:00<?, ?it/s]"
      ]
     },
     "metadata": {},
     "output_type": "display_data"
    },
    {
     "data": {
      "application/vnd.jupyter.widget-view+json": {
       "model_id": "592a67e8278e4e5ead019ae1ed9d894f",
       "version_major": 2,
       "version_minor": 0
      },
      "text/plain": [
       "  0%|          | 0/5000 [00:00<?, ?it/s]"
      ]
     },
     "metadata": {},
     "output_type": "display_data"
    },
    {
     "data": {
      "application/vnd.jupyter.widget-view+json": {
       "model_id": "30cdf1124a5a4960a19730cb554e9145",
       "version_major": 2,
       "version_minor": 0
      },
      "text/plain": [
       "  0%|          | 0/25000 [00:00<?, ?it/s]"
      ]
     },
     "metadata": {},
     "output_type": "display_data"
    }
   ],
   "source": [
    "X_train = [text_pipeline(text) for text in tqdm(train_df[\"text\"])]\n",
    "y_train = train_df[\"label\"]\n",
    "X_valid = [text_pipeline(text) for text in tqdm(valid_df[\"text\"])]\n",
    "y_valid = valid_df[\"label\"]\n",
    "X_test = [text_pipeline(text) for text in tqdm(test_df[\"text\"])]\n",
    "y_test = test_df[\"label\"]"
   ]
  },
  {
   "cell_type": "markdown",
   "id": "928a5323-3f1e-4d1e-a5fa-2d752c5ae929",
   "metadata": {},
   "source": [
    "### Batch processing (1 point)\n",
    "\n",
    "Instead of doing one update per epoch, we feed the model batches of texts between each update. To do so, we use a simple data generator.\n",
    "\n",
    "**\\[1 point\\] Fill the generator function.**\n"
   ]
  },
  {
   "cell_type": "code",
   "execution_count": 142,
   "id": "014d3de9-94bb-4be8-9419-8d2aa59ba3c2",
   "metadata": {},
   "outputs": [],
   "source": [
    "def data_generator(\n",
    "    X: List[torch.tensor], y: List[int], batch_size: int = 32\n",
    ") -> Generator[Tuple[torch.Tensor, torch.Tensor], None, None]:\n",
    "    \"\"\"\n",
    "    Yield batches from given input data and labels.\n",
    "    Args:\n",
    "        X: a list of tensor (input features).\n",
    "        y: the corresponding labels.\n",
    "        batch_size: the size of every batch [32].\n",
    "    Returns:\n",
    "        A tuple of tensors (features, labels).\n",
    "    \"\"\"\n",
    "    X, y = shuffle(X, y)\n",
    "    # Your code\n",
    "    # yield the the returning values\n",
    "    for i in range(0, len(X), batch_size):\n",
    "        yield torch.stack(X[i : i + batch_size]), torch.tensor(y[i : i + batch_size])\n"
   ]
  },
  {
   "cell_type": "code",
   "execution_count": 143,
   "id": "04ab809e-7363-4996-a064-291cd97b276e",
   "metadata": {},
   "outputs": [],
   "source": [
    "train_gen = lambda: data_generator(X_train, y_train, batch_size=32)\n",
    "for X, y in train_gen():\n",
    "    assert X.shape == torch.Size([32, 300])\n",
    "    assert y.shape == torch.Size([32])\n",
    "    break"
   ]
  },
  {
   "cell_type": "markdown",
   "id": "ec152a5b-e80e-4d34-82dc-75012707a160",
   "metadata": {},
   "source": [
    "## The classifier (1 point)\n",
    "\n",
    "We create a very simple classifier corresponding a logistic regression.\n",
    "\n",
    "**\\[1 point\\] Fill the classifier's code. The forward function needs to return a logit and not the output of a sigmoid.**"
   ]
  },
  {
   "cell_type": "code",
   "execution_count": 144,
   "id": "09607378-c4a4-4e6b-8bf0-b1c40ef941c4",
   "metadata": {},
   "outputs": [],
   "source": [
    "class SimpleClassifer(nn.Module):\n",
    "    \"\"\"\n",
    "    A simple linear classifier.\n",
    "    \"\"\"\n",
    "\n",
    "    def __init__(self, embedding_size: int, nb_classes: int) -> None:\n",
    "        \"\"\"\n",
    "        Args:\n",
    "            embedding_size: the dimension of the input embeddings.\n",
    "        nb_classes: the output dimension.\n",
    "        \"\"\"\n",
    "        # your code\n",
    "        super(SimpleClassifer, self).__init__()\n",
    "        self.linear = nn.Linear(embedding_size, nb_classes)\n",
    "        \n",
    "    def forward(self, x: torch.Tensor) -> torch.Tensor:\n",
    "        \"\"\"\n",
    "        Args:\n",
    "            x: an input tensor\n",
    "        Returns:\n",
    "            Logits.\n",
    "        \"\"\"\n",
    "        # your code\n",
    "        # return sigmoid logits\n",
    "        return torch.sigmoid(self.linear(x))\n",
    "        "
   ]
  },
  {
   "cell_type": "markdown",
   "id": "5482c601-8ad2-4244-aa49-380df76091c1",
   "metadata": {},
   "source": [
    "## Training (3 points)\n",
    "\n",
    "We put everything above together and train the classifier."
   ]
  },
  {
   "cell_type": "code",
   "execution_count": 145,
   "id": "0e6a6da3-d538-4ebc-9bc9-cdec010de29f",
   "metadata": {},
   "outputs": [
    {
     "data": {
      "text/plain": [
       "'cuda:0'"
      ]
     },
     "execution_count": 145,
     "metadata": {},
     "output_type": "execute_result"
    }
   ],
   "source": [
    "device = \"cuda:0\" if torch.cuda.is_available() else \"cpu\"\n",
    "device"
   ]
  },
  {
   "cell_type": "code",
   "execution_count": 146,
   "id": "47d80e77-75dc-4aa6-b0cf-0f4619bb8b52",
   "metadata": {},
   "outputs": [],
   "source": [
    "train_gen = lambda: data_generator(X_train, y_train)\n",
    "valid_gen = lambda: data_generator(X_valid, y_valid)\n",
    "test_gen = lambda: data_generator(X_test, y_test)"
   ]
  },
  {
   "cell_type": "markdown",
   "id": "18ddcbc0-a8a0-433f-86d6-63d51f1877c6",
   "metadata": {},
   "source": [
    "**\\[3 points\\] Fill the following cells. Make sure you save the best model evaluated on the validation set.**\n",
    "* The `deepcopy` function might help."
   ]
  },
  {
   "cell_type": "code",
   "execution_count": 147,
   "id": "c4ea0bd2-d156-48e4-ab10-82dae2a880f1",
   "metadata": {},
   "outputs": [],
   "source": [
    "model = SimpleClassifer(300, 1).to(device)\n",
    "criterion = nn.BCEWithLogitsLoss()\n",
    "# You can use another optimizer if you want.\n",
    "optimizer = torch.optim.Adam(model.parameters())"
   ]
  },
  {
   "cell_type": "code",
   "execution_count": 148,
   "id": "262b4d32-9d63-4764-92e1-fa7ee27891f4",
   "metadata": {},
   "outputs": [
    {
     "data": {
      "application/vnd.jupyter.widget-view+json": {
       "model_id": "d69961bdb04240798fe9ff0fc6b150cc",
       "version_major": 2,
       "version_minor": 0
      },
      "text/plain": [
       "  0%|          | 0/50 [00:00<?, ?it/s]"
      ]
     },
     "metadata": {},
     "output_type": "display_data"
    },
    {
     "name": "stdout",
     "output_type": "stream",
     "text": [
      "Epoch 0 - Validation loss: 0.6862934391210034\n",
      "        - Training loss: 0.6869866640671439\n",
      "Epoch 5 - Validation loss: 0.6673338555606307\n",
      "        - Training loss: 0.6678326469857979\n",
      "Epoch 10 - Validation loss: 0.6558703108198324\n",
      "        - Training loss: 0.6559458048498132\n",
      "Epoch 15 - Validation loss: 0.6477851853439003\n",
      "        - Training loss: 0.6475864611470791\n",
      "Epoch 20 - Validation loss: 0.6418080881902367\n",
      "        - Training loss: 0.641330930140927\n",
      "Epoch 25 - Validation loss: 0.6369769190400523\n",
      "        - Training loss: 0.6364598341686342\n",
      "Epoch 30 - Validation loss: 0.6330951816174418\n",
      "        - Training loss: 0.6325145802403785\n",
      "Epoch 35 - Validation loss: 0.6299188490126543\n",
      "        - Training loss: 0.6292636307942516\n",
      "Epoch 40 - Validation loss: 0.6271673704999099\n",
      "        - Training loss: 0.6264851150330781\n",
      "Epoch 45 - Validation loss: 0.6248002524968166\n",
      "        - Training loss: 0.6241022450425436\n"
     ]
    }
   ],
   "source": [
    "nb_epochs = 50\n",
    "train_losses, valid_losses = [], []\n",
    "\n",
    "best_model = model\n",
    "best_validation_loss = np.Inf\n",
    "\n",
    "for epoch in tqdm(range(nb_epochs)):\n",
    "\n",
    "    # training\n",
    "    model.train()\n",
    "    # training loop\n",
    "    x = train_gen()\n",
    "    for X, y in x:\n",
    "        X, y = X.to(device), y.to(device)\n",
    "        optimizer.zero_grad()\n",
    "        output = model(X)\n",
    "        loss = criterion(torch.squeeze(output), y.float())\n",
    "        loss.backward()\n",
    "        optimizer.step()\n",
    "    \n",
    "    # validation\n",
    "    model.eval()\n",
    "    # validation loop\n",
    "    if epoch % 5 == 0:\n",
    "        with torch.no_grad():\n",
    "            x = valid_gen()\n",
    "            for X, y in x:\n",
    "                X, y = X.to(device), y.to(device)\n",
    "                output = model(X)\n",
    "                loss = criterion(torch.squeeze(output), y.float())\n",
    "                valid_losses.append(loss.item())\n",
    "            print(f\"Epoch {epoch} - Validation loss: {np.mean(valid_losses)}\")\n",
    "            if np.mean(valid_losses) < best_validation_loss:\n",
    "                best_model = model\n",
    "                best_validation_loss = np.mean(valid_losses)\n",
    "\n",
    "            # calculate the test loss\n",
    "            x = test_gen()\n",
    "            for X, y in x:\n",
    "                X, y = X.to(device), y.to(device)\n",
    "                output = model(X)\n",
    "                loss = criterion(torch.squeeze(output), y.float())\n",
    "                train_losses.append(loss.item())\n",
    "            print(f\"        - Training loss: {np.mean(train_losses)}\")\n"
   ]
  },
  {
   "cell_type": "code",
   "execution_count": 149,
   "id": "7907de12-1fc2-4597-980b-87d79baeb807",
   "metadata": {},
   "outputs": [
    {
     "data": {
      "text/plain": [
       "<matplotlib.legend.Legend at 0x7fcfcb02bfd0>"
      ]
     },
     "execution_count": 149,
     "metadata": {},
     "output_type": "execute_result"
    },
    {
     "data": {
      "image/png": "[encoded data removed]",
      "text/plain": [
       "<Figure size 640x480 with 1 Axes>"
      ]
     },
     "metadata": {},
     "output_type": "display_data"
    }
   ],
   "source": [
    "plt.plot(train_losses, label=\"train loss\")\n",
    "plt.plot(valid_losses, label=\"valid loss\")\n",
    "plt.legend()"
   ]
  },
  {
   "cell_type": "markdown",
   "id": "3020533b-0522-42ff-bcdc-6d1cd991d332",
   "metadata": {},
   "source": [
    "## Evaluation (3 point)\n",
    "\n",
    "**\\[1 point\\] Compute the accuracy for the 3 splits (training, validation, test).**"
   ]
  },
  {
   "cell_type": "code",
   "execution_count": 150,
   "id": "73674e1e-0be6-49b0-af23-a0a9b518d170",
   "metadata": {},
   "outputs": [
    {
     "name": "stdout",
     "output_type": "stream",
     "text": [
      "Accuracy on the training set: 0.80155\n",
      "Accuracy on the validation set: 0.7968\n",
      "Accuracy on the test set: 0.79436\n"
     ]
    }
   ],
   "source": [
    "# Your code\n",
    "# compute the accuracy on the 3 splits\n",
    "def accuracy(model, X, y):\n",
    "    with torch.no_grad():\n",
    "        X = torch.stack(X).to(device)\n",
    "        y = torch.tensor(y).to(device)\n",
    "        output = model(X)\n",
    "        output = torch.squeeze(output)\n",
    "        output = torch.round(output)\n",
    "        return torch.sum(output == y).item() / len(y)\n",
    "    \n",
    "print(f\"Accuracy on the training set: {accuracy(model, X_train, y_train)}\")\n",
    "print(f\"Accuracy on the validation set: {accuracy(model, X_valid, y_valid)}\")\n",
    "print(f\"Accuracy on the test set: {accuracy(model, X_test, y_test)}\")"
   ]
  },
  {
   "attachments": {},
   "cell_type": "markdown",
   "id": "ac0b7102-fb1d-4a27-a400-ff0e40e1a685",
   "metadata": {},
   "source": [
    "**\\[1 point\\] For two wrongly classified samples, try guessing why the model was wrong.**"
   ]
  },
  {
   "cell_type": "code",
   "execution_count": 151,
   "id": "ce3a46e9",
   "metadata": {},
   "outputs": [
    {
     "name": "stdout",
     "output_type": "stream",
     "text": [
      "Text: Isaac Florentine has made some of the best western Martial Arts action movies ever produced. In particular US Seals 2, Cold Harvest, Special Forces and Undisputed 2 are all action classics. You can tell Isaac has a real passion for the genre and his films are always eventful, creative and sharp affairs, with some of the best fight sequences an action fan could hope for. In particular he has found a muse with Scott Adkins, as talented an actor and action performer as you could hope for. This is borne out with Special Forces and Undisputed 2, but unfortunately The Shepherd just doesn't live up to their abilities.<br /><br />There is no doubt that JCVD looks better here fight-wise than he has done in years, especially in the fight he has (for pretty much no reason) in a prison cell, and in the final showdown with Scott, but look in his eyes. JCVD seems to be dead inside. There's nothing in his eyes at all. It's like he just doesn't care about anything throughout the whole film. And this is the leading man.<br /><br />There are other dodgy aspects to the film, script-wise and visually, but the main problem is that you are utterly unable to empathise with the hero of the film. A genuine shame as I know we all wanted this film to be as special as it genuinely could have been. There are some good bits, mostly the action scenes themselves. This film had a terrific director and action choreographer, and an awesome opponent for JCVD to face down. This could have been the one to bring the veteran action star back up to scratch in the balls-out action movie stakes.<br /><br />Sincerely a shame that this didn't happen.\n",
      "Label: 0\n",
      "Prediction: 1.0\n",
      "Text: I caught this movie on the Sci-Fi channel recently. It actually turned out to be pretty decent as far as B-list horror/suspense films go. Two guys (one naive and one loud mouthed a**) take a road trip to stop a wedding but have the worst possible luck when a maniac in a freaky, make-shift tank/truck hybrid decides to play cat-and-mouse with them. Things are further complicated when they pick up a ridiculously whorish hitchhiker. What makes this film unique is that the combination of comedy and terror actually work in this movie, unlike so many others. The two guys are likable enough and there are some good chase/suspense scenes. Nice pacing and comic timing make this movie more than passable for the horror/slasher buff. Definitely worth checking out.\n",
      "Label: 1\n",
      "Prediction: 0.0\n"
     ]
    }
   ],
   "source": [
    "# take two wrong predictions\n",
    "wrong_predictions = []\n",
    "for i in range(len(X_test)):\n",
    "    if torch.round(torch.squeeze(model(torch.stack(X_test).to(device))[i])) != y_test[i]:\n",
    "        wrong_predictions.append(i)\n",
    "        break\n",
    "\n",
    "# from the end\n",
    "for i in range(len(X_test) - 1, 0, -1):\n",
    "    if torch.round(torch.squeeze(model(torch.stack(X_test).to(device))[i])) != y_test[i]:\n",
    "        wrong_predictions.append(i)\n",
    "        break\n",
    "\n",
    "# print the wrong predictions\n",
    "for i in wrong_predictions:\n",
    "    print(f\"Text: {test_df['text'][i]}\")\n",
    "    print(f\"Label: {test_df['label'][i]}\")\n",
    "    print(f\"Prediction: {torch.round(torch.squeeze(model(torch.stack(X_test).to(device))[i]))}\")"
   ]
  },
  {
   "attachments": {},
   "cell_type": "markdown",
   "id": "23f710b6",
   "metadata": {},
   "source": [
    "# TODO : expliquer pk c'est des mauvaises predictions"
   ]
  },
  {
   "attachments": {},
   "cell_type": "markdown",
   "id": "c358ed93",
   "metadata": {},
   "source": [
    "**\\[1 point\\] Code a `predict` function which take some text as input and returns a prediction class and score (the output of the sigmoid).**"
   ]
  },
  {
   "cell_type": "code",
   "execution_count": 152,
   "id": "094f7ac3-ad53-43e3-a1f6-90ed3a61259c",
   "metadata": {},
   "outputs": [],
   "source": [
    "def predict(\n",
    "    text: str,\n",
    "    text_pipeline: Callable[[str], torch.Tensor],\n",
    "    model: nn.Module,\n",
    "    device: str,\n",
    ") -> Tuple[int, float]:\n",
    "    \"\"\"\n",
    "    Return the predicted class and score for a given input.\n",
    "    Args:\n",
    "        text: a given review.\n",
    "        text_pipeline: a function taking a text as input and returning a tensor (model's input).\n",
    "        model: a pre-trained model.\n",
    "        device: the device on which the computation occurs.\n",
    "    Returns:\n",
    "        A tuple (label, score).\n",
    "    \"\"\"\n",
    "    # Your code\n",
    "    tensor = text_pipeline(text).to(device)\n",
    "    output = model(tensor)\n",
    "    output = torch.squeeze(output)\n",
    "    label = torch.round(output)\n",
    "    return int(label), float(output.item())\n"
   ]
  },
  {
   "cell_type": "code",
   "execution_count": 153,
   "id": "84e7130f-ce7f-41ed-a7d2-bcc6f65482f5",
   "metadata": {},
   "outputs": [
    {
     "data": {
      "text/plain": [
       "(0, 0.20413422584533691)"
      ]
     },
     "execution_count": 153,
     "metadata": {},
     "output_type": "execute_result"
    }
   ],
   "source": [
    "text = \"In my long years as a movie reviewers, I have seen good and bad movies. But nothing as controversially in the middle.\"\n",
    "#text = \"it's the best movie ever, love it so much\"\n",
    "predict(text, text_pipeline, model, device)"
   ]
  },
  {
   "cell_type": "markdown",
   "id": "c44f2dff-da04-466e-bf2c-32f9e84d10a3",
   "metadata": {},
   "source": [
    "## Bonus\n",
    "\n",
    "Modify the classifier. Instead of using a simple logistic regression, create a multilayer perceptron. Something like `input -> linear(embedding_size, 128) -> activation function -> linear(128, nb_classes) -> output`, for a two layer perceptron.\n",
    "\n",
    "For the activation function, you can use [ReLU](https://pytorch.org/docs/stable/generated/torch.nn.ReLU.html#torch.nn.ReLU) or [another non-linear activation function](https://pytorch.org/docs/stable/nn.html#non-linear-activations-weighted-sum-nonlinearity) of your choice.\n",
    "\n",
    "Train your new classifier, look at the loss, and compare its accuracy with the logistic regression. Keep the model with the best validation loss."
   ]
  },
  {
   "cell_type": "code",
   "execution_count": null,
   "id": "8975c53d-2707-4d3c-ab8e-6962d5256136",
   "metadata": {},
   "outputs": [],
   "source": []
  },
  {
   "attachments": {},
   "cell_type": "markdown",
   "id": "da5f4d3c",
   "metadata": {},
   "source": [
    "# FastText\n"
   ]
  },
  {
   "cell_type": "code",
   "execution_count": 154,
   "id": "a5f931ad",
   "metadata": {},
   "outputs": [],
   "source": [
    "import fasttext\n",
    "import string\n",
    "import random"
   ]
  },
  {
   "attachments": {},
   "cell_type": "markdown",
   "id": "28d438f7",
   "metadata": {},
   "source": [
    "1. (2 points) Turn the dataset into a dataset compatible with Fastext (see the Tips on using FastText section a bit lower).\n",
    "For pretreatment, only apply lower casing and punctuation removal."
   ]
  },
  {
   "cell_type": "code",
   "execution_count": 155,
   "id": "149d25dd",
   "metadata": {},
   "outputs": [
    {
     "name": "stdout",
     "output_type": "stream",
     "text": [
      "__label__positive excellent film showing the pathetic lives of two nutty old ladies  they couldn t live together  nor apart  babbling constantly  sometimes at the same time  they hashed and re-hashed the past  going on and on about what coulda shoulda woulda  i found myself laughing at times  but mostly i was taken with how utterly sad and abandoned these two women were  see this one \n",
      "\n"
     ]
    }
   ],
   "source": [
    "# turn the data into fasttext format : __label__0/1 + text => __label__positive/negative + text\n",
    "def format_label(label: int) -> str:\n",
    "    \"\"\"\n",
    "        Return the label in the fasttext format.\n",
    "    \"\"\"\n",
    "    if label == 0:\n",
    "        return \"__label__negative\"\n",
    "    return \"__label__positive\"\n",
    "\n",
    "def preprocessingString(text: str) -> str:\n",
    "    '''\n",
    "        Preprocess a string. Remove punctuation and lower the text.\n",
    "    '''\n",
    "    text = text.lower().replace(\"<br />\", \" \")\n",
    "    for punct in string.punctuation:\n",
    "        if (not punct in str(\"-\")):\n",
    "            text = text.replace(punct, \" \")\n",
    "    return text\n",
    "\n",
    "def fasttext_format(df: pd.DataFrame) -> List[str]:\n",
    "    \"\"\"\n",
    "        Return a list of strings in the fasttext format.\n",
    "    \"\"\"\n",
    "    return [format_label(label) + \" \" + preprocessingString(text) + \"\\n\" for text, label in zip(df['text'], df['label'])]\n",
    "\n",
    "def write_fasttext_file(df: pd.DataFrame, filename: str) -> None:\n",
    "    \"\"\"\n",
    "        Write a file in the fasttext format.\n",
    "    \"\"\"\n",
    "    with open(filename, \"w\") as f:\n",
    "        l = fasttext_format(df)\n",
    "        random.shuffle(l)\n",
    "        # sort the labels to have positive first, then negative\n",
    "        l.sort(key=lambda x: x.split()[0], reverse=True)\n",
    "        f.writelines(l)\n",
    "\n",
    "# write the files\n",
    "write_fasttext_file(train_df, \"train.txt\")\n",
    "write_fasttext_file(valid_df, \"valid.txt\")\n",
    "write_fasttext_file(test_df, \"test.txt\")\n",
    "\n",
    "\n",
    "# print the first line of the file to check\n",
    "with open(\"train.txt\", \"r\") as f:\n",
    "    print(f.readlines()[0])\n"
   ]
  },
  {
   "attachments": {},
   "cell_type": "markdown",
   "id": "1e2a90ef",
   "metadata": {},
   "source": [
    "2. (2 points) Train a FastText classifier with default parameters on the training data, and evaluate it on the test data using accuracy.\n"
   ]
  },
  {
   "cell_type": "code",
   "execution_count": 156,
   "id": "ba0874c4",
   "metadata": {},
   "outputs": [
    {
     "name": "stderr",
     "output_type": "stream",
     "text": [
      "Read 4M words\n",
      "Number of words:  86069\n",
      "Number of labels: 2\n",
      "Progress: 100.0% words/sec/thread: 3183422 lr:  0.000000 avg.loss:  0.391811 ETA:   0h 0m 0s"
     ]
    },
    {
     "name": "stdout",
     "output_type": "stream",
     "text": [
      "Accuracy on the training set: 0.8948\n",
      "Accuracy on the test set: 0.86708\n"
     ]
    },
    {
     "name": "stderr",
     "output_type": "stream",
     "text": [
      "h 0m 0s\n"
     ]
    }
   ],
   "source": [
    "# train the model\n",
    "model = fasttext.train_supervised(input=\"train.txt\")\n",
    "\n",
    "# print the accuracy\n",
    "print(f\"Accuracy on the training set: {model.test('train.txt')[1]}\")\n",
    "print(f\"Accuracy on the test set: {model.test('test.txt')[1]}\")"
   ]
  },
  {
   "attachments": {},
   "cell_type": "markdown",
   "id": "1b3f93d4",
   "metadata": {},
   "source": [
    "3. (2 points) Use the [hyperparameters search functionality](https://fasttext.cc/docs/en/autotune.html) of FastText and repeat step 2.\n",
    "   * To do so, you'll need to [split](https://scikit-learn.org/stable/modules/generated/sklearn.model_selection.train_test_split.html) your training set into a training and a validation set.\n",
    "   * Let the model search for 5 minutes (it's the default search time).\n",
    "   * Don't forget to shuffle (and stratify) your splits. The dataset has its entry ordered by label (0s first, then 1s). Feeding the classifier one class and then the second can mess with its performances."
   ]
  },
  {
   "cell_type": "code",
   "execution_count": 157,
   "id": "e0ca00d6",
   "metadata": {},
   "outputs": [
    {
     "name": "stderr",
     "output_type": "stream",
     "text": [
      "Progress: 100.0% Trials:    9 Best score:  0.895400 ETA:   0h 0m 0s\n",
      "Training again with best arguments\n",
      "Read 4M words\n",
      "Number of words:  86069\n",
      "Number of labels: 2\n",
      "Progress: 100.0% words/sec/thread: 1366937 lr:  0.000000 avg.loss:  0.042619 ETA:   0h 0m 0s\n"
     ]
    },
    {
     "name": "stdout",
     "output_type": "stream",
     "text": [
      "Accuracy on the training set: 1.0\n",
      "Accuracy on the validation set: 0.896\n",
      "Accuracy on the test set: 0.89564\n"
     ]
    }
   ],
   "source": [
    "# train using hyperparameters search\n",
    "hyper_model = fasttext.train_supervised(input=\"train.txt\", autotuneValidationFile=\"valid.txt\")\n",
    "\n",
    "# print the accuracy\n",
    "print(f\"Accuracy on the training set: {hyper_model.test('train.txt')[1]}\")\n",
    "print(f\"Accuracy on the validation set: {hyper_model.test('valid.txt')[1]}\")\n",
    "print(f\"Accuracy on the test set: {hyper_model.test('test.txt')[1]}\")\n"
   ]
  },
  {
   "attachments": {},
   "cell_type": "markdown",
   "id": "59f834e5",
   "metadata": {},
   "source": [
    "4. (1 points) Look at the differences between the default model and the attributes found with hyperparameters search. How do the two models differ?\n",
    "   * Only refer to the attributes you think are interesting.\n",
    "   * See the _Tips on using FastText_ (just below) for help."
   ]
  },
  {
   "cell_type": "code",
   "execution_count": 158,
   "id": "53bda358",
   "metadata": {},
   "outputs": [
    {
     "name": "stdout",
     "output_type": "stream",
     "text": [
      "Model attributes vs Second model attributes:\n",
      "model lr:            0.1                            | hyper_model lr:              0.08499425639667486\n",
      "model dim:           100                            | hyper_model dim:             92\n",
      "model epoch:         5                              | hyper_model epoch:           100\n",
      "model minCount:      1                              | hyper_model minCount:        1\n",
      "model minCountLabel: 0                              | hyper_model minCountLabel:   0\n",
      "model minn:          0                              | hyper_model minn:            0\n",
      "model maxn:          0                              | hyper_model maxn:            0\n",
      "model neg:           5                              | hyper_model neg:             5\n",
      "model wordNgrams:    1                              | hyper_model wordNgrams:      2\n",
      "model loss:          loss_name.softmax              | hyper_model loss:            loss_name.softmax\n"
     ]
    }
   ],
   "source": [
    "# check model attributes\n",
    "# pretty print with padding\n",
    "print(\"Model attributes vs Second model attributes:\")\n",
    "print(\"model lr:\".ljust(20), str(model.lr).ljust(30), \"| hyper_model lr:\".ljust(30), hyper_model.lr)\n",
    "print(\"model dim:\".ljust(20), str(model.dim).ljust(30), \"| hyper_model dim:\".ljust(30), hyper_model.dim)\n",
    "print(\"model epoch:\".ljust(20), str(model.epoch).ljust(30), \"| hyper_model epoch:\".ljust(30), hyper_model.epoch)\n",
    "print(\"model minCount:\".ljust(20), str(model.minCount).ljust(30), \"| hyper_model minCount:\".ljust(30), hyper_model.minCount)\n",
    "print(\"model minCountLabel:\".ljust(20), str(model.minCountLabel).ljust(30), \"| hyper_model minCountLabel:\".ljust(30), hyper_model.minCountLabel)\n",
    "print(\"model minn:\".ljust(20), str(model.minn).ljust(30), \"| hyper_model minn:\".ljust(30), hyper_model.minn)\n",
    "print(\"model maxn:\".ljust(20), str(model.maxn).ljust(30), \"| hyper_model maxn:\".ljust(30), hyper_model.maxn)\n",
    "print(\"model neg:\".ljust(20), str(model.neg).ljust(30), \"| hyper_model neg:\".ljust(30), hyper_model.neg)\n",
    "print(\"model wordNgrams:\".ljust(20), str(model.wordNgrams).ljust(30), \"| hyper_model wordNgrams:\".ljust(30), hyper_model.wordNgrams)\n",
    "print(\"model loss:\".ljust(20), str(model.loss).ljust(30), \"| hyper_model loss:\".ljust(30), hyper_model.loss)\n"
   ]
  },
  {
   "attachments": {},
   "cell_type": "markdown",
   "id": "4ae2bef5",
   "metadata": {},
   "source": [
    "The learning rate (0.1 vs 0.085)  and the dim (100 vs 92) differs a bit, maybe these affined values are best suited for the problem than the default ones although they are still close  \n",
    "the second model trains on a lot more epoch (5 vs 100), wich increases the accuracy on the train set but it leads to a bit of overtraining"
   ]
  },
  {
   "attachments": {},
   "cell_type": "markdown",
   "id": "dbad84c9",
   "metadata": {},
   "source": [
    "5. (1 point) Using the tuned model, take at least 2 wrongly classified examples from the test set, and try explaining why the model failed."
   ]
  },
  {
   "cell_type": "code",
   "execution_count": 159,
   "id": "09e9a58b",
   "metadata": {},
   "outputs": [
    {
     "name": "stdout",
     "output_type": "stream",
     "text": [
      "Line :  __label__negative first off just to say i didn t get the edition i thought i would - i chose the italian version over the r2  but what actually arrived was a uk release from 1998 - claiming to be a special edition - i never knew there was a uk dvd release - but the promised biogs were not actually on the disc - just a couple of duff trailers  anyway - as to the film itself - just as i was recovering from  night train murders  my second genital mutilation thriller turns up in the same month - this time in  an italian  uk nubile schoolgirls are being offed and teacher fabio testi -  unhappily  married but nailing one of his students - becomes the main suspect  joachim fuchsberger is the detective on the case  sorry to say i was less than entranced  it was watchable but more than equally miss able and aside from the aforementioned gruesome nature of the crime  the  surprise  killing of cristina galbo which was actually  spoilt  by the dvd cover telling me about it - grrrrrr     and a surprise twist that cast the  victims  in a new light - i thought this was very routine  itwont put me off the two  sequels  though  with karin  hannibal brooks baal and camille  i spit on your grave   keaton \n",
      "\n",
      "Prediction :  __label__positive \n",
      "Label :  __label__negative \n",
      "\n",
      "Line :  __label__negative as i m listening to my parents watch this  after i gave up 10 minutes into the film   they have absolutely no idea what is going on  when  charles dickens  stared into the camera  i half expected him to turn into a demon  yes  he looked like one   unfortunately  that didn t happen   this movie had various reasons i did not finish it  one  it was unbearably slow  i mean  seriously  it was sloww  you can only understand 10  of what is said  and the characters were poorly introduced   if you have an english accent and you like a lottt of talking  no action  terrible acting  cheesy laughs  and the same music sound effects played over and over and over  then this is the movie for you     1 10 - completely horrible   avoid at all costs \n",
      "\n",
      "Prediction :  __label__positive \n",
      "Label :  __label__negative \n",
      "\n"
     ]
    }
   ],
   "source": [
    "# take two wrong predictions\n",
    "wrong_predictions = []\n",
    "labels = []\n",
    "with open(\"test.txt\", \"r\") as f:\n",
    "    for i, line in enumerate(f.readlines()):\n",
    "        predicted_label = format_label(hyper_model.predict(line.split()[1:])[0][0])\n",
    "        true_label = line.split()[0]\n",
    "        if predicted_label != true_label:\n",
    "            print(\"Line : \", line)\n",
    "            print(\"Prediction : \", predicted_label, \"\\nLabel : \", true_label, \"\\n\")\n",
    "\n",
    "            wrong_predictions.append(line)\n",
    "            labels.append(line.split()[0])\n",
    "            if len(wrong_predictions) == 2:\n",
    "                break"
   ]
  },
  {
   "attachments": {},
   "cell_type": "markdown",
   "id": "8a038dee",
   "metadata": {},
   "source": [
    "# TODO : expliquer pk c'est des mauvaises predictions"
   ]
  },
  {
   "attachments": {},
   "cell_type": "markdown",
   "id": "a31f1b47",
   "metadata": {},
   "source": [
    "6. (Bonus point) Why is it likely that the attributes `minn` and `maxn` are at 0 after an hyperparameter search on our data?\n",
    "   * Hint: on what language are we working?"
   ]
  },
  {
   "cell_type": "code",
   "execution_count": 160,
   "id": "20c852d4",
   "metadata": {},
   "outputs": [
    {
     "name": "stdout",
     "output_type": "stream",
     "text": [
      "model minn:          0                              | hyper_model minn:            0\n",
      "model maxn:          0                              | hyper_model maxn:            0\n"
     ]
    }
   ],
   "source": [
    "print(\"model minn:\".ljust(20), str(model.minn).ljust(30), \"| hyper_model minn:\".ljust(30), hyper_model.minn)\n",
    "print(\"model maxn:\".ljust(20), str(model.maxn).ljust(30), \"| hyper_model maxn:\".ljust(30), hyper_model.maxn)"
   ]
  }
 ],
 "metadata": {
  "kernelspec": {
   "display_name": "scia",
   "language": "python",
   "name": "python3"
  },
  "language_info": {
   "codemirror_mode": {
    "name": "ipython",
    "version": 3
   },
   "file_extension": ".py",
   "mimetype": "text/x-python",
   "name": "python",
   "nbconvert_exporter": "python",
   "pygments_lexer": "ipython3",
   "version": "3.11.0"
  },
  "vscode": {
   "interpreter": {
    "hash": "ea9312fc9c2d6329322094b403542e3a8436f2615ce450c7872cc3a27bdb75bb"
   }
  }
 },
 "nbformat": 4,
 "nbformat_minor": 5
}
