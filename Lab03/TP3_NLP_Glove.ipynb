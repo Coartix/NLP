{
 "cells": [
  {
   "cell_type": "code",
   "execution_count": 41,
   "id": "1a47cfb1-3d63-42d0-b29b-3c1ebde6b93c",
   "metadata": {},
   "outputs": [],
   "source": [
    "#%load_ext lab_black"
   ]
  },
  {
   "cell_type": "markdown",
   "id": "8e1992ac-b345-4bbd-a621-538b6a982f58",
   "metadata": {},
   "source": [
    "# Using GloVe for text classification\n",
    "\n",
    "In this pre-filled notebook, we use GloVe embeddings to train a classifier for sentiment analysis. For every review in the IMDB dataset we:\n",
    "1. Tokenize the review into tokens.\n",
    "2. Get the pre-trained GloVe vector for every token in the review (if they are in the voabulary of GloVe).\n",
    "3. Average the vectors over the full review.\n",
    "4. Send the vector through a logistic regression.\n",
    "\n",
    "This time, we will batch the inputs instead of updating the weights once per epoch.\n",
    "\n",
    "Before starting, to make your experiments reproducible, make sure to [force the random seed](https://pytorch.org/docs/stable/notes/randomness.html)."
   ]
  },
  {
   "cell_type": "code",
   "execution_count": 61,
   "id": "f7e402d1-f6f5-4ee5-8cde-813c2a2b4ee1",
   "metadata": {},
   "outputs": [],
   "source": [
    "from copy import deepcopy\n",
    "from functools import partial\n",
    "from typing import Callable, Dict, Generator, List, Tuple\n",
    "\n",
    "from datasets import load_dataset\n",
    "import matplotlib.pyplot as plt\n",
    "import numpy as np\n",
    "import pandas as pd\n",
    "from sklearn.utils import shuffle\n",
    "import torch\n",
    "from torch import nn\n",
    "import torchtext\n",
    "from torchtext import vocab\n",
    "from torchtext.vocab import GloVe\n",
    "from torchtext.data.utils import get_tokenizer\n",
    "\n",
    "from tqdm.auto import tqdm\n",
    "\n",
    "random_seed = 42"
   ]
  },
  {
   "cell_type": "markdown",
   "id": "fce0cb2c-05a4-4c70-b2dc-84bcdfadbb6d",
   "metadata": {},
   "source": [
    "## Using GloVe (1 point)\n",
    "\n",
    "Let's get familier with GloVe embeddings. We download a small version of GloVe trained of 6 billion words, and use vectors of size 300.\n",
    "\n",
    "The [torchtext documentation](https://pytorch.org/text/stable/vocab.html#glove) being quite poor, you can find details on the different pre-trained vectors on the [Stanford page](https://nlp.stanford.edu/projects/glove/)."
   ]
  },
  {
   "cell_type": "code",
   "execution_count": 43,
   "id": "ab2391a1-f23b-4f98-bac4-651081d6c258",
   "metadata": {},
   "outputs": [
    {
     "data": {
      "text/plain": [
       "400000"
      ]
     },
     "execution_count": 43,
     "metadata": {},
     "output_type": "execute_result"
    }
   ],
   "source": [
    "glove = GloVe(name=\"6B\", dim=300)\n",
    "len(glove.stoi)"
   ]
  },
  {
   "cell_type": "code",
   "execution_count": 44,
   "id": "f2630885-032e-44ee-9fb7-b7b571216f2a",
   "metadata": {},
   "outputs": [
    {
     "data": {
      "text/plain": [
       "(5450, 'cat', torch.Size([300]))"
      ]
     },
     "execution_count": 44,
     "metadata": {},
     "output_type": "execute_result"
    }
   ],
   "source": [
    "glove.stoi[\"cat\"], glove.itos[5450], glove.vectors[glove.stoi[\"cat\"]].shape"
   ]
  },
  {
   "cell_type": "code",
   "execution_count": 45,
   "id": "b5ef6f37-1d1e-4b3a-82d4-ad09e975aa61",
   "metadata": {},
   "outputs": [
    {
     "data": {
      "text/plain": [
       "['the', ',', '.', 'of', 'to']"
      ]
     },
     "execution_count": 45,
     "metadata": {},
     "output_type": "execute_result"
    }
   ],
   "source": [
    "glove.itos[:5]"
   ]
  },
  {
   "cell_type": "markdown",
   "id": "8def2d83-d256-4432-ab2a-ab9cf782b062",
   "metadata": {},
   "source": [
    "Notice that punctuations are part of GloVe's vocabulary.\n",
    "\n",
    "To compare two words, we can look at their cosine similarity."
   ]
  },
  {
   "cell_type": "code",
   "execution_count": 46,
   "id": "fca0941f-9e61-4cf0-8bb8-a9132d50f0b7",
   "metadata": {},
   "outputs": [
    {
     "name": "stdout",
     "output_type": "stream",
     "text": [
      "cat x cats = 0.6815836429595947\n",
      "cat x dog = 0.6816746592521667\n",
      "cat x fridge = 0.09630905091762543\n"
     ]
    }
   ],
   "source": [
    "words = [\"cat\", \"cats\", \"dog\", \"fridge\"]\n",
    "for word in words[1:]:\n",
    "    similarity = torch.cosine_similarity(\n",
    "        glove.vectors[glove.stoi[words[0]]].reshape(1, -1),\n",
    "        glove.vectors[glove.stoi[word]].reshape(1, -1),\n",
    "    ).item()  # .item() is used to turn a tensor of a single value to a float\n",
    "    print(f\"{words[0]} x {word} = {similarity}\")"
   ]
  },
  {
   "cell_type": "markdown",
   "id": "0f960f72-be8e-4f35-8b71-7d188ad61a90",
   "metadata": {},
   "source": [
    "**\\[1 point\\] Find the closest word to \"cat\" in the whole vocabulary.**"
   ]
  },
  {
   "cell_type": "code",
   "execution_count": 47,
   "id": "a504e211-bb70-48ad-b365-e4ab5d0ed25f",
   "metadata": {},
   "outputs": [
    {
     "name": "stdout",
     "output_type": "stream",
     "text": [
      "cat x cat = 1.0\n",
      "cat x dog = 0.6816746592521667\n"
     ]
    }
   ],
   "source": [
    "word = \"cat\"\n",
    "# your code\n",
    "\n",
    "# find the most similar word to \"cat\" in the vocabulary\n",
    "max_similarity = -1\n",
    "most_similar_word = None\n",
    "second_max_similarity = -1\n",
    "second_most_similar_word = None\n",
    "for w in glove.itos:\n",
    "    similarity = torch.cosine_similarity(\n",
    "        glove.vectors[glove.stoi[word]].reshape(1, -1),\n",
    "        glove.vectors[glove.stoi[w]].reshape(1, -1),\n",
    "    ).item()\n",
    "    if similarity > max_similarity:\n",
    "        second_max_similarity = max_similarity\n",
    "        second_most_similar_word = most_similar_word\n",
    "        max_similarity = similarity\n",
    "        most_similar_word = w\n",
    "\n",
    "print(f\"{word} x {most_similar_word} = {max_similarity}\")\n",
    "print(f\"{word} x {second_most_similar_word} = {second_max_similarity}\")\n"
   ]
  },
  {
   "attachments": {},
   "cell_type": "markdown",
   "id": "43d57e62",
   "metadata": {},
   "source": [
    "The closest word to cat is indeed cat, the second one (or the first one wich is not cat) is the word dog\n"
   ]
  },
  {
   "cell_type": "markdown",
   "id": "2caa4d00-769b-4304-8010-3721bc926e68",
   "metadata": {},
   "source": [
    "## Dataset and split\n",
    "\n",
    "As we keep the test set for final evaluation, we need to split the training set into a training and validation set. We make sure the split is **stratified** by class (same proportion of class in each split)."
   ]
  },
  {
   "cell_type": "code",
   "execution_count": 48,
   "id": "ee47710f-8f8f-4e1b-a3e0-390de0a64d4e",
   "metadata": {},
   "outputs": [
    {
     "name": "stderr",
     "output_type": "stream",
     "text": [
      "Found cached dataset imdb (/home/pili/.cache/huggingface/datasets/imdb/plain_text/1.0.0/d613c88cf8fa3bab83b4ded3713f1f74830d1100e171db75bbddb80b3345c9c0)\n",
      "100%|██████████| 3/3 [00:00<00:00, 69.31it/s]\n",
      "Loading cached split indices for dataset at /home/pili/.cache/huggingface/datasets/imdb/plain_text/1.0.0/d613c88cf8fa3bab83b4ded3713f1f74830d1100e171db75bbddb80b3345c9c0/cache-5f37fd0866e4f89f.arrow and /home/pili/.cache/huggingface/datasets/imdb/plain_text/1.0.0/d613c88cf8fa3bab83b4ded3713f1f74830d1100e171db75bbddb80b3345c9c0/cache-dd5732a0e6ac784c.arrow\n"
     ]
    },
    {
     "data": {
      "text/plain": [
       "((20000, 2), (5000, 2), (25000, 2))"
      ]
     },
     "execution_count": 48,
     "metadata": {},
     "output_type": "execute_result"
    }
   ],
   "source": [
    "dataset = load_dataset(\"imdb\")\n",
    "train_dataset = dataset[\"train\"].train_test_split(\n",
    "    stratify_by_column=\"label\", test_size=0.2, seed=42\n",
    ")\n",
    "test_df = dataset[\"test\"]\n",
    "train_df = train_dataset[\"train\"]\n",
    "valid_df = train_dataset[\"test\"]\n",
    "train_df.shape, valid_df.shape, test_df.shape"
   ]
  },
  {
   "cell_type": "markdown",
   "id": "e8f188d7-9e67-4b03-bab1-00508db56399",
   "metadata": {},
   "source": [
    "## Prepare the inputs\n",
    "\n",
    "### Text processing pipeline (2 points)\n",
    "\n",
    "For a given entry, we want to\n",
    "1. Tokenize the text.\n",
    "2. Get the vectors for each token.\n",
    "3. Average them.\n",
    "\n",
    "For tokenization, let's use the \"basic_english\" tokenizer from torchtext."
   ]
  },
  {
   "cell_type": "code",
   "execution_count": 49,
   "id": "a9868b71-5bc5-429c-9cb1-4ddb9c331f97",
   "metadata": {},
   "outputs": [],
   "source": [
    "tokenizer = get_tokenizer(\"basic_english\", language=\"en\")"
   ]
  },
  {
   "cell_type": "markdown",
   "id": "63219cef-b375-40de-b3ad-1401b6079c5a",
   "metadata": {},
   "source": [
    "**\\[2 points\\] Fill the `preprocess_text` function so it returns the mean of the GloVe vectors of all the tokens within a review.**\n",
    "\n",
    "The two following functions can help.\n",
    "* [torch.stack](https://pytorch.org/docs/stable/generated/torch.stack.html)\n",
    "* [torch.mean](https://pytorch.org/docs/stable/generated/torch.mean.html)"
   ]
  },
  {
   "cell_type": "code",
   "execution_count": 50,
   "id": "3ba4642e-fd7c-4dd1-9799-74360787976d",
   "metadata": {},
   "outputs": [],
   "source": [
    "def vectorize_text(\n",
    "    text: str, vocabulary: vocab.Vocab, tokenizer: Callable[[str], List[str]]\n",
    ") -> torch.Tensor:\n",
    "    \"\"\"\n",
    "    Turn a string into the average of the vectors of its tokens.\n",
    "    Args:\n",
    "        text: the input text.\n",
    "        vocabulary: a pre-trained Vocab object.\n",
    "        tokenizer: a tokenizer taking a text as input and returning a list of tokens.\n",
    "    Returns:\n",
    "        The average tensor over the tokens of the whole text.\n",
    "    \"\"\"\n",
    "    # Your code\n",
    "\n",
    "    # tokenize the text\n",
    "    tokens = tokenizer(text)\n",
    "    # get the vectors of the tokens\n",
    "    vectors = []\n",
    "    for token in tokens:\n",
    "        if token in vocabulary.stoi:\n",
    "            vectors.append(vocabulary.vectors[vocabulary.stoi[token]])\n",
    "    # average the vectors\n",
    "    average = torch.mean(torch.stack(vectors), dim=0)\n",
    "    return average"
   ]
  },
  {
   "cell_type": "code",
   "execution_count": 51,
   "id": "9b6fa0c3-cb31-49d4-9869-fef8f1bb6a2d",
   "metadata": {
    "scrolled": true,
    "tags": []
   },
   "outputs": [],
   "source": [
    "text_pipeline = partial(vectorize_text, vocabulary=glove, tokenizer=tokenizer)\n",
    "assert text_pipeline(\"some text.\").shape == torch.Size([300])"
   ]
  },
  {
   "cell_type": "markdown",
   "id": "c3caf280-7436-44b9-a223-c00012a590d2",
   "metadata": {},
   "source": [
    "Now we turn our 3 sets into vectors and labels.\n",
    "\n",
    "Our data are quite small, so we can keep everything in RAM."
   ]
  },
  {
   "cell_type": "code",
   "execution_count": 52,
   "id": "6a6f4e6e-6bc6-4bdf-831d-02b6f14a56b0",
   "metadata": {},
   "outputs": [
    {
     "name": "stderr",
     "output_type": "stream",
     "text": [
      "100%|██████████| 20000/20000 [00:32<00:00, 606.55it/s] \n",
      "100%|██████████| 5000/5000 [00:03<00:00, 1324.84it/s]\n",
      "100%|██████████| 25000/25000 [00:18<00:00, 1385.06it/s]\n"
     ]
    }
   ],
   "source": [
    "X_train = [text_pipeline(text) for text in tqdm(train_df[\"text\"])]\n",
    "y_train = train_df[\"label\"]\n",
    "X_valid = [text_pipeline(text) for text in tqdm(valid_df[\"text\"])]\n",
    "y_valid = valid_df[\"label\"]\n",
    "X_test = [text_pipeline(text) for text in tqdm(test_df[\"text\"])]\n",
    "y_test = test_df[\"label\"]"
   ]
  },
  {
   "cell_type": "markdown",
   "id": "928a5323-3f1e-4d1e-a5fa-2d752c5ae929",
   "metadata": {},
   "source": [
    "### Batch processing (1 point)\n",
    "\n",
    "Instead of doing one update per epoch, we feed the model batches of texts between each update. To do so, we use a simple data generator.\n",
    "\n",
    "**\\[1 point\\] Fill the generator function.**\n"
   ]
  },
  {
   "cell_type": "code",
   "execution_count": 53,
   "id": "014d3de9-94bb-4be8-9419-8d2aa59ba3c2",
   "metadata": {},
   "outputs": [],
   "source": [
    "def data_generator(\n",
    "    X: List[torch.tensor], y: List[int], batch_size: int = 32\n",
    ") -> Generator[Tuple[torch.Tensor, torch.Tensor], None, None]:\n",
    "    \"\"\"\n",
    "    Yield batches from given input data and labels.\n",
    "    Args:\n",
    "        X: a list of tensor (input features).\n",
    "        y: the corresponding labels.\n",
    "        batch_size: the size of every batch [32].\n",
    "    Returns:\n",
    "        A tuple of tensors (features, labels).\n",
    "    \"\"\"\n",
    "    X, y = shuffle(X, y)\n",
    "    # Your code\n",
    "    # yield the the returning values\n",
    "    for i in range(0, len(X), batch_size):\n",
    "        yield torch.stack(X[i : i + batch_size]), torch.tensor(y[i : i + batch_size])\n"
   ]
  },
  {
   "cell_type": "code",
   "execution_count": 54,
   "id": "04ab809e-7363-4996-a064-291cd97b276e",
   "metadata": {},
   "outputs": [],
   "source": [
    "train_gen = lambda: data_generator(X_train, y_train, batch_size=32)\n",
    "for X, y in train_gen():\n",
    "    assert X.shape == torch.Size([32, 300])\n",
    "    assert y.shape == torch.Size([32])\n",
    "    break"
   ]
  },
  {
   "cell_type": "markdown",
   "id": "ec152a5b-e80e-4d34-82dc-75012707a160",
   "metadata": {},
   "source": [
    "## The classifier (1 point)\n",
    "\n",
    "We create a very simple classifier corresponding a logistic regression.\n",
    "\n",
    "**\\[1 point\\] Fill the classifier's code. The forward function needs to return a logit and not the output of a sigmoid.**"
   ]
  },
  {
   "cell_type": "code",
   "execution_count": 55,
   "id": "09607378-c4a4-4e6b-8bf0-b1c40ef941c4",
   "metadata": {},
   "outputs": [],
   "source": [
    "class SimpleClassifer(nn.Module):\n",
    "    \"\"\"\n",
    "    A simple linear classifier.\n",
    "    \"\"\"\n",
    "\n",
    "    def __init__(self, embedding_size: int, nb_classes: int) -> None:\n",
    "        \"\"\"\n",
    "        Args:\n",
    "            embedding_size: the dimension of the input embeddings.\n",
    "        nb_classes: the output dimension.\n",
    "        \"\"\"\n",
    "        # your code\n",
    "        super(SimpleClassifer, self).__init__()\n",
    "        self.linear = nn.Linear(embedding_size, nb_classes)\n",
    "        \n",
    "    def forward(self, x: torch.Tensor) -> torch.Tensor:\n",
    "        \"\"\"\n",
    "        Args:\n",
    "            x: an input tensor\n",
    "        Returns:\n",
    "            Logits.\n",
    "        \"\"\"\n",
    "        # your code\n",
    "        # return sigmoid logits\n",
    "        return torch.sigmoid(self.linear(x))\n",
    "        "
   ]
  },
  {
   "cell_type": "markdown",
   "id": "5482c601-8ad2-4244-aa49-380df76091c1",
   "metadata": {},
   "source": [
    "## Training (3 points)\n",
    "\n",
    "We put everything above together and train the classifier."
   ]
  },
  {
   "cell_type": "code",
   "execution_count": 56,
   "id": "0e6a6da3-d538-4ebc-9bc9-cdec010de29f",
   "metadata": {},
   "outputs": [
    {
     "data": {
      "text/plain": [
       "'cpu'"
      ]
     },
     "execution_count": 56,
     "metadata": {},
     "output_type": "execute_result"
    }
   ],
   "source": [
    "device = \"cuda:0\" if torch.cuda.is_available() else \"cpu\"\n",
    "device"
   ]
  },
  {
   "cell_type": "code",
   "execution_count": 57,
   "id": "47d80e77-75dc-4aa6-b0cf-0f4619bb8b52",
   "metadata": {},
   "outputs": [],
   "source": [
    "train_gen = lambda: data_generator(X_train, y_train)\n",
    "valid_gen = lambda: data_generator(X_valid, y_valid)\n",
    "test_gen = lambda: data_generator(X_test, y_test)"
   ]
  },
  {
   "cell_type": "markdown",
   "id": "18ddcbc0-a8a0-433f-86d6-63d51f1877c6",
   "metadata": {},
   "source": [
    "**\\[3 points\\] Fill the following cells. Make sure you save the best model evaluated on the validation set.**\n",
    "* The `deepcopy` function might help."
   ]
  },
  {
   "cell_type": "code",
   "execution_count": 62,
   "id": "54a7538b",
   "metadata": {},
   "outputs": [],
   "source": [
    "import copy"
   ]
  },
  {
   "cell_type": "code",
   "execution_count": 63,
   "id": "c4ea0bd2-d156-48e4-ab10-82dae2a880f1",
   "metadata": {},
   "outputs": [],
   "source": [
    "model = SimpleClassifer(300, 1).to(device)\n",
    "criterion = nn.BCEWithLogitsLoss()\n",
    "# You can use another optimizer if you want.\n",
    "optimizer = torch.optim.Adam(model.parameters())"
   ]
  },
  {
   "cell_type": "code",
   "execution_count": 64,
   "id": "b9f3daeb",
   "metadata": {},
   "outputs": [
    {
     "name": "stderr",
     "output_type": "stream",
     "text": [
      "  2%|▏         | 1/50 [00:00<00:13,  3.74it/s]"
     ]
    },
    {
     "name": "stdout",
     "output_type": "stream",
     "text": [
      "Epoch 0 - Validation loss: 0.6865806120216467\n"
     ]
    },
    {
     "name": "stderr",
     "output_type": "stream",
     "text": [
      "  4%|▍         | 2/50 [00:00<00:12,  3.77it/s]"
     ]
    },
    {
     "name": "stdout",
     "output_type": "stream",
     "text": [
      "Epoch 1 - Validation loss: 0.6802675553188202\n"
     ]
    },
    {
     "name": "stderr",
     "output_type": "stream",
     "text": [
      "  6%|▌         | 3/50 [00:00<00:12,  3.89it/s]"
     ]
    },
    {
     "name": "stdout",
     "output_type": "stream",
     "text": [
      "Epoch 2 - Validation loss: 0.6750318440915167\n"
     ]
    },
    {
     "name": "stderr",
     "output_type": "stream",
     "text": [
      "  8%|▊         | 4/50 [00:01<00:12,  3.77it/s]"
     ]
    },
    {
     "name": "stdout",
     "output_type": "stream",
     "text": [
      "Epoch 3 - Validation loss: 0.6707071880246425\n"
     ]
    },
    {
     "name": "stderr",
     "output_type": "stream",
     "text": [
      " 10%|█         | 5/50 [00:01<00:12,  3.61it/s]"
     ]
    },
    {
     "name": "stdout",
     "output_type": "stream",
     "text": [
      "Epoch 4 - Validation loss: 0.6670791252403503\n"
     ]
    },
    {
     "name": "stderr",
     "output_type": "stream",
     "text": [
      " 12%|█▏        | 6/50 [00:01<00:11,  3.67it/s]"
     ]
    },
    {
     "name": "stdout",
     "output_type": "stream",
     "text": [
      "Epoch 5 - Validation loss: 0.6640026408016303\n"
     ]
    },
    {
     "name": "stderr",
     "output_type": "stream",
     "text": [
      " 14%|█▍        | 7/50 [00:01<00:11,  3.63it/s]"
     ]
    },
    {
     "name": "stdout",
     "output_type": "stream",
     "text": [
      "Epoch 6 - Validation loss: 0.6611212275047754\n"
     ]
    },
    {
     "name": "stderr",
     "output_type": "stream",
     "text": [
      " 16%|█▌        | 8/50 [00:02<00:11,  3.73it/s]"
     ]
    },
    {
     "name": "stdout",
     "output_type": "stream",
     "text": [
      "Epoch 7 - Validation loss: 0.6585971711642423\n"
     ]
    },
    {
     "name": "stderr",
     "output_type": "stream",
     "text": [
      " 18%|█▊        | 9/50 [00:02<00:10,  3.78it/s]"
     ]
    },
    {
     "name": "stdout",
     "output_type": "stream",
     "text": [
      "Epoch 8 - Validation loss: 0.6562857730795285\n"
     ]
    },
    {
     "name": "stderr",
     "output_type": "stream",
     "text": [
      " 20%|██        | 10/50 [00:02<00:10,  3.73it/s]"
     ]
    },
    {
     "name": "stdout",
     "output_type": "stream",
     "text": [
      "Epoch 9 - Validation loss: 0.6541524937578067\n"
     ]
    },
    {
     "name": "stderr",
     "output_type": "stream",
     "text": [
      " 22%|██▏       | 11/50 [00:02<00:10,  3.72it/s]"
     ]
    },
    {
     "name": "stdout",
     "output_type": "stream",
     "text": [
      "Epoch 10 - Validation loss: 0.6522295520218659\n"
     ]
    },
    {
     "name": "stderr",
     "output_type": "stream",
     "text": [
      " 24%|██▍       | 12/50 [00:03<00:09,  3.81it/s]"
     ]
    },
    {
     "name": "stdout",
     "output_type": "stream",
     "text": [
      "Epoch 11 - Validation loss: 0.6504392784302402\n"
     ]
    },
    {
     "name": "stderr",
     "output_type": "stream",
     "text": [
      " 26%|██▌       | 13/50 [00:03<00:09,  3.88it/s]"
     ]
    },
    {
     "name": "stdout",
     "output_type": "stream",
     "text": [
      "Epoch 12 - Validation loss: 0.6487258999795087\n"
     ]
    },
    {
     "name": "stderr",
     "output_type": "stream",
     "text": [
      " 28%|██▊       | 14/50 [00:03<00:09,  3.89it/s]"
     ]
    },
    {
     "name": "stdout",
     "output_type": "stream",
     "text": [
      "Epoch 13 - Validation loss: 0.6471599976348271\n"
     ]
    },
    {
     "name": "stderr",
     "output_type": "stream",
     "text": [
      " 30%|███       | 15/50 [00:03<00:08,  3.94it/s]"
     ]
    },
    {
     "name": "stdout",
     "output_type": "stream",
     "text": [
      "Epoch 14 - Validation loss: 0.6456926672068878\n"
     ]
    },
    {
     "name": "stderr",
     "output_type": "stream",
     "text": [
      " 32%|███▏      | 16/50 [00:04<00:08,  3.96it/s]"
     ]
    },
    {
     "name": "stdout",
     "output_type": "stream",
     "text": [
      "Epoch 15 - Validation loss: 0.6443536379344904\n"
     ]
    },
    {
     "name": "stderr",
     "output_type": "stream",
     "text": [
      " 34%|███▍      | 17/50 [00:04<00:08,  3.93it/s]"
     ]
    },
    {
     "name": "stdout",
     "output_type": "stream",
     "text": [
      "Epoch 16 - Validation loss: 0.6430611755571904\n"
     ]
    },
    {
     "name": "stderr",
     "output_type": "stream",
     "text": [
      " 36%|███▌      | 18/50 [00:04<00:08,  3.92it/s]"
     ]
    },
    {
     "name": "stdout",
     "output_type": "stream",
     "text": [
      "Epoch 17 - Validation loss: 0.6418205956913272\n"
     ]
    },
    {
     "name": "stderr",
     "output_type": "stream",
     "text": [
      " 38%|███▊      | 19/50 [00:04<00:07,  3.93it/s]"
     ]
    },
    {
     "name": "stdout",
     "output_type": "stream",
     "text": [
      "Epoch 18 - Validation loss: 0.6406557559167784\n"
     ]
    },
    {
     "name": "stderr",
     "output_type": "stream",
     "text": [
      " 40%|████      | 20/50 [00:05<00:07,  3.90it/s]"
     ]
    },
    {
     "name": "stdout",
     "output_type": "stream",
     "text": [
      "Epoch 19 - Validation loss: 0.6395229037969735\n"
     ]
    },
    {
     "name": "stderr",
     "output_type": "stream",
     "text": [
      " 42%|████▏     | 21/50 [00:05<00:08,  3.58it/s]"
     ]
    },
    {
     "name": "stdout",
     "output_type": "stream",
     "text": [
      "Epoch 20 - Validation loss: 0.6384863564380199\n"
     ]
    },
    {
     "name": "stderr",
     "output_type": "stream",
     "text": [
      " 44%|████▍     | 22/50 [00:05<00:08,  3.48it/s]"
     ]
    },
    {
     "name": "stdout",
     "output_type": "stream",
     "text": [
      "Epoch 21 - Validation loss: 0.6374738582414772\n"
     ]
    },
    {
     "name": "stderr",
     "output_type": "stream",
     "text": [
      " 46%|████▌     | 23/50 [00:06<00:07,  3.50it/s]"
     ]
    },
    {
     "name": "stdout",
     "output_type": "stream",
     "text": [
      "Epoch 22 - Validation loss: 0.6365396107078358\n"
     ]
    },
    {
     "name": "stderr",
     "output_type": "stream",
     "text": [
      " 48%|████▊     | 24/50 [00:06<00:07,  3.53it/s]"
     ]
    },
    {
     "name": "stdout",
     "output_type": "stream",
     "text": [
      "Epoch 23 - Validation loss: 0.6356632261202847\n"
     ]
    },
    {
     "name": "stderr",
     "output_type": "stream",
     "text": [
      " 50%|█████     | 25/50 [00:06<00:06,  3.62it/s]"
     ]
    },
    {
     "name": "stdout",
     "output_type": "stream",
     "text": [
      "Epoch 24 - Validation loss: 0.6348037859284954\n"
     ]
    },
    {
     "name": "stderr",
     "output_type": "stream",
     "text": [
      " 52%|█████▏    | 26/50 [00:06<00:06,  3.70it/s]"
     ]
    },
    {
     "name": "stdout",
     "output_type": "stream",
     "text": [
      "Epoch 25 - Validation loss: 0.6339900496396174\n"
     ]
    },
    {
     "name": "stderr",
     "output_type": "stream",
     "text": [
      " 54%|█████▍    | 27/50 [00:07<00:06,  3.79it/s]"
     ]
    },
    {
     "name": "stdout",
     "output_type": "stream",
     "text": [
      "Epoch 26 - Validation loss: 0.6332009123107909\n"
     ]
    },
    {
     "name": "stderr",
     "output_type": "stream",
     "text": [
      " 56%|█████▌    | 28/50 [00:07<00:05,  3.79it/s]"
     ]
    },
    {
     "name": "stdout",
     "output_type": "stream",
     "text": [
      "Epoch 27 - Validation loss: 0.632453240244035\n"
     ]
    },
    {
     "name": "stderr",
     "output_type": "stream",
     "text": [
      " 58%|█████▊    | 29/50 [00:07<00:05,  3.83it/s]"
     ]
    },
    {
     "name": "stdout",
     "output_type": "stream",
     "text": [
      "Epoch 28 - Validation loss: 0.6317068168076478\n"
     ]
    },
    {
     "name": "stderr",
     "output_type": "stream",
     "text": [
      " 60%|██████    | 30/50 [00:07<00:05,  3.75it/s]"
     ]
    },
    {
     "name": "stdout",
     "output_type": "stream",
     "text": [
      "Epoch 29 - Validation loss: 0.6310186501774312\n"
     ]
    },
    {
     "name": "stderr",
     "output_type": "stream",
     "text": [
      " 62%|██████▏   | 31/50 [00:08<00:05,  3.73it/s]"
     ]
    },
    {
     "name": "stdout",
     "output_type": "stream",
     "text": [
      "Epoch 30 - Validation loss: 0.6303280145572837\n"
     ]
    },
    {
     "name": "stderr",
     "output_type": "stream",
     "text": [
      " 64%|██████▍   | 32/50 [00:08<00:04,  3.79it/s]"
     ]
    },
    {
     "name": "stdout",
     "output_type": "stream",
     "text": [
      "Epoch 31 - Validation loss: 0.629659834952586\n"
     ]
    },
    {
     "name": "stderr",
     "output_type": "stream",
     "text": [
      " 66%|██████▌   | 33/50 [00:08<00:04,  3.72it/s]"
     ]
    },
    {
     "name": "stdout",
     "output_type": "stream",
     "text": [
      "Epoch 32 - Validation loss: 0.6290309395230523\n"
     ]
    },
    {
     "name": "stderr",
     "output_type": "stream",
     "text": [
      " 68%|██████▊   | 34/50 [00:09<00:04,  3.76it/s]"
     ]
    },
    {
     "name": "stdout",
     "output_type": "stream",
     "text": [
      "Epoch 33 - Validation loss: 0.6284445138873568\n"
     ]
    },
    {
     "name": "stderr",
     "output_type": "stream",
     "text": [
      " 70%|███████   | 35/50 [00:09<00:03,  3.83it/s]"
     ]
    },
    {
     "name": "stdout",
     "output_type": "stream",
     "text": [
      "Epoch 34 - Validation loss: 0.6278719235052295\n"
     ]
    },
    {
     "name": "stderr",
     "output_type": "stream",
     "text": [
      " 72%|███████▏  | 36/50 [00:09<00:03,  3.93it/s]"
     ]
    },
    {
     "name": "stdout",
     "output_type": "stream",
     "text": [
      "Epoch 35 - Validation loss: 0.6273225454240511\n"
     ]
    },
    {
     "name": "stderr",
     "output_type": "stream",
     "text": [
      " 74%|███████▍  | 37/50 [00:09<00:03,  3.98it/s]"
     ]
    },
    {
     "name": "stdout",
     "output_type": "stream",
     "text": [
      "Epoch 36 - Validation loss: 0.6267641239351774\n"
     ]
    },
    {
     "name": "stderr",
     "output_type": "stream",
     "text": [
      " 76%|███████▌  | 38/50 [00:10<00:03,  3.96it/s]"
     ]
    },
    {
     "name": "stdout",
     "output_type": "stream",
     "text": [
      "Epoch 37 - Validation loss: 0.6262431094261212\n"
     ]
    },
    {
     "name": "stderr",
     "output_type": "stream",
     "text": [
      " 78%|███████▊  | 39/50 [00:10<00:02,  4.01it/s]"
     ]
    },
    {
     "name": "stdout",
     "output_type": "stream",
     "text": [
      "Epoch 38 - Validation loss: 0.6257336516503356\n"
     ]
    },
    {
     "name": "stderr",
     "output_type": "stream",
     "text": [
      " 80%|████████  | 40/50 [00:10<00:02,  4.05it/s]"
     ]
    },
    {
     "name": "stdout",
     "output_type": "stream",
     "text": [
      "Epoch 39 - Validation loss: 0.6252412197791088\n"
     ]
    },
    {
     "name": "stderr",
     "output_type": "stream",
     "text": [
      " 82%|████████▏ | 41/50 [00:10<00:02,  4.07it/s]"
     ]
    },
    {
     "name": "stdout",
     "output_type": "stream",
     "text": [
      "Epoch 40 - Validation loss: 0.6247590128560976\n"
     ]
    },
    {
     "name": "stderr",
     "output_type": "stream",
     "text": [
      " 84%|████████▍ | 42/50 [00:11<00:01,  4.10it/s]"
     ]
    },
    {
     "name": "stdout",
     "output_type": "stream",
     "text": [
      "Epoch 41 - Validation loss: 0.624293918573643\n"
     ]
    },
    {
     "name": "stderr",
     "output_type": "stream",
     "text": [
      " 86%|████████▌ | 43/50 [00:11<00:01,  4.09it/s]"
     ]
    },
    {
     "name": "stdout",
     "output_type": "stream",
     "text": [
      "Epoch 42 - Validation loss: 0.6238475005470582\n"
     ]
    },
    {
     "name": "stderr",
     "output_type": "stream",
     "text": [
      " 88%|████████▊ | 44/50 [00:11<00:01,  4.09it/s]"
     ]
    },
    {
     "name": "stdout",
     "output_type": "stream",
     "text": [
      "Epoch 43 - Validation loss: 0.623422871017532\n"
     ]
    },
    {
     "name": "stderr",
     "output_type": "stream",
     "text": [
      " 90%|█████████ | 45/50 [00:11<00:01,  4.00it/s]"
     ]
    },
    {
     "name": "stdout",
     "output_type": "stream",
     "text": [
      "Epoch 44 - Validation loss: 0.6230044936551664\n"
     ]
    },
    {
     "name": "stderr",
     "output_type": "stream",
     "text": [
      " 92%|█████████▏| 46/50 [00:12<00:01,  3.92it/s]"
     ]
    },
    {
     "name": "stdout",
     "output_type": "stream",
     "text": [
      "Epoch 45 - Validation loss: 0.6225798033720502\n"
     ]
    },
    {
     "name": "stderr",
     "output_type": "stream",
     "text": [
      " 94%|█████████▍| 47/50 [00:12<00:00,  3.89it/s]"
     ]
    },
    {
     "name": "stdout",
     "output_type": "stream",
     "text": [
      "Epoch 46 - Validation loss: 0.6221770687403114\n"
     ]
    },
    {
     "name": "stderr",
     "output_type": "stream",
     "text": [
      " 96%|█████████▌| 48/50 [00:12<00:00,  3.82it/s]"
     ]
    },
    {
     "name": "stdout",
     "output_type": "stream",
     "text": [
      "Epoch 47 - Validation loss: 0.6217957912625907\n"
     ]
    },
    {
     "name": "stderr",
     "output_type": "stream",
     "text": [
      " 98%|█████████▊| 49/50 [00:12<00:00,  3.85it/s]"
     ]
    },
    {
     "name": "stdout",
     "output_type": "stream",
     "text": [
      "Epoch 48 - Validation loss: 0.6214086350083087\n"
     ]
    },
    {
     "name": "stderr",
     "output_type": "stream",
     "text": [
      "100%|██████████| 50/50 [00:13<00:00,  3.81it/s]"
     ]
    },
    {
     "name": "stdout",
     "output_type": "stream",
     "text": [
      "Epoch 49 - Validation loss: 0.6210391657671351\n"
     ]
    },
    {
     "name": "stderr",
     "output_type": "stream",
     "text": [
      "\n"
     ]
    }
   ],
   "source": [
    "nb_epochs = 50\n",
    "train_losses, valid_losses = [], []\n",
    "\n",
    "best_model = model\n",
    "best_validation_loss = np.Inf\n",
    "\n",
    "for epoch in tqdm(range(nb_epochs)):\n",
    "\n",
    "    # training\n",
    "    model.train()\n",
    "    # training loop\n",
    "    x = train_gen()\n",
    "    loss_batchs = []\n",
    "    for X, y in x:\n",
    "        X, y = X.to(device), y.to(device)\n",
    "        optimizer.zero_grad()\n",
    "        output = model(X)\n",
    "        loss = criterion(torch.squeeze(output), y.float())\n",
    "        loss.backward()\n",
    "        optimizer.step()\n",
    "        loss_batchs.append(loss.item())\n",
    "    train_losses.append(np.mean(loss_batchs))\n",
    "    \n",
    "    # validation\n",
    "    model.eval()\n",
    "    with torch.no_grad():\n",
    "        x = valid_gen()\n",
    "        loss_batchs_valid = []\n",
    "        for X, y in x:\n",
    "            X, y = X.to(device), y.to(device)\n",
    "            output = model(X)\n",
    "            loss = criterion(torch.squeeze(output), y.float())\n",
    "            loss_batchs_valid.append(loss.item())\n",
    "        \n",
    "        valid_losses.append(np.mean(loss_batchs_valid))\n",
    "        print(f\"Epoch {epoch} - Validation loss: {np.mean(valid_losses)}\")\n",
    "        \n",
    "        if np.mean(valid_losses) < best_validation_loss:\n",
    "            best_model = model\n",
    "            best_validation_loss = np.mean(valid_losses)\n",
    "\n",
    "model = copy.deepcopy(best_model)\n"
   ]
  },
  {
   "cell_type": "code",
   "execution_count": 65,
   "id": "7907de12-1fc2-4597-980b-87d79baeb807",
   "metadata": {},
   "outputs": [
    {
     "data": {
      "text/plain": [
       "<matplotlib.legend.Legend at 0x7f51653b6c10>"
      ]
     },
     "execution_count": 65,
     "metadata": {},
     "output_type": "execute_result"
    },
    {
     "data": {
      "image/png": "[encoded data removed]",
      "text/plain": [
       "<Figure size 640x480 with 1 Axes>"
      ]
     },
     "metadata": {},
     "output_type": "display_data"
    }
   ],
   "source": [
    "plt.plot(train_losses, label=\"train loss\")\n",
    "plt.plot(valid_losses, label=\"valid loss\")\n",
    "plt.legend()"
   ]
  },
  {
   "cell_type": "markdown",
   "id": "3020533b-0522-42ff-bcdc-6d1cd991d332",
   "metadata": {},
   "source": [
    "## Evaluation (3 point)\n",
    "\n",
    "**\\[1 point\\] Compute the accuracy for the 3 splits (training, validation, test).**"
   ]
  },
  {
   "cell_type": "code",
   "execution_count": 66,
   "id": "73674e1e-0be6-49b0-af23-a0a9b518d170",
   "metadata": {},
   "outputs": [
    {
     "name": "stdout",
     "output_type": "stream",
     "text": [
      "Accuracy on the training set: 0.80525\n",
      "Accuracy on the validation set: 0.8016\n",
      "Accuracy on the test set: 0.79692\n"
     ]
    }
   ],
   "source": [
    "# Your code\n",
    "# compute the accuracy on the 3 splits\n",
    "def accuracy(model, X, y):\n",
    "    with torch.no_grad():\n",
    "        X = torch.stack(X).to(device)\n",
    "        y = torch.tensor(y).to(device)\n",
    "        output = model(X)\n",
    "        output = torch.squeeze(output)\n",
    "        output = torch.round(output)\n",
    "        return torch.sum(output == y).item() / len(y)\n",
    "    \n",
    "print(f\"Accuracy on the training set: {accuracy(model, X_train, y_train)}\")\n",
    "print(f\"Accuracy on the validation set: {accuracy(model, X_valid, y_valid)}\")\n",
    "print(f\"Accuracy on the test set: {accuracy(model, X_test, y_test)}\")"
   ]
  },
  {
   "attachments": {},
   "cell_type": "markdown",
   "id": "ac0b7102-fb1d-4a27-a400-ff0e40e1a685",
   "metadata": {},
   "source": [
    "**\\[1 point\\] For two wrongly classified samples, try guessing why the model was wrong.**"
   ]
  },
  {
   "cell_type": "code",
   "execution_count": 67,
   "id": "ce3a46e9",
   "metadata": {},
   "outputs": [
    {
     "name": "stdout",
     "output_type": "stream",
     "text": [
      "Text: Isaac Florentine has made some of the best western Martial Arts action movies ever produced. In particular US Seals 2, Cold Harvest, Special Forces and Undisputed 2 are all action classics. You can tell Isaac has a real passion for the genre and his films are always eventful, creative and sharp affairs, with some of the best fight sequences an action fan could hope for. In particular he has found a muse with Scott Adkins, as talented an actor and action performer as you could hope for. This is borne out with Special Forces and Undisputed 2, but unfortunately The Shepherd just doesn't live up to their abilities.<br /><br />There is no doubt that JCVD looks better here fight-wise than he has done in years, especially in the fight he has (for pretty much no reason) in a prison cell, and in the final showdown with Scott, but look in his eyes. JCVD seems to be dead inside. There's nothing in his eyes at all. It's like he just doesn't care about anything throughout the whole film. And this is the leading man.<br /><br />There are other dodgy aspects to the film, script-wise and visually, but the main problem is that you are utterly unable to empathise with the hero of the film. A genuine shame as I know we all wanted this film to be as special as it genuinely could have been. There are some good bits, mostly the action scenes themselves. This film had a terrific director and action choreographer, and an awesome opponent for JCVD to face down. This could have been the one to bring the veteran action star back up to scratch in the balls-out action movie stakes.<br /><br />Sincerely a shame that this didn't happen.\n",
      "Label: 0\n",
      "Prediction: 1.0\n",
      "Text: I caught this movie on the Sci-Fi channel recently. It actually turned out to be pretty decent as far as B-list horror/suspense films go. Two guys (one naive and one loud mouthed a**) take a road trip to stop a wedding but have the worst possible luck when a maniac in a freaky, make-shift tank/truck hybrid decides to play cat-and-mouse with them. Things are further complicated when they pick up a ridiculously whorish hitchhiker. What makes this film unique is that the combination of comedy and terror actually work in this movie, unlike so many others. The two guys are likable enough and there are some good chase/suspense scenes. Nice pacing and comic timing make this movie more than passable for the horror/slasher buff. Definitely worth checking out.\n",
      "Label: 1\n",
      "Prediction: 0.0\n"
     ]
    }
   ],
   "source": [
    "# take two wrong predictions\n",
    "wrong_predictions = []\n",
    "for i in range(len(X_test)):\n",
    "    if torch.round(torch.squeeze(model(torch.stack(X_test).to(device))[i])) != y_test[i]:\n",
    "        wrong_predictions.append(i)\n",
    "        break\n",
    "\n",
    "# from the end\n",
    "for i in range(len(X_test) - 1, 0, -1):\n",
    "    if torch.round(torch.squeeze(model(torch.stack(X_test).to(device))[i])) != y_test[i]:\n",
    "        wrong_predictions.append(i)\n",
    "        break\n",
    "\n",
    "# print the wrong predictions\n",
    "for i in wrong_predictions:\n",
    "    print(f\"Text: {test_df['text'][i]}\")\n",
    "    print(f\"Label: {test_df['label'][i]}\")\n",
    "    print(f\"Prediction: {torch.round(torch.squeeze(model(torch.stack(X_test).to(device))[i]))}\")"
   ]
  },
  {
   "attachments": {},
   "cell_type": "markdown",
   "id": "23f710b6",
   "metadata": {},
   "source": [
    "### Above we have two examples of wrong predictions :  \n",
    "#### The first one :  \n",
    "Isaac Florentine has made some of the best western Martial Arts action movies ever produced. In particular US Seals 2, Cold Harvest, Special Forces and Undisputed 2 are all action classics. You can tell Isaac has a real passion for the genre and his films are always eventful, creative and sharp affairs, with some of the best fight sequences an action fan could hope for. In particular he has found a muse with Scott Adkins, as talented an actor and action performer as you could hope for. This is borne out with Special Forces and Undisputed 2, but unfortunately The Shepherd just doesn't live up to their abilities.<br /><br />There is no doubt that JCVD looks better here fight-wise than he has done in years, especially in the fight he has (for pretty much no reason) in a prison cell, and in the final showdown with Scott, but look in his eyes. JCVD seems to be dead inside. There's nothing in his eyes at all. It's like he just doesn't care about anything throughout the whole film. And this is the leading man.<br /><br />There are other dodgy aspects to the film, script-wise and visually, but the main problem is that you are utterly unable to empathise with the hero of the film. A genuine shame as I know we all wanted this film to be as special as it genuinely could have been. There are some good bits, mostly the action scenes themselves. This film had a terrific director and action choreographer, and an awesome opponent for JCVD to face down. This could have been the one to bring the veteran action star back up to scratch in the balls-out action movie stakes.<br /><br />Sincerely a shame that this didn't happen.  \n",
    "\n",
    "#### is labelled as negative but our code labelled it as positive, it may be because the author of the review spend a lot of time to compliment the author although this film disapointed him.\n",
    "\n",
    "#### The second one :  \n",
    "I caught this movie on the Sci-Fi channel recently. It actually turned out to be pretty decent as far as B-list horror/suspense films go. Two guys (one naive and one loud mouthed a**) take a road trip to stop a wedding but have the worst possible luck when a maniac in a freaky, make-shift tank/truck hybrid decides to play cat-and-mouse with them. Things are further complicated when they pick up a ridiculously whorish hitchhiker. What makes this film unique is that the combination of comedy and terror actually work in this movie, unlike so many others. The two guys are likable enough and there are some good chase/suspense scenes. Nice pacing and comic timing make this movie more than passable for the horror/slasher buff. Definitely worth checking out.\n",
    "\n",
    "#### is labelled as positive but our code labelled it as negative, it may comes from the fact that the recap of the story in the review describes a \"negative\" story, but the film is still a good film for the author"
   ]
  },
  {
   "attachments": {},
   "cell_type": "markdown",
   "id": "c358ed93",
   "metadata": {},
   "source": [
    "**\\[1 point\\] Code a `predict` function which take some text as input and returns a prediction class and score (the output of the sigmoid).**"
   ]
  },
  {
   "cell_type": "code",
   "execution_count": 68,
   "id": "094f7ac3-ad53-43e3-a1f6-90ed3a61259c",
   "metadata": {},
   "outputs": [],
   "source": [
    "def predict(\n",
    "    text: str,\n",
    "    text_pipeline: Callable[[str], torch.Tensor],\n",
    "    model: nn.Module,\n",
    "    device: str,\n",
    ") -> Tuple[int, float]:\n",
    "    \"\"\"\n",
    "    Return the predicted class and score for a given input.\n",
    "    Args:\n",
    "        text: a given review.\n",
    "        text_pipeline: a function taking a text as input and returning a tensor (model's input).\n",
    "        model: a pre-trained model.\n",
    "        device: the device on which the computation occurs.\n",
    "    Returns:\n",
    "        A tuple (label, score).\n",
    "    \"\"\"\n",
    "    # Your code\n",
    "    tensor = text_pipeline(text).to(device)\n",
    "    output = model(tensor)\n",
    "    output = torch.squeeze(output)\n",
    "    label = torch.round(output)\n",
    "    return int(label), float(output.item())\n"
   ]
  },
  {
   "cell_type": "code",
   "execution_count": 69,
   "id": "84e7130f-ce7f-41ed-a7d2-bcc6f65482f5",
   "metadata": {},
   "outputs": [
    {
     "data": {
      "text/plain": [
       "(0, 0.22268378734588623)"
      ]
     },
     "execution_count": 69,
     "metadata": {},
     "output_type": "execute_result"
    }
   ],
   "source": [
    "text = \"In my long years as a movie reviewers, I have seen good and bad movies. But nothing as controversially in the middle.\"\n",
    "#text = \"it's the best movie ever, love it so much\"\n",
    "predict(text, text_pipeline, model, device)"
   ]
  },
  {
   "cell_type": "markdown",
   "id": "c44f2dff-da04-466e-bf2c-32f9e84d10a3",
   "metadata": {},
   "source": [
    "## Bonus\n",
    "\n",
    "Modify the classifier. Instead of using a simple logistic regression, create a multilayer perceptron. Something like `input -> linear(embedding_size, 128) -> activation function -> linear(128, nb_classes) -> output`, for a two layer perceptron.\n",
    "\n",
    "For the activation function, you can use [ReLU](https://pytorch.org/docs/stable/generated/torch.nn.ReLU.html#torch.nn.ReLU) or [another non-linear activation function](https://pytorch.org/docs/stable/nn.html#non-linear-activations-weighted-sum-nonlinearity) of your choice.\n",
    "\n",
    "Train your new classifier, look at the loss, and compare its accuracy with the logistic regression. Keep the model with the best validation loss."
   ]
  },
  {
   "cell_type": "code",
   "execution_count": 70,
   "id": "8975c53d-2707-4d3c-ab8e-6962d5256136",
   "metadata": {},
   "outputs": [],
   "source": [
    "class MLPClassifier(nn.Module):\n",
    "    def __init__(self, input_size, hidden_size, output_size):\n",
    "        super(MLPClassifier, self).__init__()\n",
    "        self.fc1 = nn.Linear(input_size, hidden_size)\n",
    "        self.activation = nn.ReLU()\n",
    "        self.fc2 = nn.Linear(hidden_size, output_size)\n",
    "\n",
    "    def forward(self, x):\n",
    "        out = self.fc1(x)\n",
    "        out = self.activation(out)\n",
    "        out = self.fc2(out)\n",
    "        return out"
   ]
  },
  {
   "cell_type": "code",
   "execution_count": 73,
   "id": "86911cae",
   "metadata": {},
   "outputs": [
    {
     "name": "stderr",
     "output_type": "stream",
     "text": [
      "  2%|▏         | 1/50 [00:00<00:15,  3.09it/s]"
     ]
    },
    {
     "name": "stdout",
     "output_type": "stream",
     "text": [
      "Epoch 0 - Validation loss: 0.693163020215976\n"
     ]
    },
    {
     "name": "stderr",
     "output_type": "stream",
     "text": [
      "  4%|▍         | 2/50 [00:00<00:15,  3.10it/s]"
     ]
    },
    {
     "name": "stdout",
     "output_type": "stream",
     "text": [
      "Epoch 1 - Validation loss: 0.6931789534486783\n"
     ]
    },
    {
     "name": "stderr",
     "output_type": "stream",
     "text": [
      "  6%|▌         | 3/50 [00:00<00:14,  3.16it/s]"
     ]
    },
    {
     "name": "stdout",
     "output_type": "stream",
     "text": [
      "Epoch 2 - Validation loss: 0.6931583076525646\n"
     ]
    },
    {
     "name": "stderr",
     "output_type": "stream",
     "text": [
      "  8%|▊         | 4/50 [00:01<00:14,  3.15it/s]"
     ]
    },
    {
     "name": "stdout",
     "output_type": "stream",
     "text": [
      "Epoch 3 - Validation loss: 0.6931543624514986\n"
     ]
    },
    {
     "name": "stderr",
     "output_type": "stream",
     "text": [
      " 10%|█         | 5/50 [00:01<00:14,  3.05it/s]"
     ]
    },
    {
     "name": "stdout",
     "output_type": "stream",
     "text": [
      "Epoch 4 - Validation loss: 0.6931638312187923\n"
     ]
    },
    {
     "name": "stderr",
     "output_type": "stream",
     "text": [
      " 12%|█▏        | 6/50 [00:01<00:14,  3.09it/s]"
     ]
    },
    {
     "name": "stdout",
     "output_type": "stream",
     "text": [
      "Epoch 5 - Validation loss: 0.6931600210013662\n"
     ]
    },
    {
     "name": "stderr",
     "output_type": "stream",
     "text": [
      " 14%|█▍        | 7/50 [00:02<00:14,  3.02it/s]"
     ]
    },
    {
     "name": "stdout",
     "output_type": "stream",
     "text": [
      "Epoch 6 - Validation loss: 0.6931602962457449\n"
     ]
    },
    {
     "name": "stderr",
     "output_type": "stream",
     "text": [
      " 16%|█▌        | 8/50 [00:02<00:14,  2.96it/s]"
     ]
    },
    {
     "name": "stdout",
     "output_type": "stream",
     "text": [
      "Epoch 7 - Validation loss: 0.6931649113821375\n"
     ]
    },
    {
     "name": "stderr",
     "output_type": "stream",
     "text": [
      " 18%|█▊        | 9/50 [00:02<00:13,  2.98it/s]"
     ]
    },
    {
     "name": "stdout",
     "output_type": "stream",
     "text": [
      "Epoch 8 - Validation loss: 0.6931595045121443\n"
     ]
    },
    {
     "name": "stderr",
     "output_type": "stream",
     "text": [
      " 20%|██        | 10/50 [00:03<00:13,  3.04it/s]"
     ]
    },
    {
     "name": "stdout",
     "output_type": "stream",
     "text": [
      "Epoch 9 - Validation loss: 0.6931610243335651\n"
     ]
    },
    {
     "name": "stderr",
     "output_type": "stream",
     "text": [
      " 22%|██▏       | 11/50 [00:03<00:12,  3.08it/s]"
     ]
    },
    {
     "name": "stdout",
     "output_type": "stream",
     "text": [
      "Epoch 10 - Validation loss: 0.6931619174437641\n"
     ]
    },
    {
     "name": "stderr",
     "output_type": "stream",
     "text": [
      " 24%|██▍       | 12/50 [00:03<00:12,  3.09it/s]"
     ]
    },
    {
     "name": "stdout",
     "output_type": "stream",
     "text": [
      "Epoch 11 - Validation loss: 0.6931641559312297\n"
     ]
    },
    {
     "name": "stderr",
     "output_type": "stream",
     "text": [
      " 26%|██▌       | 13/50 [00:04<00:11,  3.10it/s]"
     ]
    },
    {
     "name": "stdout",
     "output_type": "stream",
     "text": [
      "Epoch 12 - Validation loss: 0.6931622255555208\n"
     ]
    },
    {
     "name": "stderr",
     "output_type": "stream",
     "text": [
      " 28%|██▊       | 14/50 [00:04<00:11,  3.06it/s]"
     ]
    },
    {
     "name": "stdout",
     "output_type": "stream",
     "text": [
      "Epoch 13 - Validation loss: 0.6931617249403355\n"
     ]
    },
    {
     "name": "stderr",
     "output_type": "stream",
     "text": [
      " 30%|███       | 15/50 [00:04<00:11,  3.11it/s]"
     ]
    },
    {
     "name": "stdout",
     "output_type": "stream",
     "text": [
      "Epoch 14 - Validation loss: 0.6931620295893108\n"
     ]
    },
    {
     "name": "stderr",
     "output_type": "stream",
     "text": [
      " 32%|███▏      | 16/50 [00:05<00:10,  3.12it/s]"
     ]
    },
    {
     "name": "stdout",
     "output_type": "stream",
     "text": [
      "Epoch 15 - Validation loss: 0.6931623508026645\n"
     ]
    },
    {
     "name": "stderr",
     "output_type": "stream",
     "text": [
      " 34%|███▍      | 17/50 [00:05<00:10,  3.15it/s]"
     ]
    },
    {
     "name": "stdout",
     "output_type": "stream",
     "text": [
      "Epoch 16 - Validation loss: 0.6931608984558802\n"
     ]
    },
    {
     "name": "stderr",
     "output_type": "stream",
     "text": [
      " 36%|███▌      | 18/50 [00:05<00:10,  3.18it/s]"
     ]
    },
    {
     "name": "stdout",
     "output_type": "stream",
     "text": [
      "Epoch 17 - Validation loss: 0.693163028399487\n"
     ]
    },
    {
     "name": "stderr",
     "output_type": "stream",
     "text": [
      " 38%|███▊      | 19/50 [00:06<00:09,  3.20it/s]"
     ]
    },
    {
     "name": "stdout",
     "output_type": "stream",
     "text": [
      "Epoch 18 - Validation loss: 0.6931651359510789\n"
     ]
    },
    {
     "name": "stderr",
     "output_type": "stream",
     "text": [
      " 40%|████      | 20/50 [00:06<00:09,  3.21it/s]"
     ]
    },
    {
     "name": "stdout",
     "output_type": "stream",
     "text": [
      "Epoch 19 - Validation loss: 0.6931642406115865\n"
     ]
    },
    {
     "name": "stderr",
     "output_type": "stream",
     "text": [
      " 42%|████▏     | 21/50 [00:06<00:09,  3.21it/s]"
     ]
    },
    {
     "name": "stdout",
     "output_type": "stream",
     "text": [
      "Epoch 20 - Validation loss: 0.6931641743260512\n"
     ]
    },
    {
     "name": "stderr",
     "output_type": "stream",
     "text": [
      " 44%|████▍     | 22/50 [00:07<00:08,  3.22it/s]"
     ]
    },
    {
     "name": "stdout",
     "output_type": "stream",
     "text": [
      "Epoch 21 - Validation loss: 0.6931621015209921\n"
     ]
    },
    {
     "name": "stderr",
     "output_type": "stream",
     "text": [
      " 46%|████▌     | 23/50 [00:07<00:08,  3.22it/s]"
     ]
    },
    {
     "name": "stdout",
     "output_type": "stream",
     "text": [
      "Epoch 22 - Validation loss: 0.6931632285763832\n"
     ]
    },
    {
     "name": "stderr",
     "output_type": "stream",
     "text": [
      " 48%|████▊     | 24/50 [00:07<00:08,  3.23it/s]"
     ]
    },
    {
     "name": "stdout",
     "output_type": "stream",
     "text": [
      "Epoch 23 - Validation loss: 0.693162105771893\n"
     ]
    },
    {
     "name": "stderr",
     "output_type": "stream",
     "text": [
      " 50%|█████     | 25/50 [00:07<00:07,  3.24it/s]"
     ]
    },
    {
     "name": "stdout",
     "output_type": "stream",
     "text": [
      "Epoch 24 - Validation loss: 0.6931604899266723\n"
     ]
    },
    {
     "name": "stderr",
     "output_type": "stream",
     "text": [
      " 52%|█████▏    | 26/50 [00:08<00:07,  3.20it/s]"
     ]
    },
    {
     "name": "stdout",
     "output_type": "stream",
     "text": [
      "Epoch 25 - Validation loss: 0.6931610874893734\n"
     ]
    },
    {
     "name": "stderr",
     "output_type": "stream",
     "text": [
      " 54%|█████▍    | 27/50 [00:08<00:07,  3.21it/s]"
     ]
    },
    {
     "name": "stdout",
     "output_type": "stream",
     "text": [
      "Epoch 26 - Validation loss: 0.6931608563944203\n"
     ]
    },
    {
     "name": "stderr",
     "output_type": "stream",
     "text": [
      " 56%|█████▌    | 28/50 [00:08<00:06,  3.22it/s]"
     ]
    },
    {
     "name": "stdout",
     "output_type": "stream",
     "text": [
      "Epoch 27 - Validation loss: 0.693160734996132\n"
     ]
    },
    {
     "name": "stderr",
     "output_type": "stream",
     "text": [
      " 58%|█████▊    | 29/50 [00:09<00:06,  3.19it/s]"
     ]
    },
    {
     "name": "stdout",
     "output_type": "stream",
     "text": [
      "Epoch 28 - Validation loss: 0.6931611699060952\n"
     ]
    },
    {
     "name": "stderr",
     "output_type": "stream",
     "text": [
      " 60%|██████    | 30/50 [00:09<00:06,  3.08it/s]"
     ]
    },
    {
     "name": "stdout",
     "output_type": "stream",
     "text": [
      "Epoch 29 - Validation loss: 0.6931618899170254\n"
     ]
    },
    {
     "name": "stderr",
     "output_type": "stream",
     "text": [
      " 62%|██████▏   | 31/50 [00:09<00:06,  2.98it/s]"
     ]
    },
    {
     "name": "stdout",
     "output_type": "stream",
     "text": [
      "Epoch 30 - Validation loss: 0.6931616566326674\n"
     ]
    },
    {
     "name": "stderr",
     "output_type": "stream",
     "text": [
      " 64%|██████▍   | 32/50 [00:10<00:05,  3.02it/s]"
     ]
    },
    {
     "name": "stdout",
     "output_type": "stream",
     "text": [
      "Epoch 31 - Validation loss: 0.693162988183225\n"
     ]
    },
    {
     "name": "stderr",
     "output_type": "stream",
     "text": [
      " 66%|██████▌   | 33/50 [00:10<00:05,  3.00it/s]"
     ]
    },
    {
     "name": "stdout",
     "output_type": "stream",
     "text": [
      "Epoch 32 - Validation loss: 0.6931640966429579\n"
     ]
    },
    {
     "name": "stderr",
     "output_type": "stream",
     "text": [
      " 68%|██████▊   | 34/50 [00:10<00:05,  3.04it/s]"
     ]
    },
    {
     "name": "stdout",
     "output_type": "stream",
     "text": [
      "Epoch 33 - Validation loss: 0.6931647262398157\n"
     ]
    },
    {
     "name": "stderr",
     "output_type": "stream",
     "text": [
      " 70%|███████   | 35/50 [00:11<00:04,  3.06it/s]"
     ]
    },
    {
     "name": "stdout",
     "output_type": "stream",
     "text": [
      "Epoch 34 - Validation loss: 0.6931654380710696\n"
     ]
    },
    {
     "name": "stderr",
     "output_type": "stream",
     "text": [
      " 72%|███████▏  | 36/50 [00:11<00:04,  2.82it/s]"
     ]
    },
    {
     "name": "stdout",
     "output_type": "stream",
     "text": [
      "Epoch 35 - Validation loss: 0.6931652574571243\n"
     ]
    },
    {
     "name": "stderr",
     "output_type": "stream",
     "text": [
      " 74%|███████▍  | 37/50 [00:11<00:04,  2.91it/s]"
     ]
    },
    {
     "name": "stdout",
     "output_type": "stream",
     "text": [
      "Epoch 36 - Validation loss: 0.69316412630334\n"
     ]
    },
    {
     "name": "stderr",
     "output_type": "stream",
     "text": [
      " 76%|███████▌  | 38/50 [00:12<00:04,  2.99it/s]"
     ]
    },
    {
     "name": "stdout",
     "output_type": "stream",
     "text": [
      "Epoch 37 - Validation loss: 0.6931646580648949\n"
     ]
    },
    {
     "name": "stderr",
     "output_type": "stream",
     "text": [
      " 78%|███████▊  | 39/50 [00:12<00:03,  2.95it/s]"
     ]
    },
    {
     "name": "stdout",
     "output_type": "stream",
     "text": [
      "Epoch 38 - Validation loss: 0.6931630899348173\n"
     ]
    },
    {
     "name": "stderr",
     "output_type": "stream",
     "text": [
      " 80%|████████  | 40/50 [00:12<00:03,  2.98it/s]"
     ]
    },
    {
     "name": "stdout",
     "output_type": "stream",
     "text": [
      "Epoch 39 - Validation loss: 0.6931624769784842\n"
     ]
    },
    {
     "name": "stderr",
     "output_type": "stream",
     "text": [
      " 82%|████████▏ | 41/50 [00:13<00:02,  3.05it/s]"
     ]
    },
    {
     "name": "stdout",
     "output_type": "stream",
     "text": [
      "Epoch 40 - Validation loss: 0.6931619309056745\n"
     ]
    },
    {
     "name": "stderr",
     "output_type": "stream",
     "text": [
      " 84%|████████▍ | 42/50 [00:13<00:02,  3.10it/s]"
     ]
    },
    {
     "name": "stdout",
     "output_type": "stream",
     "text": [
      "Epoch 41 - Validation loss: 0.6931627049730299\n"
     ]
    },
    {
     "name": "stderr",
     "output_type": "stream",
     "text": [
      " 86%|████████▌ | 43/50 [00:13<00:02,  3.15it/s]"
     ]
    },
    {
     "name": "stdout",
     "output_type": "stream",
     "text": [
      "Epoch 42 - Validation loss: 0.6931626093226915\n"
     ]
    },
    {
     "name": "stderr",
     "output_type": "stream",
     "text": [
      " 88%|████████▊ | 44/50 [00:14<00:01,  3.12it/s]"
     ]
    },
    {
     "name": "stdout",
     "output_type": "stream",
     "text": [
      "Epoch 43 - Validation loss: 0.6931627647995465\n"
     ]
    },
    {
     "name": "stderr",
     "output_type": "stream",
     "text": [
      " 90%|█████████ | 45/50 [00:14<00:01,  3.03it/s]"
     ]
    },
    {
     "name": "stdout",
     "output_type": "stream",
     "text": [
      "Epoch 44 - Validation loss: 0.6931618766420206\n"
     ]
    },
    {
     "name": "stderr",
     "output_type": "stream",
     "text": [
      " 92%|█████████▏| 46/50 [00:14<00:01,  3.08it/s]"
     ]
    },
    {
     "name": "stdout",
     "output_type": "stream",
     "text": [
      "Epoch 45 - Validation loss: 0.6931623094169692\n"
     ]
    },
    {
     "name": "stderr",
     "output_type": "stream",
     "text": [
      " 94%|█████████▍| 47/50 [00:15<00:01,  2.96it/s]"
     ]
    },
    {
     "name": "stdout",
     "output_type": "stream",
     "text": [
      "Epoch 46 - Validation loss: 0.69316349113225\n"
     ]
    },
    {
     "name": "stderr",
     "output_type": "stream",
     "text": [
      " 96%|█████████▌| 48/50 [00:15<00:00,  2.93it/s]"
     ]
    },
    {
     "name": "stdout",
     "output_type": "stream",
     "text": [
      "Epoch 47 - Validation loss: 0.6931634796051717\n"
     ]
    },
    {
     "name": "stderr",
     "output_type": "stream",
     "text": [
      " 98%|█████████▊| 49/50 [00:15<00:00,  2.99it/s]"
     ]
    },
    {
     "name": "stdout",
     "output_type": "stream",
     "text": [
      "Epoch 48 - Validation loss: 0.6931622041134876\n"
     ]
    },
    {
     "name": "stderr",
     "output_type": "stream",
     "text": [
      "100%|██████████| 50/50 [00:16<00:00,  3.08it/s]"
     ]
    },
    {
     "name": "stdout",
     "output_type": "stream",
     "text": [
      "Epoch 49 - Validation loss: 0.693162221802268\n"
     ]
    },
    {
     "name": "stderr",
     "output_type": "stream",
     "text": [
      "\n"
     ]
    }
   ],
   "source": [
    "mlp_model = MLPClassifier(input_size=300, hidden_size=128, output_size=1)\n",
    "nb_epochs = 50\n",
    "train_losses, valid_losses = [], []\n",
    "\n",
    "best_model = mlp_model\n",
    "best_validation_loss = np.Inf\n",
    "\n",
    "\n",
    "\n",
    "# Train the model with MLPClassifier\n",
    "for epoch in tqdm(range(nb_epochs)):\n",
    "    # training\n",
    "    train_loader = train_gen()\n",
    "    loss_batchs = []\n",
    "    for X, y in train_loader:\n",
    "        X, y = X.to(device), y.to(device).reshape(-1, 1)\n",
    "        optimizer.zero_grad()\n",
    "        output = mlp_model(X)\n",
    "        loss = criterion(output, y.float())\n",
    "        loss.backward()\n",
    "        optimizer.step()\n",
    "        loss_batchs.append(loss.item())\n",
    "    train_losses.append(np.mean(loss_batchs))\n",
    "\n",
    "    # validation\n",
    "    mlp_model.eval()\n",
    "    x = valid_gen()\n",
    "    loss_batchs_valid = []\n",
    "    for X, y in x:\n",
    "        X, y = X.to(device), y.to(device).reshape(-1, 1)\n",
    "        optimizer.zero_grad()\n",
    "        output = mlp_model(X)\n",
    "        loss = criterion(output, y.float())\n",
    "        loss.backward()\n",
    "        optimizer.step()\n",
    "        loss_batchs_valid.append(loss.item())\n",
    "    \n",
    "    \n",
    "    valid_losses.append(np.mean(loss_batchs_valid))\n",
    "    print(f\"Epoch {epoch} - Validation loss: {np.mean(valid_losses)}\")\n",
    "    \n",
    "    if np.mean(valid_losses) < best_validation_loss:\n",
    "        best_model = mlp_model\n",
    "        best_validation_loss = np.mean(valid_losses)\n",
    "\n",
    "mlp_model = copy.deepcopy(best_model)"
   ]
  },
  {
   "cell_type": "code",
   "execution_count": 74,
   "id": "cf8030f5",
   "metadata": {},
   "outputs": [
    {
     "name": "stdout",
     "output_type": "stream",
     "text": [
      "Accuracy on the training set: 0.80525\n",
      "Accuracy on the validation set: 0.8016\n",
      "Accuracy on the test set: 0.79692\n"
     ]
    },
    {
     "data": {
      "image/png": "[encoded data removed]",
      "text/plain": [
       "<Figure size 640x480 with 1 Axes>"
      ]
     },
     "metadata": {},
     "output_type": "display_data"
    }
   ],
   "source": [
    "plt.plot(train_losses, label=\"train loss\")\n",
    "plt.plot(valid_losses, label=\"valid loss\")\n",
    "plt.legend()\n",
    "\n",
    "print(f\"Accuracy on the training set: {accuracy(model, X_train, y_train)}\")\n",
    "print(f\"Accuracy on the validation set: {accuracy(model, X_valid, y_valid)}\")\n",
    "print(f\"Accuracy on the test set: {accuracy(model, X_test, y_test)}\")"
   ]
  }
 ],
 "metadata": {
  "kernelspec": {
   "display_name": "scia",
   "language": "python",
   "name": "python3"
  },
  "language_info": {
   "codemirror_mode": {
    "name": "ipython",
    "version": 3
   },
   "file_extension": ".py",
   "mimetype": "text/x-python",
   "name": "python",
   "nbconvert_exporter": "python",
   "pygments_lexer": "ipython3",
   "version": "3.11.2"
  },
  "vscode": {
   "interpreter": {
    "hash": "ea9312fc9c2d6329322094b403542e3a8436f2615ce450c7872cc3a27bdb75bb"
   }
  }
 },
 "nbformat": 4,
 "nbformat_minor": 5
}
