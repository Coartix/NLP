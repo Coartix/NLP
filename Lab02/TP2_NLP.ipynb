{
 "cells": [
  {
   "cell_type": "markdown",
   "metadata": {},
   "source": [
    "# TP2 :  Logistic regression for NLP"
   ]
  },
  {
   "cell_type": "code",
   "execution_count": 7,
   "metadata": {},
   "outputs": [],
   "source": [
    "import pandas as pd\n",
    "import numpy as np\n",
    "import math\n",
    "import matplotlib.pyplot as plt\n",
    "\n",
    "from datasets import load_dataset\n",
    "from string import punctuation\n",
    "from sklearn.model_selection import train_test_split\n",
    "import torch\n",
    "from torch import nn"
   ]
  },
  {
   "cell_type": "markdown",
   "metadata": {},
   "source": [
    "## Dataset"
   ]
  },
  {
   "cell_type": "code",
   "execution_count": 25,
   "metadata": {},
   "outputs": [
    {
     "name": "stderr",
     "output_type": "stream",
     "text": [
      "Found cached dataset imdb (/home/coartix/.cache/huggingface/datasets/imdb/plain_text/1.0.0/d613c88cf8fa3bab83b4ded3713f1f74830d1100e171db75bbddb80b3345c9c0)\n"
     ]
    },
    {
     "data": {
      "application/vnd.jupyter.widget-view+json": {
       "model_id": "cc08765164d44a7eb7207f663756825a",
       "version_major": 2,
       "version_minor": 0
      },
      "text/plain": [
       "  0%|          | 0/3 [00:00<?, ?it/s]"
      ]
     },
     "metadata": {},
     "output_type": "display_data"
    }
   ],
   "source": [
    "dataset = load_dataset(\"imdb\")"
   ]
  },
  {
   "cell_type": "code",
   "execution_count": 3,
   "metadata": {},
   "outputs": [],
   "source": [
    "pd.set_option('display.max_colwidth', 100)\n",
    "df_train = pd.DataFrame(dataset['train'])\n",
    "df_test = pd.DataFrame(dataset['test'])\n",
    "df_unsupervised = pd.DataFrame(dataset['unsupervised'])\n",
    "labels = df_train[\"label\"].unique()"
   ]
  },
  {
   "cell_type": "code",
   "execution_count": 4,
   "metadata": {},
   "outputs": [],
   "source": [
    "def preprocessingString(text: str) -> str:\n",
    "    '''\n",
    "        Preprocessing string\n",
    "        Input:\n",
    "            text: string\n",
    "        Output:\n",
    "            text: string\n",
    "    '''\n",
    "    text = text.lower().replace(\"<br />\", \" \")\n",
    "    for punct in punctuation:\n",
    "        if (not punct in str(\"-\")):\n",
    "            text = text.replace(punct, \" \")\n",
    "    return text"
   ]
  },
  {
   "cell_type": "markdown",
   "metadata": {},
   "source": [
    "## Extract features \n",
    "\n",
    "For every given text, we want to generate a vector with some featues.\n",
    "\n",
    "- 1 if \"no\" appears in the document, 0 otherwise.\n",
    "- The count of first and second pronouns in the document.\n",
    "- 1 if \"!\" is in the document, 0 otherwise.\n",
    "- Log(word count in the document).\n",
    "- Number of words in the document which are in the positive lexicon.\n",
    "- Number of words in the document which are in the negative lexicon.\n",
    "\n",
    "For positive and negative lexicons, you can use the resources provided by VADER sentiment. Look for the vader_lexicon.txt file and consider positive word if they score above a certain threshold (for example 1) and negative word if they score below a certain threshold (for example -1). Feel free to use another lexicon if you find one, but make sure you document your choice."
   ]
  },
  {
   "cell_type": "code",
   "execution_count": 6,
   "metadata": {},
   "outputs": [],
   "source": [
    "def parseLexicon(lexiconFile):\n",
    "    lexicon = {}\n",
    "    with open(lexiconFile, 'r') as f:\n",
    "        for line in f:\n",
    "            word, score = line.split('\\t')[:2]\n",
    "            if float(score) >= 1:\n",
    "                lexicon[word] = 1\n",
    "            elif float(score) <= -1:\n",
    "                lexicon[word] = 0\n",
    "    return lexicon\n",
    "\n",
    "lexicon = parseLexicon('vader_lexicon.txt')"
   ]
  },
  {
   "attachments": {},
   "cell_type": "markdown",
   "metadata": {},
   "source": [
    "\n",
    "The getFeature function outputs a vector containing the 6 features needed and 1 bonus feature wich is the number of negation words.\n",
    "\n",
    "A negation word is a word wich negate a sentance like \"not\" or \"don't\""
   ]
  },
  {
   "cell_type": "code",
   "execution_count": 9,
   "metadata": {},
   "outputs": [],
   "source": [
    "negateWords = [\"aint\", \"arent\", \"cannot\", \"cant\", \"couldnt\", \"darent\", \"didnt\", \"doesnt\",\n",
    "     \"ain't\", \"aren't\", \"can't\", \"couldn't\", \"daren't\", \"didn't\", \"doesn't\",\n",
    "     \"dont\", \"hadnt\", \"hasnt\", \"havent\", \"isnt\", \"mightnt\", \"mustnt\", \"neither\",\n",
    "     \"don't\", \"hadn't\", \"hasn't\", \"haven't\", \"isn't\", \"mightn't\", \"mustn't\",\n",
    "     \"neednt\", \"needn't\", \"never\", \"none\", \"nope\", \"nor\", \"not\", \"nothing\", \"nowhere\",\n",
    "     \"oughtnt\", \"shant\", \"shouldnt\", \"uhuh\", \"wasnt\", \"werent\",\n",
    "     \"oughtn't\", \"shan't\", \"shouldn't\", \"uh-uh\", \"wasn't\", \"weren't\",\n",
    "     \"without\", \"wont\", \"wouldnt\", \"won't\", \"wouldn't\", \"rarely\", \"seldom\", \"despite\"]\n",
    "\n",
    "def getFeatures(text, lexicon):\n",
    "    features = []\n",
    "    features.append(1 if \"no\" in text else 0)\n",
    "    features.append(text.count(\"i\") + text.count('you'))\n",
    "    features.append(1 if \"!\" in text else 0)\n",
    "    features.append(math.log(len(text.split())))\n",
    "    nb_pos = 0\n",
    "    nb_neg = 0\n",
    "    nb_negate = 0\n",
    "    for word in text.split():\n",
    "        if word in lexicon:\n",
    "            if lexicon[word] == 1:\n",
    "                nb_pos += 1\n",
    "            else:\n",
    "                nb_neg += 1\n",
    "        if word in negateWords:\n",
    "            nb_negate += 1\n",
    "    features.append(nb_pos)\n",
    "    features.append(nb_neg)\n",
    "    #Bonus\n",
    "    features.append(nb_negate)\n",
    "    return features"
   ]
  },
  {
   "cell_type": "code",
   "execution_count": 11,
   "metadata": {},
   "outputs": [],
   "source": [
    "df_train['text'] = df_train['text'].apply(preprocessingString)\n",
    "df_test['text'] = df_test['text'].apply(preprocessingString)"
   ]
  },
  {
   "attachments": {},
   "cell_type": "markdown",
   "metadata": {},
   "source": [
    "We regroup our features into the dataframes `df_train_features` and `df_test_features` :"
   ]
  },
  {
   "cell_type": "code",
   "execution_count": 12,
   "metadata": {},
   "outputs": [],
   "source": [
    "def pandasToFeatures(df):\n",
    "    arr = df[\"text\"].apply(lambda x : getFeatures(x, lexicon)).values\n",
    "    index = np.arange(len(df_train['text'].values))\n",
    "    columns=['contains_no', 'count_pronouns', 'contains!', 'log_wordcount', 'nbr_positive', 'nbr_negative', 'negate_word']\n",
    "    \n",
    "    df_features = pd.DataFrame.from_dict(data=dict(zip(index, arr)), orient='index', columns=columns)\n",
    "    df_features['label'] = df['label']\n",
    "    return df_features"
   ]
  },
  {
   "cell_type": "code",
   "execution_count": 13,
   "metadata": {},
   "outputs": [
    {
     "data": {
      "text/html": [
       "<div>\n",
       "<style scoped>\n",
       "    .dataframe tbody tr th:only-of-type {\n",
       "        vertical-align: middle;\n",
       "    }\n",
       "\n",
       "    .dataframe tbody tr th {\n",
       "        vertical-align: top;\n",
       "    }\n",
       "\n",
       "    .dataframe thead th {\n",
       "        text-align: right;\n",
       "    }\n",
       "</style>\n",
       "<table border=\"1\" class=\"dataframe\">\n",
       "  <thead>\n",
       "    <tr style=\"text-align: right;\">\n",
       "      <th></th>\n",
       "      <th>contains_no</th>\n",
       "      <th>count_pronouns</th>\n",
       "      <th>contains!</th>\n",
       "      <th>log_wordcount</th>\n",
       "      <th>nbr_positive</th>\n",
       "      <th>nbr_negative</th>\n",
       "      <th>negate_word</th>\n",
       "      <th>label</th>\n",
       "    </tr>\n",
       "  </thead>\n",
       "  <tbody>\n",
       "    <tr>\n",
       "      <th>0</th>\n",
       "      <td>1</td>\n",
       "      <td>100</td>\n",
       "      <td>0</td>\n",
       "      <td>5.662960</td>\n",
       "      <td>7</td>\n",
       "      <td>6</td>\n",
       "      <td>1</td>\n",
       "      <td>0</td>\n",
       "    </tr>\n",
       "    <tr>\n",
       "      <th>1</th>\n",
       "      <td>1</td>\n",
       "      <td>87</td>\n",
       "      <td>0</td>\n",
       "      <td>5.407172</td>\n",
       "      <td>6</td>\n",
       "      <td>4</td>\n",
       "      <td>4</td>\n",
       "      <td>0</td>\n",
       "    </tr>\n",
       "    <tr>\n",
       "      <th>2</th>\n",
       "      <td>1</td>\n",
       "      <td>43</td>\n",
       "      <td>0</td>\n",
       "      <td>4.510860</td>\n",
       "      <td>3</td>\n",
       "      <td>3</td>\n",
       "      <td>1</td>\n",
       "      <td>0</td>\n",
       "    </tr>\n",
       "    <tr>\n",
       "      <th>3</th>\n",
       "      <td>1</td>\n",
       "      <td>50</td>\n",
       "      <td>0</td>\n",
       "      <td>4.795791</td>\n",
       "      <td>5</td>\n",
       "      <td>5</td>\n",
       "      <td>1</td>\n",
       "      <td>0</td>\n",
       "    </tr>\n",
       "    <tr>\n",
       "      <th>4</th>\n",
       "      <td>1</td>\n",
       "      <td>112</td>\n",
       "      <td>0</td>\n",
       "      <td>5.743003</td>\n",
       "      <td>4</td>\n",
       "      <td>11</td>\n",
       "      <td>1</td>\n",
       "      <td>0</td>\n",
       "    </tr>\n",
       "  </tbody>\n",
       "</table>\n",
       "</div>"
      ],
      "text/plain": [
       "   contains_no  count_pronouns  contains!  log_wordcount  nbr_positive  \\\n",
       "0            1             100          0       5.662960             7   \n",
       "1            1              87          0       5.407172             6   \n",
       "2            1              43          0       4.510860             3   \n",
       "3            1              50          0       4.795791             5   \n",
       "4            1             112          0       5.743003             4   \n",
       "\n",
       "   nbr_negative  negate_word  label  \n",
       "0             6            1      0  \n",
       "1             4            4      0  \n",
       "2             3            1      0  \n",
       "3             5            1      0  \n",
       "4            11            1      0  "
      ]
     },
     "execution_count": 13,
     "metadata": {},
     "output_type": "execute_result"
    }
   ],
   "source": [
    "df_train_features = pandasToFeatures(df_train)\n",
    "df_test_features = pandasToFeatures(df_test)\n",
    "df_train_features.head()"
   ]
  },
  {
   "cell_type": "markdown",
   "metadata": {},
   "source": [
    "## Logistic regression classifier\n"
   ]
  },
  {
   "cell_type": "code",
   "execution_count": 14,
   "metadata": {},
   "outputs": [
    {
     "data": {
      "text/plain": [
       "torch.Size([18000, 7])"
      ]
     },
     "execution_count": 14,
     "metadata": {},
     "output_type": "execute_result"
    }
   ],
   "source": [
    "train_col = df_train_features.columns[:-1]\n",
    "all_points = torch.tensor(df_train_features[train_col].values, dtype=torch.float32)\n",
    "labels = torch.tensor(df_train_features['label'].values, dtype=torch.float32).reshape(-1, 1)\n",
    "\n",
    "X_train, X_test, y_train, y_test = train_test_split(\n",
    "    all_points,\n",
    "    labels,\n",
    "    test_size=0.2,\n",
    "    stratify=labels,\n",
    "    random_state=42,\n",
    ")\n",
    "X_train, X_valid, y_train, y_valid = train_test_split(\n",
    "    X_train,\n",
    "    y_train,\n",
    "    test_size=0.1,\n",
    "    stratify=y_train,\n",
    "    random_state=42,\n",
    ")\n",
    "X_train.shape"
   ]
  },
  {
   "cell_type": "code",
   "execution_count": 15,
   "metadata": {},
   "outputs": [],
   "source": [
    "class LogisticRegression(nn.Module):\n",
    "    \"\"\"A logistic regression implementation\"\"\"\n",
    "\n",
    "    def __init__(self, input_dim: int, nb_classes: int) -> None:\n",
    "        \"\"\"\n",
    "        Args:\n",
    "            input_dim: the dimension of the input features.\n",
    "            nb_classes: the number of classes to predict.\n",
    "        \"\"\"\n",
    "        super().__init__()\n",
    "        output_layer = nn.Sigmoid() if nb_classes == 1 else nn.Softmax()\n",
    "        self.classifier = torch.nn.Sequential(\n",
    "            nn.Linear(input_dim, nb_classes),\n",
    "            output_layer,\n",
    "        )\n",
    "\n",
    "    def forward(self, x: torch.Tensor) -> torch.Tensor:\n",
    "        \"\"\"\n",
    "        Args:\n",
    "            x: the input tensor.\n",
    "        Returns:\n",
    "            The output of activation function.\n",
    "        \"\"\"\n",
    "        return self.classifier(x)"
   ]
  },
  {
   "attachments": {},
   "cell_type": "markdown",
   "metadata": {},
   "source": [
    "#### Training the model"
   ]
  },
  {
   "cell_type": "code",
   "execution_count": 16,
   "metadata": {},
   "outputs": [],
   "source": [
    "model = LogisticRegression(7, 1)\n",
    "criterion = nn.BCELoss()  # Binary cross entropy\n",
    "# Stochastic gradient descent\n",
    "optimizer = torch.optim.SGD(model.parameters(), lr=0.001, weight_decay=0.5)"
   ]
  },
  {
   "cell_type": "code",
   "execution_count": 17,
   "metadata": {},
   "outputs": [
    {
     "name": "stdout",
     "output_type": "stream",
     "text": [
      "tensor(0.9005, grad_fn=<BinaryCrossEntropyBackward0>)\n",
      "tensor(0.5740, grad_fn=<BinaryCrossEntropyBackward0>)\n",
      "tensor(0.5753, grad_fn=<BinaryCrossEntropyBackward0>)\n",
      "tensor(0.5759, grad_fn=<BinaryCrossEntropyBackward0>)\n",
      "tensor(0.5760, grad_fn=<BinaryCrossEntropyBackward0>)\n",
      "CPU times: user 16.5 s, sys: 31.7 ms, total: 16.5 s\n",
      "Wall time: 4.17 s\n"
     ]
    }
   ],
   "source": [
    "%%time\n",
    "\n",
    "def train(model, criterion, optimizer, X_train, y_train, X_valid, y_valid, n_epochs=1000, pretty_print=True):\n",
    "    # Keeping an eye on the losses\n",
    "    train_losses = []\n",
    "    test_losses = []\n",
    "\n",
    "    # Training loop\n",
    "    for epoch in range(n_epochs):\n",
    "        # Setting all gradients to zero.\n",
    "        optimizer.zero_grad()\n",
    "\n",
    "        # Sending the whole training set through the model.\n",
    "        predictions = model(X_train)\n",
    "        # Computing the loss.\n",
    "        loss = criterion(predictions, y_train)\n",
    "        train_losses.append(loss.item())\n",
    "        if epoch % 1000 == 0 and pretty_print:\n",
    "            print(loss)\n",
    "        # Computing the gradients and gradient descent.\n",
    "        loss.backward()\n",
    "        optimizer.step()\n",
    "\n",
    "        # When computing the validation loss, we do not want to update the weights.\n",
    "        # torch.no_grad tells PyTorch to not save the necessary data used for\n",
    "        # gradient descent.\n",
    "        with torch.no_grad():\n",
    "            predictions = model(X_valid)\n",
    "            loss = criterion(predictions, y_valid)\n",
    "            test_losses.append(loss)\n",
    "    return train_losses, test_losses\n",
    "\n",
    "train_losses, test_losses = train(model, criterion, optimizer, X_train, y_train, X_valid, y_valid, n_epochs=5000)"
   ]
  },
  {
   "attachments": {},
   "cell_type": "markdown",
   "metadata": {},
   "source": [
    "## Loss results\n",
    "\n",
    "First training loss:  0.9004537463188171  \n",
    "Final training loss:  0.5760501027107239  \n",
    "First test loss:  tensor(0.6164)  \n",
    "Final test loss:  tensor(0.5801)  "
   ]
  },
  {
   "cell_type": "code",
   "execution_count": 19,
   "metadata": {},
   "outputs": [
    {
     "data": {
      "text/plain": [
       "<matplotlib.legend.Legend at 0x7f45050668c0>"
      ]
     },
     "execution_count": 19,
     "metadata": {},
     "output_type": "execute_result"
    },
    {
     "data": {
      "image/png": "[encoded data removed]",
      "text/plain": [
       "<Figure size 640x480 with 1 Axes>"
      ]
     },
     "metadata": {},
     "output_type": "display_data"
    }
   ],
   "source": [
    "# Checking the losses\n",
    "plt.plot(np.arange(len(train_losses)), train_losses, label=\"Training loss\")\n",
    "plt.plot(np.arange(len(test_losses)), test_losses, label=\"Test loss\")\n",
    "plt.legend()\n"
   ]
  },
  {
   "attachments": {},
   "cell_type": "markdown",
   "metadata": {},
   "source": [
    "#### Evaluate your classifier in terms of accuracy for the training, validation, and test set."
   ]
  },
  {
   "cell_type": "code",
   "execution_count": 20,
   "metadata": {},
   "outputs": [
    {
     "name": "stdout",
     "output_type": "stream",
     "text": [
      "0.7267222222222223 0.7025 0.7132\n"
     ]
    }
   ],
   "source": [
    "# Computing the accuracy for our 3 splits.\n",
    "with torch.no_grad():\n",
    "    p_train = model(X_train)\n",
    "    p_train = np.round(p_train.numpy())\n",
    "    training_accuracy = np.mean(p_train == y_train.numpy())\n",
    "    p_valid = model(X_valid)\n",
    "    p_valid = np.round(p_valid.numpy())\n",
    "    valid_accuracy = np.mean(p_valid == y_valid.numpy())\n",
    "    p_test = model(X_test)\n",
    "    p_test = np.round(p_test.numpy())\n",
    "    test_accuracy = np.mean(p_test == y_test.numpy())\n",
    "print(training_accuracy, valid_accuracy, test_accuracy)"
   ]
  },
  {
   "attachments": {},
   "cell_type": "markdown",
   "metadata": {},
   "source": [
    "results :\n",
    "training accuracy : 0.726\n",
    "validation accuracy : 0.7025\n",
    "test acccuracy : 0.7132\n",
    "\n",
    "We can see that the classifier is more accurate than random on all the datasets although it is less accurate than our Naive Bayes Classifier. \n",
    "The validation set accuracy and the testing set accuracy are quite close so our model does not overfit."
   ]
  },
  {
   "attachments": {},
   "cell_type": "markdown",
   "metadata": {},
   "source": [
    "### Look at the weights of your classifier. Which features seems to play most for both classes ?\n"
   ]
  },
  {
   "cell_type": "code",
   "execution_count": 21,
   "metadata": {},
   "outputs": [
    {
     "data": {
      "text/plain": [
       "(tensor([[ 0.0082,  0.0075,  0.0116, -0.0505,  0.1020, -0.1755, -0.0958]]),\n",
       " tensor([0.0127]))"
      ]
     },
     "execution_count": 21,
     "metadata": {},
     "output_type": "execute_result"
    }
   ],
   "source": [
    "# Looking at the model's weights and bias.\n",
    "model.classifier[0].state_dict()[\"weight\"], model.classifier[0].state_dict()[\"bias\"]"
   ]
  },
  {
   "attachments": {},
   "cell_type": "markdown",
   "metadata": {},
   "source": [
    "The key feature used to detect if a sentence is positive is the number of words in the document wich are in the positive lexicon.\n",
    "\n",
    "Not so surprising is that the key feature to detect if a sentence is negative is the number of words in the document which are in the negative lexicon."
   ]
  },
  {
   "attachments": {},
   "cell_type": "markdown",
   "metadata": {},
   "source": [
    "### [Bonus] The parameter weight_decay of the SGD optimizer corresponds to the L2 penalty. Try playing with this value and explain how it influence the model's weights."
   ]
  },
  {
   "cell_type": "code",
   "execution_count": 22,
   "metadata": {},
   "outputs": [
    {
     "name": "stdout",
     "output_type": "stream",
     "text": [
      "Weight decay:  0.01\n",
      "tensor([[ 0.0348,  0.0092, -0.1278, -0.1362,  0.1339, -0.2038, -0.0442]]) tensor([-0.0464])\n",
      "Weight decay:  0.1\n",
      "tensor([[-0.0602,  0.0062, -0.0593,  0.0596,  0.1052, -0.1879, -0.1111]]) tensor([-0.2799])\n",
      "Weight decay:  0.5\n",
      "tensor([[-0.1511,  0.0083,  0.0306, -0.0931,  0.1153, -0.1610, -0.1859]]) tensor([0.2105])\n",
      "Weight decay:  1\n",
      "tensor([[ 0.0209,  0.0045, -0.0109, -0.0085,  0.0897, -0.1523, -0.0266]]) tensor([-0.1434])\n",
      "Weight decay:  2\n",
      "tensor([[-0.0450,  0.0074,  0.0096, -0.0122,  0.0775, -0.1278, -0.0571]]) tensor([-0.0156])\n",
      "Weight decay:  5\n",
      "tensor([[-0.0041, -0.0056, -0.0013, -0.0116,  0.0590, -0.0955, -0.0188]]) tensor([-0.0036])\n",
      "Weight decay:  10\n",
      "tensor([[-2.1696e-03,  1.1099e-02,  1.3009e-05, -5.8495e-03,  4.3885e-02,\n",
      "         -6.2728e-02, -1.0262e-02]]) tensor([-0.0011])\n",
      "Weight decay:  20\n",
      "tensor([[-1.0573e-03,  1.1570e-02,  2.9669e-11, -2.6062e-03,  2.7620e-02,\n",
      "         -3.6591e-02, -5.2268e-03]]) tensor([-0.0005])\n",
      "Weight decay:  100\n",
      "tensor([[-3.3155e-04, -1.1361e-02,  5.6052e-45, -1.1942e-03,  4.7183e-03,\n",
      "         -9.7403e-03, -1.4199e-03]]) tensor([-0.0002])\n"
     ]
    }
   ],
   "source": [
    "# param grid for weight decay\n",
    "param_grid = {\"weight_decay\": [0.01, 0.1, 0.5, 1, 2, 5, 10, 20, 100]}\n",
    "# Grid search\n",
    "for elt in param_grid[\"weight_decay\"]:\n",
    "    model_w = LogisticRegression(7, 1)\n",
    "    criterion_w = nn.BCELoss()  # Binary cross entropy\n",
    "    optimizer_w = torch.optim.SGD(model_w.parameters(), lr=0.001, weight_decay=elt)\n",
    "    train_losses, test_losses = train(model_w, criterion_w, optimizer_w, X_train, y_train, X_valid, y_valid, n_epochs=1000, pretty_print=False)\n",
    "    print(\"Weight decay: \", elt)\n",
    "    print(model_w.classifier[0].state_dict()[\"weight\"], model_w.classifier[0].state_dict()[\"bias\"])\n",
    "\n"
   ]
  },
  {
   "attachments": {},
   "cell_type": "markdown",
   "metadata": {},
   "source": [
    "Increasing the weight decay parameter let the weights have much more extreme values."
   ]
  },
  {
   "attachments": {},
   "cell_type": "markdown",
   "metadata": {},
   "source": [
    "### Take two wrongly classified samples in the test set and try explaining why the model was wrong.\n",
    "\n",
    "feature meaning : [contains_no, count_pronoun, contains!, log_wordcount, nbr_positive, nbr_negative, negate_word\t]  \n",
    "feature for example 1 :  [1, 40, 0, 4.912654885736052, 12, 2, 4]  \n",
    "feature for example 2 :  [1, 47, 0, 4.882801922586371, 7, 9, 0]  "
   ]
  },
  {
   "cell_type": "code",
   "execution_count": 23,
   "metadata": {},
   "outputs": [
    {
     "data": {
      "text/html": [
       "<div>\n",
       "<style scoped>\n",
       "    .dataframe tbody tr th:only-of-type {\n",
       "        vertical-align: middle;\n",
       "    }\n",
       "\n",
       "    .dataframe tbody tr th {\n",
       "        vertical-align: top;\n",
       "    }\n",
       "\n",
       "    .dataframe thead th {\n",
       "        text-align: right;\n",
       "    }\n",
       "</style>\n",
       "<table border=\"1\" class=\"dataframe\">\n",
       "  <thead>\n",
       "    <tr style=\"text-align: right;\">\n",
       "      <th></th>\n",
       "      <th>text</th>\n",
       "      <th>label</th>\n",
       "      <th>ai_pred</th>\n",
       "    </tr>\n",
       "  </thead>\n",
       "  <tbody>\n",
       "    <tr>\n",
       "      <th>4</th>\n",
       "      <td>first off let me say  if you haven t enjoyed a van damme movie since bloodsport  you probably will not like this movie  most of these movies may not have the best plots or best actors but i enjoy these kinds of movies for what they are  this movie is much better than any of the movies the other action guys  segal and dolph  have thought about putting out the past few years  van damme is good in the movie  the movie is only worth watching to van damme fans  it is not as good as wake of death  which i highly recommend to anyone of likes van damme  or in hell but  in my opinion it s worth watching  it has the same type of feel to it as nowhere to run  good fun stuff</td>\n",
       "      <td>0</td>\n",
       "      <td>1</td>\n",
       "    </tr>\n",
       "    <tr>\n",
       "      <th>24999</th>\n",
       "      <td>i caught this movie on the sci-fi channel recently  it actually turned out to be pretty decent as far as b-list horror suspense films go  two guys  one naive and one loud mouthed a    take a road trip to stop a wedding but have the worst possible luck when a maniac in a freaky  make-shift tank truck hybrid decides to play cat-and-mouse with them  things are further complicated when they pick up a ridiculously whorish hitchhiker  what makes this film unique is that the combination of comedy and terror actually work in this movie  unlike so many others  the two guys are likable enough and there are some good chase suspense scenes  nice pacing and comic timing make this movie more than passable for the horror slasher buff  definitely worth checking out</td>\n",
       "      <td>1</td>\n",
       "      <td>0</td>\n",
       "    </tr>\n",
       "  </tbody>\n",
       "</table>\n",
       "</div>"
      ],
      "text/plain": [
       "                                                                                                                                                                                                                                                                                                                                                                                                                                                                                                                                                                                                                                                                                                                                                                                           text  \\\n",
       "4                                                                                              first off let me say  if you haven t enjoyed a van damme movie since bloodsport  you probably will not like this movie  most of these movies may not have the best plots or best actors but i enjoy these kinds of movies for what they are  this movie is much better than any of the movies the other action guys  segal and dolph  have thought about putting out the past few years  van damme is good in the movie  the movie is only worth watching to van damme fans  it is not as good as wake of death  which i highly recommend to anyone of likes van damme  or in hell but  in my opinion it s worth watching  it has the same type of feel to it as nowhere to run  good fun stuff    \n",
       "24999  i caught this movie on the sci-fi channel recently  it actually turned out to be pretty decent as far as b-list horror suspense films go  two guys  one naive and one loud mouthed a    take a road trip to stop a wedding but have the worst possible luck when a maniac in a freaky  make-shift tank truck hybrid decides to play cat-and-mouse with them  things are further complicated when they pick up a ridiculously whorish hitchhiker  what makes this film unique is that the combination of comedy and terror actually work in this movie  unlike so many others  the two guys are likable enough and there are some good chase suspense scenes  nice pacing and comic timing make this movie more than passable for the horror slasher buff  definitely worth checking out    \n",
       "\n",
       "       label  ai_pred  \n",
       "4          0        1  \n",
       "24999      1        0  "
      ]
     },
     "execution_count": 23,
     "metadata": {},
     "output_type": "execute_result"
    }
   ],
   "source": [
    "# take wrong predictions and look at them\n",
    "with torch.no_grad():\n",
    "    y_pred = df_test['text'].apply(lambda text : (int)(np.round(model(torch.tensor(getFeatures(text, lexicon), dtype=torch.float32)))))\n",
    "df_wrong_pred = df_test[y_pred != df_test['label']].loc[:, ['text', 'label']]\n",
    "df_wrong_pred['ai_pred'] = y_pred.loc[y_pred!= df_test['label']]\n",
    "\n",
    "# take wrong predictions and look at their features\n",
    "pd.set_option('display.max_colwidth', None)\n",
    "df_wrong_pred.iloc[[0, -1]]"
   ]
  },
  {
   "attachments": {},
   "cell_type": "markdown",
   "metadata": {},
   "source": [
    "Here is two examples where the program should have return a class 0 and 1 (negative, positive).  \n",
    "\n",
    "The first one is a negative review but our model predicted it was a positive review because there is a lot of positive words in this example like \"best\" or \"like\" \"better\" \"good\" although they are used in a negative way or to compare to a better movie.\n",
    "\n",
    "The second one is a positive review but our model predicted it was negative, it is most likely because they are more negative words than positives one in this review, these negative words are used to describe the story not top criticize the movie but the model does not know that."
   ]
  },
  {
   "cell_type": "code",
   "execution_count": 24,
   "metadata": {},
   "outputs": [
    {
     "name": "stdout",
     "output_type": "stream",
     "text": [
      "scikit :  0.715 pytorch :  0.7132\n"
     ]
    }
   ],
   "source": [
    "# scikit-learn implementation\n",
    "from sklearn.linear_model import LogisticRegression\n",
    "from sklearn.metrics import accuracy_score\n",
    "\n",
    "# Training the model\n",
    "clf = LogisticRegression(random_state=42, max_iter=5000)\n",
    "clf.fit(X_train, y_train.ravel())\n",
    "\n",
    "# Checking the accuracy\n",
    "y_pred = clf.predict(X_test)\n",
    "\n",
    "# compare pytorch and scikit-learn accuracy\n",
    "print(\"scikit : \" ,accuracy_score(y_test, y_pred),\"pytorch : \", test_accuracy)\n"
   ]
  },
  {
   "attachments": {},
   "cell_type": "markdown",
   "metadata": {},
   "source": [
    "### **\\[Bonus\\]** Train logistic regression classifier using the [scikit-learn implementation](https://scikit-learn.org/stable/modules/generated/sklearn.linear_model.LogisticRegression.html). How does it compare with the PyTorch version?"
   ]
  },
  {
   "attachments": {},
   "cell_type": "markdown",
   "metadata": {},
   "source": [
    "Accuracy --> scikit :  0.715 pytorch :  0.7132\n",
    "\n",
    "Both implementations seems to have the same results with the same datasets and feature vectors."
   ]
  }
 ],
 "metadata": {
  "kernelspec": {
   "display_name": "scia",
   "language": "python",
   "name": "python3"
  },
  "language_info": {
   "codemirror_mode": {
    "name": "ipython",
    "version": 3
   },
   "file_extension": ".py",
   "mimetype": "text/x-python",
   "name": "python",
   "nbconvert_exporter": "python",
   "pygments_lexer": "ipython3",
   "version": "3.10.6"
  },
  "vscode": {
   "interpreter": {
    "hash": "ea9312fc9c2d6329322094b403542e3a8436f2615ce450c7872cc3a27bdb75bb"
   }
  }
 },
 "nbformat": 4,
 "nbformat_minor": 2
}
